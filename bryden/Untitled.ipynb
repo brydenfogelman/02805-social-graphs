{
 "cells": [
  {
   "cell_type": "code",
   "execution_count": 1,
   "metadata": {
    "collapsed": true
   },
   "outputs": [],
   "source": [
    "import networkx as nx\n",
    "import io\n",
    "import urllib\n",
    "import numpy as np\n",
    "import nltk\n",
    "import matplotlib.pyplot as plt\n",
    "import os\n",
    "import math\n",
    "import pickle\n",
    "%matplotlib inline"
   ]
  },
  {
   "cell_type": "code",
   "execution_count": 62,
   "metadata": {
    "collapsed": false
   },
   "outputs": [],
   "source": [
    "# create list to hold all lengths\n",
    "all_human_paths = {}\n",
    "\n",
    "# Open file\n",
    "f = io.open('./week8/wikispeedia_paths-and-graph/paths_finished.tsv', 'r', encoding='utf-8')\n",
    "for line in f:\n",
    "    # split on tabs\n",
    "    table = line.split()\n",
    "    \n",
    "    # skip all comments at the top of the file\n",
    "    if '#' in table or not table:\n",
    "        continue\n",
    "    \n",
    "    # the 4th column contains the path\n",
    "    path = table[3]\n",
    "    \n",
    "    # nodes are semi-colon delimited, convert to plain text\n",
    "    nodes = [urllib.unquote(str(node)).decode('utf8') for node in path.split(';')]\n",
    "    source = nodes[0]\n",
    "    target = nodes[-1]\n",
    "    \n",
    "    # if the source and target are the same the game is already over!\n",
    "    # errors being caused when dealing with GNU License\n",
    "    if source == target or 'Wikipedia_Text_of_the_GNU_Free_Documentation_License' in nodes:\n",
    "        continue\n",
    "    \n",
    "    ### TRIM BACKSPACED PAGES FROM PATH ###\n",
    "    backspace = '<'\n",
    "    while backspace in nodes:\n",
    "        # find index of first backspace\n",
    "        idx_backspace = nodes.index(backspace)\n",
    "        # remove back space character from path\n",
    "        del nodes[idx_backspace]\n",
    "        # remove backspaced page\n",
    "#         del nodes[idx_backspace-1]\n",
    "    \n",
    "    # path[source][target] = a list of list containing nodes in path\n",
    "    if source in all_human_paths:\n",
    "        if target in all_human_paths[source]:\n",
    "            all_human_paths[source][target].append(nodes)\n",
    "        else:\n",
    "            all_human_paths[source][target] = [nodes]\n",
    "    else:\n",
    "        all_human_paths[source] = {target: [nodes]}\n",
    "    \n",
    "# close file\n",
    "f.close()"
   ]
  },
  {
   "cell_type": "code",
   "execution_count": 14,
   "metadata": {
    "collapsed": false
   },
   "outputs": [
    {
     "name": "stdout",
     "output_type": "stream",
     "text": [
      "0\n",
      "[1, 1, 1, 3, 4, 5]\n",
      "Art Byzantine_Empire [[u'Globalization', u'Mongol_Empire', u'Ottoman_Empire'], [u'Architecture', u'Ancient_Rome'], [u'Ancient_Rome']]\n",
      "Art Robinson_Crusoe [[u'Literature', u'Novel']]\n",
      "Art Batman [[u'Literature', u'Graphic_novel', u'Comics', u'Superman']]\n",
      "Art Nature [[u'Architecture', u'Science']]\n",
      "Art Mango [[u'Painting', u'Drawing', u'Computer', u'Python_(programming_language)', u'Macintosh', u'IPod', u'Hong_Kong', u'Fruit'], [u'Human', u'Herbivore', u'Fruit'], [u'Human', u'Agriculture', u'Fruit'], [u'Mind', u'Love', u'Human', u'Technology', u'Dolphin', u'Whale', u'Milk', u'Meat', u'Food', u'Famine', u'Democracy', u'Liberal_democracy', u'Property', u'John_Locke', u'Bristol', u'England', u'British_Empire', u'Football_(soccer)', u'FIFA', u'World_War_I', u'Sarajevo', u'Ottoman_Empire', u'Siege', u'Leonardo_da_Vinci', u'Horse', u'Clothing', u'Insect', u'Hymenoptera', u'Triassic', u'Biosphere', u'Ecology', u'Cell_(biology)', u'Ostrich', u'Bird', u'Reptile', u'Heat', u'Hippocrates', u'William_Shakespeare', u'Poetry', u'Rapping', u'Jazz', u'Atlantic_slave_trade', u'Sugar', u'Brazil', u'Africa', u'Rainforest', u'Australia', u'Platypus', u'Protein', u'Potassium', u'Plant', u'Seed', u'Fruit'], [u'Sculpture', u'Sand_art_and_play', u'Child', u'Medicine', u'Tobacco', u'India'], [u'Painting', u'Nature', u'Plant', u'Tree', u'Apple', u'Fruit'], [u'China', u'Taiwan', u'Portugal', u'India'], [u'21st_century', u'Famine', u'Agriculture', u'Fruit'], [u'Human', u'Agriculture', u'Fruit'], [u'Emotion', u'Educational_psychology', u'Biology', u'Botany', u'Fruit'], [u'France', u'Spanish_language', u'South_America', u'Chile', u'Venezuela', u'Coffee', u'Citrus', u'Fruit'], [u'Painting', u'Nature', u'Plant', u'Arecaceae', u'Fruit'], [u'Painting', u'Nature', u'Plant', u'Fruit'], [u'Painting', u'Vincent_van_Gogh', u'Sunflower', u'Fruit'], [u'China', u'Biology', u'Plant', u'Fruit'], [u'Color', u'Fruit'], [u'Medicine', u'India', u'Indonesia', u'Jakarta', u'Black_pepper', u'Fruit'], [u'Color', u'Fruit'], [u'Color', u'Fruit'], [u'China', u'Drought', u'Agriculture', u'Fruit'], [u'Globalization', u'Pollution', u'Photosynthesis', u'Plant', u'Potato', u'Nutrition', u'Scurvy', u'Fruit'], [u'Painting', u'Nature', u'Plant', u'Fruit'], [u'Human', u'Earth', u'Food', u'Vitamin_C', u'Lemon', u'Fruit'], [u'Color', u'Rainbow', u'Sun', u'Photosynthesis', u'Plant', u'Herbivore', u'Fruit'], [u'Color', u'Rainbow', u'Ecuador', u'Banana', u'Fruit'], [u'Utilitarianism', u'Socialism', u'Money', u'Barley', u'Plant', u'Life', u'Earth', u'South_America', u'Brazil', u'Tropics', u'Climate', u'Weather', u'Forest', u'Tree', u'Apple', u'Fruit'], [u'Painting', u'Nature', u'Plant', u'Fruit'], [u'Science', u'Biology', u'Plant', u'Tree'], [u'Painting', u'Nature', u'Plant', u'Fruit'], [u'Painting', u'Nature', u'Plant', u'Seed', u'Fruit'], [u'Human', u'Culture', u'Agriculture', u'Fruit'], [u'Ancient_Egypt', u'Africa', u'Agriculture', u'Fruit']]\n"
     ]
    }
   ],
   "source": [
    "# Testing what is saved in all_human_paths\n",
    "key = 'Art'\n",
    "for target in all_human_paths[key].keys()[:5]:\n",
    "    print key, target, all_human_paths[key][target]\n"
   ]
  },
  {
   "cell_type": "code",
   "execution_count": 28,
   "metadata": {
    "collapsed": true
   },
   "outputs": [],
   "source": [
    "# Open file and create graph\n",
    "wikispedia_graph = nx.DiGraph()\n",
    "f = io.open('./week8/wikispeedia_paths-and-graph/links.tsv', 'r', encoding='utf-8')\n",
    "for line in f:\n",
    "    # split on tabs\n",
    "    links = line.split('\\t')\n",
    "    # skip all retrieved information that is not an edge\n",
    "    if len(links) != 2:\n",
    "        continue\n",
    "    out_node = urllib.unquote(str(links[0])).decode('utf8')\n",
    "    in_node = urllib.unquote(str(links[1]).replace('\\n','')).decode('utf8')\n",
    "    \n",
    "    wikispedia_graph.add_edge(out_node,in_node)\n",
    "    \n",
    "# close the file\n",
    "f.close()"
   ]
  },
  {
   "cell_type": "code",
   "execution_count": 29,
   "metadata": {
    "collapsed": true
   },
   "outputs": [],
   "source": [
    "# Find paths between every node\n",
    "all_shortest_paths = nx.shortest_path(wikispedia_graph)"
   ]
  },
  {
   "cell_type": "markdown",
   "metadata": {},
   "source": [
    "## Create TF-IDF Dictionary"
   ]
  },
  {
   "cell_type": "code",
   "execution_count": 15,
   "metadata": {
    "collapsed": true
   },
   "outputs": [],
   "source": [
    "def tokenizer(raw):\n",
    "    \n",
    "    # get tokens from raw text\n",
    "    tokens = nltk.word_tokenize(raw)\n",
    "    \n",
    "    # retrieve common stop words form nltk\n",
    "    stopwords = nltk.corpus.stopwords.words('english')\n",
    "    \n",
    "    # isalpha returns true when no special characters and numbers are in a string\n",
    "    # create stemmed list of tokens not found in remove words or when isaplha is not satisfied\n",
    "    return [t.lower() for t in set(tokens) if t.lower() not in stopwords and t.isalpha()]"
   ]
  },
  {
   "cell_type": "code",
   "execution_count": 16,
   "metadata": {
    "collapsed": false
   },
   "outputs": [
    {
     "name": "stdout",
     "output_type": "stream",
     "text": [
      "Opening dict saved to file\n"
     ]
    }
   ],
   "source": [
    "directory = './week8/plaintext_articles'\n",
    "tokens = {}\n",
    "\n",
    "try:\n",
    "    print('Opening dict saved to file')\n",
    "    with open('tokens.pickle', 'rb') as pickled_f:\n",
    "        tokens = pickle.load(pickled_f)\n",
    "        pickled_f.close()\n",
    "        \n",
    "except Exception as e:\n",
    "    print('Creating Dict')\n",
    "    for filename in os.listdir(directory):\n",
    "        f = io.open(directory + '/' + filename, encoding='utf-8')\n",
    "        raw = f.read()\n",
    "        name = urllib.unquote(str(filename.replace('.txt',''))).decode('utf8')\n",
    "        tokens[name] = tokenizer(raw)\n",
    "        f.close()\n",
    "\n",
    "    with open('tokens.pickle', 'wb') as pickled_f:\n",
    "            pickle.dump(tokens, pickled_f, pickle.HIGHEST_PROTOCOL)\n",
    "            pickled_f.close()"
   ]
  },
  {
   "cell_type": "code",
   "execution_count": 17,
   "metadata": {
    "collapsed": true
   },
   "outputs": [],
   "source": [
    "names = [name for name in tokens]\n",
    "\n",
    "tf = {}\n",
    "\n",
    "for name, words in tokens.iteritems():\n",
    "    fd = nltk.FreqDist(words)\n",
    "    tf[name] = dict(fd.items())"
   ]
  },
  {
   "cell_type": "code",
   "execution_count": 18,
   "metadata": {
    "collapsed": true
   },
   "outputs": [],
   "source": [
    "all_words = []\n",
    "for name, words in tokens.iteritems():\n",
    "    all_words.extend(set(words))\n",
    "    \n",
    "unique_words = set(all_words)\n",
    "\n",
    "occurences = dict.fromkeys(unique_words,0.)\n",
    "# total number of files\n",
    "N = len(tokens.keys()) \n",
    "\n",
    "for word in all_words:\n",
    "    occurences[word] += 1.\n",
    "    \n",
    "idf = {}\n",
    "for word, occurence in occurences.iteritems():\n",
    "    idf[word] = math.log(N / occurence,10)"
   ]
  },
  {
   "cell_type": "code",
   "execution_count": 19,
   "metadata": {
    "collapsed": true
   },
   "outputs": [],
   "source": [
    "tf_idf = {}\n",
    "\n",
    "# get all the words for each article\n",
    "for name, words in tokens.iteritems():\n",
    "    \n",
    "    tf_idf[name] = {}\n",
    "    # for every word inside of that article calculate the idf\n",
    "    for word in words:\n",
    "        tf_idf[name][word] = tf[name][word] * idf[word]"
   ]
  },
  {
   "cell_type": "markdown",
   "metadata": {},
   "source": [
    "## Calculate Average Similarities"
   ]
  },
  {
   "cell_type": "code",
   "execution_count": 20,
   "metadata": {
    "collapsed": true
   },
   "outputs": [],
   "source": [
    "def cosine_similarity(A,B):\n",
    "    '''\n",
    "    Returns the cosine similarity between 2 vectors represented as dictionaries.\n",
    "    '''\n",
    "    dot = 0.\n",
    "    \n",
    "    if len(B) < len(A):\n",
    "        A, B = B, A\n",
    "    \n",
    "    for word, value in A.iteritems():\n",
    "        dot += value * B.get(word,0)\n",
    "    \n",
    "    return dot / (np.linalg.norm(A.values()) * np.linalg.norm(B.values()))"
   ]
  },
  {
   "cell_type": "code",
   "execution_count": 42,
   "metadata": {
    "collapsed": true
   },
   "outputs": [],
   "source": [
    "def path_similarity(tf_idf, path):\n",
    "    \n",
    "    path_similarities = []\n",
    "    \n",
    "    # calculate the similarity between each neighboring node\n",
    "    for ii in xrange(0, len(path)-1):\n",
    "        # get two neighboring nodes\n",
    "        node1, node2 = path[ii], path[ii+1]\n",
    "        # retrieve a list of tokens with TF-IDF Values\n",
    "        A, B = tf_idf[node1], tf_idf[node2]\n",
    "        # calculate the similarity between the two vectors\n",
    "        cos_sim = cosine_similarity(A,B)\n",
    "        # save to list to calculate average similarity for path\n",
    "        path_similarities.append(cos_sim)\n",
    "        \n",
    "    return path_similarities"
   ]
  },
  {
   "cell_type": "markdown",
   "metadata": {},
   "source": [
    "### Human Similarities"
   ]
  },
  {
   "cell_type": "code",
   "execution_count": 86,
   "metadata": {
    "collapsed": false
   },
   "outputs": [],
   "source": [
    "human_similarities = []\n",
    "\n",
    "for source, targets in all_human_paths.iteritems(): \n",
    "    \n",
    "#     since the keys to the human_pairs dictionary are unique we can\n",
    "#     init the dictionary here\n",
    "#     human_similarities[source] = {}\n",
    "    \n",
    "    # for each target calculate the cosine similarity of the entire path\n",
    "    for target, paths in targets.iteritems():\n",
    "        \n",
    "        # hold the average value of each path\n",
    "        average_similarities = []\n",
    "        for path in paths:\n",
    "            # only consider paths greater then 2\n",
    "            if len(path) > 2:\n",
    "                # this list will hold the similarity of between each neighboring node\n",
    "                path_similarities = path_similarity(tf_idf, path)\n",
    "\n",
    "                # since there is multiple different paths the user can take we will save all\n",
    "                # of the similarities to a single list\n",
    "                average_similarities.append(np.average(path_similarities))\n",
    "        \n",
    "        # calculating the average similarity\n",
    "        if average_similarities:\n",
    "            average_similarity = np.average(average_similarities)\n",
    "            human_similarities.append(average_similarity)"
   ]
  },
  {
   "cell_type": "code",
   "execution_count": 87,
   "metadata": {
    "collapsed": false
   },
   "outputs": [
    {
     "name": "stdout",
     "output_type": "stream",
     "text": [
      "Average similarities stats:\n",
      "Mean: 0.096705\n",
      "Variance: 0.001034\n",
      "Min: 0.011318\n",
      "Max: 0.415048\n"
     ]
    }
   ],
   "source": [
    "print \"Average similarities stats:\"\n",
    "print \"Mean: %f\" % np.nanmean(human_similarities)\n",
    "print \"Variance: %f\" % np.nanvar(human_similarities)\n",
    "print \"Min: %f\" % min(human_similarities)\n",
    "print \"Max: %f\" % max(human_similarities)"
   ]
  },
  {
   "cell_type": "code",
   "execution_count": 81,
   "metadata": {
    "collapsed": false
   },
   "outputs": [
    {
     "data": {
      "text/plain": [
       "[nan, nan, nan, nan, nan, nan, nan, nan, nan, nan]"
      ]
     },
     "execution_count": 81,
     "metadata": {},
     "output_type": "execute_result"
    }
   ],
   "source": [
    "human_similarities[:10]"
   ]
  },
  {
   "cell_type": "raw",
   "metadata": {},
   "source": [
    "Average similarities stats:\n",
    "Mean: 0.097285\n",
    "Variance: 0.001101\n",
    "Min: 0.011318\n",
    "Max: 0.415048"
   ]
  },
  {
   "cell_type": "markdown",
   "metadata": {},
   "source": [
    "### Shortest Path Average Similarities"
   ]
  },
  {
   "cell_type": "code",
   "execution_count": 61,
   "metadata": {
    "collapsed": false
   },
   "outputs": [
    {
     "ename": "KeyboardInterrupt",
     "evalue": "",
     "output_type": "error",
     "traceback": [
      "\u001b[0;31m---------------------------------------------------------------------------\u001b[0m",
      "\u001b[0;31mKeyboardInterrupt\u001b[0m                         Traceback (most recent call last)",
      "\u001b[0;32m<ipython-input-61-0668dd8a7dbf>\u001b[0m in \u001b[0;36m<module>\u001b[0;34m()\u001b[0m\n\u001b[1;32m      8\u001b[0m \u001b[0;31m#         path = nx.shortest_path(wikispedia_graph, source=source, target=target)\u001b[0m\u001b[0;34m\u001b[0m\u001b[0;34m\u001b[0m\u001b[0m\n\u001b[1;32m      9\u001b[0m         \u001b[0;31m# this list will hold the similarities\u001b[0m\u001b[0;34m\u001b[0m\u001b[0;34m\u001b[0m\u001b[0m\n\u001b[0;32m---> 10\u001b[0;31m         \u001b[0mpath_similarities\u001b[0m \u001b[0;34m=\u001b[0m \u001b[0mpath_similarity\u001b[0m\u001b[0;34m(\u001b[0m\u001b[0mtf_idf\u001b[0m\u001b[0;34m,\u001b[0m \u001b[0mpath\u001b[0m\u001b[0;34m)\u001b[0m\u001b[0;34m\u001b[0m\u001b[0m\n\u001b[0m\u001b[1;32m     11\u001b[0m \u001b[0;34m\u001b[0m\u001b[0m\n\u001b[1;32m     12\u001b[0m         \u001b[0;31m# calculating the average similarity\u001b[0m\u001b[0;34m\u001b[0m\u001b[0;34m\u001b[0m\u001b[0m\n",
      "\u001b[0;32m<ipython-input-42-c491f94d68b1>\u001b[0m in \u001b[0;36mpath_similarity\u001b[0;34m(tf_idf, path)\u001b[0m\n\u001b[1;32m     10\u001b[0m         \u001b[0mA\u001b[0m\u001b[0;34m,\u001b[0m \u001b[0mB\u001b[0m \u001b[0;34m=\u001b[0m \u001b[0mtf_idf\u001b[0m\u001b[0;34m[\u001b[0m\u001b[0mnode1\u001b[0m\u001b[0;34m]\u001b[0m\u001b[0;34m,\u001b[0m \u001b[0mtf_idf\u001b[0m\u001b[0;34m[\u001b[0m\u001b[0mnode2\u001b[0m\u001b[0;34m]\u001b[0m\u001b[0;34m\u001b[0m\u001b[0m\n\u001b[1;32m     11\u001b[0m         \u001b[0;31m# calculate the similarity between the two vectors\u001b[0m\u001b[0;34m\u001b[0m\u001b[0;34m\u001b[0m\u001b[0m\n\u001b[0;32m---> 12\u001b[0;31m         \u001b[0mcos_sim\u001b[0m \u001b[0;34m=\u001b[0m \u001b[0mcosine_similarity\u001b[0m\u001b[0;34m(\u001b[0m\u001b[0mA\u001b[0m\u001b[0;34m,\u001b[0m\u001b[0mB\u001b[0m\u001b[0;34m)\u001b[0m\u001b[0;34m\u001b[0m\u001b[0m\n\u001b[0m\u001b[1;32m     13\u001b[0m         \u001b[0;31m# save to list to calculate average similarity for path\u001b[0m\u001b[0;34m\u001b[0m\u001b[0;34m\u001b[0m\u001b[0m\n\u001b[1;32m     14\u001b[0m         \u001b[0mpath_similarities\u001b[0m\u001b[0;34m.\u001b[0m\u001b[0mappend\u001b[0m\u001b[0;34m(\u001b[0m\u001b[0mcos_sim\u001b[0m\u001b[0;34m)\u001b[0m\u001b[0;34m\u001b[0m\u001b[0m\n",
      "\u001b[0;32m<ipython-input-20-f3bc14ed929e>\u001b[0m in \u001b[0;36mcosine_similarity\u001b[0;34m(A, B)\u001b[0m\n\u001b[1;32m      8\u001b[0m         \u001b[0mdot\u001b[0m \u001b[0;34m+=\u001b[0m \u001b[0mvalue\u001b[0m \u001b[0;34m*\u001b[0m \u001b[0mB\u001b[0m\u001b[0;34m.\u001b[0m\u001b[0mget\u001b[0m\u001b[0;34m(\u001b[0m\u001b[0mword\u001b[0m\u001b[0;34m,\u001b[0m\u001b[0;36m0\u001b[0m\u001b[0;34m)\u001b[0m\u001b[0;34m\u001b[0m\u001b[0m\n\u001b[1;32m      9\u001b[0m \u001b[0;34m\u001b[0m\u001b[0m\n\u001b[0;32m---> 10\u001b[0;31m     \u001b[0;32mreturn\u001b[0m \u001b[0mdot\u001b[0m \u001b[0;34m/\u001b[0m \u001b[0;34m(\u001b[0m\u001b[0mnp\u001b[0m\u001b[0;34m.\u001b[0m\u001b[0mlinalg\u001b[0m\u001b[0;34m.\u001b[0m\u001b[0mnorm\u001b[0m\u001b[0;34m(\u001b[0m\u001b[0mA\u001b[0m\u001b[0;34m.\u001b[0m\u001b[0mvalues\u001b[0m\u001b[0;34m(\u001b[0m\u001b[0;34m)\u001b[0m\u001b[0;34m)\u001b[0m \u001b[0;34m*\u001b[0m \u001b[0mnp\u001b[0m\u001b[0;34m.\u001b[0m\u001b[0mlinalg\u001b[0m\u001b[0;34m.\u001b[0m\u001b[0mnorm\u001b[0m\u001b[0;34m(\u001b[0m\u001b[0mB\u001b[0m\u001b[0;34m.\u001b[0m\u001b[0mvalues\u001b[0m\u001b[0;34m(\u001b[0m\u001b[0;34m)\u001b[0m\u001b[0;34m)\u001b[0m\u001b[0;34m)\u001b[0m\u001b[0;34m\u001b[0m\u001b[0m\n\u001b[0m",
      "\u001b[0;32m//anaconda/lib/python2.7/site-packages/numpy/linalg/linalg.pyc\u001b[0m in \u001b[0;36mnorm\u001b[0;34m(x, ord, axis, keepdims)\u001b[0m\n\u001b[1;32m   2111\u001b[0m \u001b[0;34m\u001b[0m\u001b[0m\n\u001b[1;32m   2112\u001b[0m     \"\"\"\n\u001b[0;32m-> 2113\u001b[0;31m     \u001b[0mx\u001b[0m \u001b[0;34m=\u001b[0m \u001b[0masarray\u001b[0m\u001b[0;34m(\u001b[0m\u001b[0mx\u001b[0m\u001b[0;34m)\u001b[0m\u001b[0;34m\u001b[0m\u001b[0m\n\u001b[0m\u001b[1;32m   2114\u001b[0m \u001b[0;34m\u001b[0m\u001b[0m\n\u001b[1;32m   2115\u001b[0m     \u001b[0;32mif\u001b[0m \u001b[0;32mnot\u001b[0m \u001b[0missubclass\u001b[0m\u001b[0;34m(\u001b[0m\u001b[0mx\u001b[0m\u001b[0;34m.\u001b[0m\u001b[0mdtype\u001b[0m\u001b[0;34m.\u001b[0m\u001b[0mtype\u001b[0m\u001b[0;34m,\u001b[0m \u001b[0;34m(\u001b[0m\u001b[0minexact\u001b[0m\u001b[0;34m,\u001b[0m \u001b[0mobject_\u001b[0m\u001b[0;34m)\u001b[0m\u001b[0;34m)\u001b[0m\u001b[0;34m:\u001b[0m\u001b[0;34m\u001b[0m\u001b[0m\n",
      "\u001b[0;32m//anaconda/lib/python2.7/site-packages/numpy/core/numeric.pyc\u001b[0m in \u001b[0;36masarray\u001b[0;34m(a, dtype, order)\u001b[0m\n\u001b[1;32m    480\u001b[0m \u001b[0;34m\u001b[0m\u001b[0m\n\u001b[1;32m    481\u001b[0m     \"\"\"\n\u001b[0;32m--> 482\u001b[0;31m     \u001b[0;32mreturn\u001b[0m \u001b[0marray\u001b[0m\u001b[0;34m(\u001b[0m\u001b[0ma\u001b[0m\u001b[0;34m,\u001b[0m \u001b[0mdtype\u001b[0m\u001b[0;34m,\u001b[0m \u001b[0mcopy\u001b[0m\u001b[0;34m=\u001b[0m\u001b[0mFalse\u001b[0m\u001b[0;34m,\u001b[0m \u001b[0morder\u001b[0m\u001b[0;34m=\u001b[0m\u001b[0morder\u001b[0m\u001b[0;34m)\u001b[0m\u001b[0;34m\u001b[0m\u001b[0m\n\u001b[0m\u001b[1;32m    483\u001b[0m \u001b[0;34m\u001b[0m\u001b[0m\n\u001b[1;32m    484\u001b[0m \u001b[0;32mdef\u001b[0m \u001b[0masanyarray\u001b[0m\u001b[0;34m(\u001b[0m\u001b[0ma\u001b[0m\u001b[0;34m,\u001b[0m \u001b[0mdtype\u001b[0m\u001b[0;34m=\u001b[0m\u001b[0mNone\u001b[0m\u001b[0;34m,\u001b[0m \u001b[0morder\u001b[0m\u001b[0;34m=\u001b[0m\u001b[0mNone\u001b[0m\u001b[0;34m)\u001b[0m\u001b[0;34m:\u001b[0m\u001b[0;34m\u001b[0m\u001b[0m\n",
      "\u001b[0;31mKeyboardInterrupt\u001b[0m: "
     ]
    }
   ],
   "source": [
    "nonhuman_similarities = []\n",
    "\n",
    "for source, targets in all_shortest_paths.iteritems(): \n",
    "    \n",
    "    # for each target calculate the cosine similarity of the entire path\n",
    "    for target, path in targets.iteritems():\n",
    "            \n",
    "#         path = nx.shortest_path(wikispedia_graph, source=source, target=target)\n",
    "        # this list will hold the similarities\n",
    "        path_similarities = path_similarity(tf_idf, path)\n",
    "        \n",
    "        # calculating the average similarity\n",
    "        average_similarity = np.average(path_similarities)\n",
    "        \n",
    "        nonhuman_similarities.append(average_similarity)"
   ]
  },
  {
   "cell_type": "code",
   "execution_count": 69,
   "metadata": {
    "collapsed": false
   },
   "outputs": [],
   "source": [
    "nonhuman_similarities = []\n",
    "\n",
    "for source, targets in all_human_paths.iteritems(): \n",
    "    \n",
    "    # for each target calculate the cosine similarity of the entire path\n",
    "    for target in targets.keys():\n",
    "            \n",
    "        path = nx.shortest_path(wikispedia_graph, source=source, target=target)\n",
    "        \n",
    "        if len(path) > 2:\n",
    "            # this list will hold the similarities\n",
    "            path_similarities = path_similarity(tf_idf, path)\n",
    "\n",
    "            # calculating the average similarity\n",
    "            average_similarity = np.average(path_similarities)\n",
    "\n",
    "            nonhuman_similarities.append(average_similarity)"
   ]
  },
  {
   "cell_type": "code",
   "execution_count": 55,
   "metadata": {
    "collapsed": false
   },
   "outputs": [
    {
     "name": "stdout",
     "output_type": "stream",
     "text": [
      "4592\n",
      "4134\n"
     ]
    }
   ],
   "source": [
    "print len(list(all_shortest_paths))\n",
    "print len(list(all_human_paths))"
   ]
  },
  {
   "cell_type": "code",
   "execution_count": 67,
   "metadata": {
    "collapsed": false
   },
   "outputs": [
    {
     "name": "stdout",
     "output_type": "stream",
     "text": [
      "Average similarities stats:\n",
      "Mean: 0.074379\n",
      "Variance: 0.000791\n",
      "Min: 0.011318\n",
      "Max: 0.390333\n"
     ]
    }
   ],
   "source": [
    "print \"Average similarities stats:\"\n",
    "print \"Mean: %f\" % np.mean(nonhuman_similarities)\n",
    "print \"Variance: %f\" % np.var(nonhuman_similarities)\n",
    "print \"Min: %f\" % min(nonhuman_similarities)\n",
    "print \"Max: %f\" % max(nonhuman_similarities)"
   ]
  },
  {
   "cell_type": "markdown",
   "metadata": {},
   "source": [
    "### Distributions"
   ]
  },
  {
   "cell_type": "code",
   "execution_count": 38,
   "metadata": {
    "collapsed": true
   },
   "outputs": [],
   "source": [
    "def histogram(data, binwidth):\n",
    "    bins = np.arange(min(data), max(data) + binwidth, binwidth)\n",
    "    hist, bin_edges = np.histogram(data, bins=bins)\n",
    "    return hist, bin_edges"
   ]
  },
  {
   "cell_type": "code",
   "execution_count": 88,
   "metadata": {
    "collapsed": false
   },
   "outputs": [
    {
     "data": {
      "image/png": "[encoded data removed]",
      "text/plain": [
       "<matplotlib.figure.Figure at 0x110dd45d0>"
      ]
     },
     "metadata": {},
     "output_type": "display_data"
    }
   ],
   "source": [
    "binwidth = 0.01\n",
    "\n",
    "plt.figure(figsize=(10,6))\n",
    "\n",
    "hist, bin_edges = histogram(nonhuman_similarities, binwidth)\n",
    "nonhuman, = plt.plot(bin_edges[:-1], hist, 'g-')\n",
    "\n",
    "hist, bin_edges = histogram(human_similarities, binwidth)\n",
    "human, = plt.plot(bin_edges[:-1], hist, 'b-')\n",
    "\n",
    "plt.ylabel(\"Number of Occurences\")\n",
    "plt.xlabel(\"Average Cosine Similarity of TF-IDF\")\n",
    "plt.xlim(0,1)\n",
    "\n",
    "plt.legend([nonhuman, human], ['Shortest Paths', 'Human'])\n",
    "plt.show()"
   ]
  },
  {
   "cell_type": "code",
   "execution_count": null,
   "metadata": {
    "collapsed": true
   },
   "outputs": [],
   "source": []
  },
  {
   "cell_type": "code",
   "execution_count": null,
   "metadata": {
    "collapsed": true
   },
   "outputs": [],
   "source": [
    "human_similarities = {}\n",
    "\n",
    "for source, targets in all_human_paths.iteritems(): \n",
    "    \n",
    "    # since the keys to the human_pairs dictionary are unique we can\n",
    "    # init the dictionary here\n",
    "    human_similarities[source] = {}\n",
    "    \n",
    "    # for each target calculate the cosine similarity and save the results in a dictionary\n",
    "    # dict[source][target] = L where L is a list of cos_sims between the source and target tf-idf\n",
    "    for target in targets:\n",
    "        # tf_idf[word] = \n",
    "        cos_sim = cosine_similarity(tf_idf[source], tf_idf[target])\n",
    "        # if we've already seen a source/target pair store the different cos_sim\n",
    "        if target in human_similarities[source]:\n",
    "            human_similarities[source][target].append(cos_sim)\n",
    "        # create a new list to contain all the cos_sims of a source/target pair\n",
    "        else:\n",
    "            human_similarities[source][target] = [cos_sim]\n",
    "        \n",
    "\n",
    "#         # if the key already exists\n",
    "#         if source in human_similarities:\n",
    "#             \n",
    "#         # the key does not yet exist for create a new dict mapping\n",
    "#         else:\n",
    "#             human_similarities[source][target] = [cos_sim]\n",
    "    \n",
    "\n",
    "# calculate the average similarity\n",
    "human_average_similarities = []\n",
    "\n",
    "# each source has multiple targets\n",
    "for source, targets in human_similarities.iteritems():\n",
    "    # each target has 1 or more cosine similarities\n",
    "    for target, cos_sims in targets.iteritems():\n",
    "        mean = np.mean(cos_sims)\n",
    "        partial_sim.append(mean)\n",
    "        human_average_similarities.append(mean)\n",
    "        \n",
    "\n",
    "print \"Average similarities stats:\"\n",
    "print \"Mean: %f\" % np.mean(human_average_similarities)\n",
    "print \"Variance: %f\" % np.var(human_average_similarities)\n",
    "print \"Min: %f\" % min(human_average_similarities)\n",
    "print \"Max: %f\" % max(human_average_similarities)"
   ]
  },
  {
   "cell_type": "code",
   "execution_count": null,
   "metadata": {
    "collapsed": true
   },
   "outputs": [],
   "source": []
  },
  {
   "cell_type": "code",
   "execution_count": 23,
   "metadata": {
    "collapsed": false
   },
   "outputs": [
    {
     "name": "stdout",
     "output_type": "stream",
     "text": [
      "[5, 1, 2, 3, 7]\n"
     ]
    }
   ],
   "source": [
    "lst = [1,2,3]\n",
    "print [5] + lst +[7]"
   ]
  },
  {
   "cell_type": "code",
   "execution_count": null,
   "metadata": {
    "collapsed": true
   },
   "outputs": [],
   "source": []
  }
 ],
 "metadata": {
  "anaconda-cloud": {},
  "kernelspec": {
   "display_name": "Python [Root]",
   "language": "python",
   "name": "Python [Root]"
  },
  "language_info": {
   "codemirror_mode": {
    "name": "ipython",
    "version": 2
   },
   "file_extension": ".py",
   "mimetype": "text/x-python",
   "name": "python",
   "nbconvert_exporter": "python",
   "pygments_lexer": "ipython2",
   "version": "2.7.12"
  }
 },
 "nbformat": 4,
 "nbformat_minor": 0
}
