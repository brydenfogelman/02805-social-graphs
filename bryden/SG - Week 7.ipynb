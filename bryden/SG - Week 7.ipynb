{
 "cells": [
  {
   "cell_type": "markdown",
   "metadata": {},
   "source": [
    "# Week 7\n",
    "\n",
    "## Part 1: Processing real text"
   ]
  },
  {
   "cell_type": "code",
   "execution_count": 1,
   "metadata": {
    "collapsed": true
   },
   "outputs": [],
   "source": [
    "import nltk\n",
    "import cPickle as pickle\n",
    "import math\n",
    "import timeit\n",
    "from __future__ import division\n",
    "# custom module used for philosopher files\n",
    "import philosophers as ph"
   ]
  },
  {
   "cell_type": "markdown",
   "metadata": {},
   "source": [
    "### Exercise: NLPP1e 3.12: 6, 30.\n",
    "\n",
    "**Q1:** Describe the class of strings matched by the following regular expressions.\n",
    "\n",
    "* [a-zA-Z]+\n",
    "\n",
    "Any character or set of character in the alapheblt regardless of the capitilization at least one time.\n",
    "ex. a, aASfdthsFJ, HELLO\n",
    "\n",
    "* [A-Z][a-z]*\n",
    "\n",
    "Matches to a captial letter at the start of the word and zero or more character after. Useful for matching to nouns or words that start at the beginning of a sentence.\n",
    "\n",
    "* p[aeiou]{,2}t\n",
    "\n",
    "Matches the first letter p and up to 2 vowels and the last letter t.\n",
    "\n",
    "* \\d+(\\.\\d+)?\n",
    "\n",
    "Matches integer and decimals numbers but can also match repeated decimal placeholders (ex. 3.4.5.1.). Will never match more then one '.' in a row but can match multiple digits between '.'. \n",
    "\n",
    "* ([^aeiou][aeiou][^aeiou])*\n",
    "\n",
    "Matches a non-vowel character then a vowel character followed by another non-vowel character zero or more times. So this will match all vowels that are \"sandwhiched\" by two consonants."
   ]
  },
  {
   "cell_type": "code",
   "execution_count": 2,
   "metadata": {
    "collapsed": false
   },
   "outputs": [
    {
     "name": "stdout",
     "output_type": "stream",
     "text": [
      "{How} {aRe} {YOU} {A} {a}612{t}64{h} {lol} 3343 5.6.7 6..78.8 {this} {semseter} {pet} {pat} {pueit} {peit} {paat}\n",
      "{How} a{Re} {Y}{O}{U} {A} a612t64h lol 3343 5.6.7 6..78.8 this semseter pet pat pueit peit paat\n",
      "How aRe YOU A a612t64h lol 3343 5.6.7 6..78.8 this semseter {pet} {pat} pueit {peit} {paat}\n",
      "How aRe YOU A a{612t64}h lol {3343 5}.{6.7} {6}..{78.8} this semseter pet pat pueit peit paat\n",
      "{How aR}e{} {}Y{}O{}U{} {}A{ a6}1{}2{}t{}6{}4{}h{} {lol} {}3{}3{}4{}3{} {}5{}.{}6{}.{}7{} {}6{}.{}.{}7{}8{}.{}8{} {}t{his} {semset}e{}r{} {pet} {pat} {}p{}u{}e{}i{}t{} {}p{}e{}i{}t{} {}p{}a{}a{}t{}\n"
     ]
    }
   ],
   "source": [
    "# Test answers using nltk.re_show()\n",
    "test_string = 'How aRe YOU A a612t64h lol 3343 5.6.7 6..78.8 this semseter pet pat pueit peit paat'\n",
    "nltk.re_show('[a-zA-Z]+',test_string)\n",
    "nltk.re_show('[A-Z][a-z]*',test_string)\n",
    "nltk.re_show('p[aeiou]{,2}t',test_string)\n",
    "nltk.re_show('\\d+(.\\d+)?',test_string)\n",
    "nltk.re_show('([^aeiou][aeiou][^aeiou])*',test_string)"
   ]
  },
  {
   "cell_type": "markdown",
   "metadata": {},
   "source": [
    "**Q2:** Use the Porter Stemmer to normalize some tokenized text, calling the stemmer on each word. Do the same thing with the Lancaster Stemmer and see if you observe any differences."
   ]
  },
  {
   "cell_type": "code",
   "execution_count": 3,
   "metadata": {
    "collapsed": false
   },
   "outputs": [
    {
     "name": "stdout",
     "output_type": "stream",
     "text": [
      "Porter Stemmer\n",
      "[u'The', u'gold', u'dollar', u'wa', u'a', u'coin', u'struck', u'as', u'a', u'regular', u'issu', u'by', u'the', u'Unit', u'State', u'Bureau', u'of', u'the', u'Mint', u'from', u'1849', u'to', u'1889', u'.', u'The', u'coin', u'had', u'three', u'type', u'over', u'it', u'lifetim', u',', u'all', u'design', u'by', u'Mint', u'Chief', u'Engrav', u'Jame', u'B.', u'Longacr', u'.', u'The', u'Type', u'1', u'issu', u'had', u'the', u'smallest', u'diamet', u'of', u'ani', u'Unit', u'State', u'coin', u'ever', u'mint', u'.', u'A', u'gold', u'dollar', u'had', u'been', u'propos', u'sever', u'time', u'in', u'the', u'1830', u'and', u'1840', u',', u'but', u'wa', u'not', u'initi', u'adopt', u'.', u'Congress', u'wa', u'final', u'galvan', u'into', u'action', u'by', u'the', u'increas', u'suppli', u'of', u'bullion', u'from', u'the', u'California', u'gold', u'rush', u',', u'and', u'in', u'1849', u'author', u'a', u'gold', u'dollar', u'.', u'In', u'it', u'earli', u'year', u',', u'silver', u'coin', u'were', u'be', u'hoard', u'or', u'export', u',', u'and', u'the', u'gold', u'dollar', u'found', u'a', u'readi', u'place', u'in', u'commerc', u'.', u'Silver', u'again', u'circul', u'after', u'Congress', u'requir', u'in', u'1853', u'that', u'new', u'coin', u'of', u'that', u'metal', u'be', u'made', u'lighter', u',', u'and', u'the', u'gold', u'dollar', u'becam', u'a', u'rariti', u'in', u'commerc', u'even', u'befor', u'feder', u'coin', u'vanish', u'from', u'circul', u'amid', u'the', u'econom', u'disrupt', u'of', u'the', u'American', u'Civil', u'War', u'.', u'Gold', u'did', u'not', u'circul', u'again', u'in', u'most', u'of', u'the', u'nation', u'until', u'1879', u',', u'and', u'even', u'then', u',', u'the', u'gold', u'dollar', u'did', u'not', u'regain', u'it', u'place', u'in', u'commerc', u'.', u'In', u'it', u'final', u'year', u',', u'struck', u'in', u'small', u'number', u',', u'it', u'wa', u'hoard', u'by', u'specul', u'and', u'mount', u'in', u'jewelri', u'.']\n",
      "\n",
      "Lancaster Stemmer\n",
      "['the', 'gold', 'doll', 'was', 'a', 'coin', 'struck', 'as', 'a', 'regul', 'issu', 'by', 'the', 'unit', 'stat', 'bureau', 'of', 'the', 'mint', 'from', '1849', 'to', '1889', '.', 'the', 'coin', 'had', 'three', 'typ', 'ov', 'it', 'lifetim', ',', 'al', 'design', 'by', 'mint', 'chief', 'engrav', 'jam', 'b.', 'longacr', '.', 'the', 'typ', '1', 'issu', 'had', 'the', 'smallest', 'diamet', 'of', 'any', 'unit', 'stat', 'coin', 'ev', 'mint', '.', 'a', 'gold', 'doll', 'had', 'been', 'propos', 'sev', 'tim', 'in', 'the', '1830s', 'and', '1840s', ',', 'but', 'was', 'not', 'init', 'adopt', '.', 'congress', 'was', 'fin', 'galv', 'into', 'act', 'by', 'the', 'increas', 'supply', 'of', 'bul', 'from', 'the', 'californ', 'gold', 'rush', ',', 'and', 'in', '1849', 'auth', 'a', 'gold', 'doll', '.', 'in', 'it', 'ear', 'year', ',', 'silv', 'coin', 'wer', 'being', 'hoard', 'or', 'export', ',', 'and', 'the', 'gold', 'doll', 'found', 'a', 'ready', 'plac', 'in', 'commerc', '.', 'silv', 'again', 'circ', 'aft', 'congress', 'requir', 'in', '1853', 'that', 'new', 'coin', 'of', 'that', 'met', 'be', 'mad', 'light', ',', 'and', 'the', 'gold', 'doll', 'becam', 'a', 'rar', 'in', 'commerc', 'ev', 'bef', 'fed', 'coin', 'van', 'from', 'circ', 'amid', 'the', 'econom', 'disrupt', 'of', 'the', 'am', 'civil', 'war', '.', 'gold', 'did', 'not', 'circ', 'again', 'in', 'most', 'of', 'the', 'nat', 'until', '1879', ',', 'and', 'ev', 'then', ',', 'the', 'gold', 'doll', 'did', 'not', 'regain', 'it', 'plac', 'in', 'commerc', '.', 'in', 'it', 'fin', 'year', ',', 'struck', 'in', 'smal', 'numb', ',', 'it', 'was', 'hoard', 'by', 'spec', 'and', 'mount', 'in', 'jewelry', '.']\n"
     ]
    }
   ],
   "source": [
    "raw = \"\"\"The gold dollar was a coin struck as a regular issue by the United States Bureau of the Mint from 1849 to \n",
    "        1889. The coin had three types over its lifetime, all designed by Mint Chief Engraver James B. Longacre. \n",
    "        The Type 1 issue had the smallest diameter of any United States coin ever minted. A gold dollar had been \n",
    "        proposed several times in the 1830s and 1840s, but was not initially adopted. Congress was finally galvanized \n",
    "        into action by the increased supply of bullion from the California gold rush, and in 1849 authorized a gold dollar. \n",
    "        In its early years, silver coins were being hoarded or exported, and the gold dollar found a ready place in commerce. \n",
    "        Silver again circulated after Congress required in 1853 that new coins of that metal be made lighter, and the \n",
    "        gold dollar became a rarity in commerce even before federal coins vanished from circulation amid the economic \n",
    "        disruption of the American Civil War. Gold did not circulate again in most of the nation until 1879, and even \n",
    "        then, the gold dollar did not regain its place in commerce. In its final years, struck in small numbers, it was \n",
    "        hoarded by speculators and mounted in jewelry.\"\"\"\n",
    "\n",
    "tokens = nltk.word_tokenize(raw)\n",
    "\n",
    "porter = nltk.PorterStemmer()\n",
    "lancaster = nltk.LancasterStemmer()\n",
    "\n",
    "print \"Porter Stemmer\"\n",
    "print [porter.stem(t) for t in tokens]\n",
    "\n",
    "print \"\\nLancaster Stemmer\"\n",
    "print [lancaster.stem(t) for t in tokens]"
   ]
  },
  {
   "cell_type": "markdown",
   "metadata": {},
   "source": [
    "Notable differences:\n",
    "\n",
    "> * Lancaster stemmer removed the ar from dollar\n",
    "> * Lancaster transforms rarity into rar so it can match rare and rarity while the stemmer porter does not do the same. Many other cases of this example, Lancaster is going to the base word.\n"
   ]
  },
  {
   "cell_type": "markdown",
   "metadata": {},
   "source": [
    "## Part 2: Words that characterize the branches\n",
    "\n",
    "**Setup:**"
   ]
  },
  {
   "cell_type": "code",
   "execution_count": 4,
   "metadata": {
    "collapsed": false
   },
   "outputs": [],
   "source": [
    "# Only needs to be ran once\n",
    "# # create files that will not have any wikipedia markup\n",
    "\n",
    "# # set the directory to be seperate from the previous one used\n",
    "directory = './phil-no-markup'\n",
    "\n",
    "# # pass in custom payload\n",
    "# payload = {\n",
    "#     'action': 'query',\n",
    "#     'format': 'json',\n",
    "#     'prop': 'extracts',\n",
    "#     'exlimit': 'max',\n",
    "#     'explaintext': '',\n",
    "#     'rvprop': 'content'\n",
    "# }\n",
    "\n",
    "# # create the file dump\n",
    "# ph.file_dump(directory=directory, **payload)"
   ]
  },
  {
   "cell_type": "code",
   "execution_count": 5,
   "metadata": {
    "collapsed": false
   },
   "outputs": [],
   "source": [
    "# the branches are aestheticians, epistemologists, ethicists, logicians, metaphysicians, social_politicals\n",
    "# convert the returned tuple to a list for iteration\n",
    "branches = list(ph.lists())"
   ]
  },
  {
   "cell_type": "markdown",
   "metadata": {
    "collapsed": true
   },
   "source": [
    "**Explain in your own words the point of TF-IDF.** \n",
    "\n",
    "TF stands for term frequency and IDF stands for inverse document frequency. TF-IDF is a measure of how frequently a word appears in a document but is proportional to the amount of times it appears in a colllection of documents (corpus)."
   ]
  },
  {
   "cell_type": "code",
   "execution_count": 6,
   "metadata": {
    "collapsed": true
   },
   "outputs": [],
   "source": [
    "def phil_tokenizer(raw):\n",
    "    # create stemmer\n",
    "#     porter = nltk.PorterStemmer()\n",
    "    # impossible to use stem\n",
    "    \n",
    "    # get tokens from raw text\n",
    "    tokens = nltk.word_tokenize(raw)\n",
    "    \n",
    "    # retrieve common stop words form nltk\n",
    "    stopwords = set(nltk.corpus.stopwords.words('english'))\n",
    "    # remove some custom stop words, these words appear often but have no special meaning in the text\n",
    "    # ex. philosophy is expected to be used a lot, many philosphers attended university so this is a common term\n",
    "#     custom_stopwords = set(['also', 'one', 'philosophy', 'philosophical', 'philosopher', 'university', 'new', 'work', 'works'])\n",
    "    \n",
    "    # retrieve list of unique philosphers from custom module\n",
    "    unique_philosphers = set(ph.combined())\n",
    "    \n",
    "    # combined list of words to remove\n",
    "    removewords = stopwords.union(unique_philosphers) # .union(custom_stopwords)\n",
    "    \n",
    "    # isalpha returns true when no special characters and numbers are in a string\n",
    "    # create stemmed list of tokens not found in remove words or when isaplha is not satisfied\n",
    "    return [t.lower() for t in set(tokens) if t.lower() not in removewords and t.isalpha()]\n",
    "\n",
    "def open_file(directory, name):\n",
    "    try:\n",
    "        with open(directory + '/' + name + '.pickle', 'rb') as f:\n",
    "            try:\n",
    "                # files saved in tuple format\n",
    "                (phil, wikicontent) = pickle.load(f)\n",
    "                f.close()\n",
    "            except Exception as e:\n",
    "                print e, file\n",
    "        return wikicontent\n",
    "    except Exception as e:\n",
    "        print name + ',', \n",
    "        return ''"
   ]
  },
  {
   "cell_type": "code",
   "execution_count": 7,
   "metadata": {
    "collapsed": false
   },
   "outputs": [
    {
     "name": "stdout",
     "output_type": "stream",
     "text": [
      "Philospher which content can not be retrieved due to exlimit issue: \n",
      "Arthur C. Danto, Friedrich Wilhelm Joseph von Schelling, Garry Hagberg, W.K. Wimsatt, Karl Wilhelm Friedrich von Schlegel, August Wilhelm von Schlegel, Yusuf Balasagun, Schopenhauer's aesthetics, George Birkhoff, George Edward Moore, G.W.F. Hegel, Friedrich A. Hayek, W.V.O. Quine, Tenzin Gyatso, Susan Wolf, William K. Frankena, Edward Hundert, Pierre Abélard, Seyyed Hossein Nasr, Francis Jeffrey, Friedrich Daniel Ernst Schleiermacher, Barron Lerner, Ismail Raji' al-Faruqi, David Friedrich Strauss, Karl Wilhelm Friedrich von Schlegel, Mortimer Adler, Hsun Tzu, Fazlur Rahman, Charles L. Stevenson, Mohandas Gandhi, Peter B. Andrews (mathematician), Luitzen Egbertus Jan Brouwer, John Duns Scotus, Peter of Spain (author), Pierre Abelard, William Craig (logician), Michael A. E. Dummett, Richard the Sophister, Adolf Fraenkel, David Kellogg Lewis, Carew Meredith, Richard Routley, Ahmed Raza Khan, Saunders MacLane, Frank Plumpton Ramsey, Henry Andrew Pogorzelski, Georg W. F. Hegel, David K. Lewis, Proclus Lycaeus, Willard V. O. Quine, Charles de Secondat, baron de Montesquieu, Umar bin al-Khattab, Maurice Brinton, Xun Zi, Mohandas Karamchand Gandhi, Mortimer Adler, Chankya, Bhimrao Ramji Ambedkar,\n"
     ]
    }
   ],
   "source": [
    "print 'Philospher which content can not be retrieved due to exlimit issue: '\n",
    "# combined list of tokens\n",
    "all_tokens = []\n",
    "for branch in branches:\n",
    "    # tokens for each branch\n",
    "    tokenized_branch = []\n",
    "    # for every philopsher in each branch tokenize and append to list\n",
    "    for phil in branch:\n",
    "        # get the wikicontent without mark up from file\n",
    "        wikicontent = open_file(directory, phil)\n",
    "        # get the tokens from the wikicontent\n",
    "        tokens = phil_tokenizer(wikicontent)\n",
    "        # add the tokens to the list of tokens\n",
    "        tokenized_branch.extend(tokens)\n",
    "    # save list of tokens in a branch to list of all tokens\n",
    "    all_tokens.append(tokenized_branch)\n",
    "\n",
    "# save branches to seperate lists by unpacking as a tuple\n",
    "aestheticians, epistemologists, ethicists, logicians, metaphysicians, social_politicals = tuple(all_tokens)"
   ]
  },
  {
   "cell_type": "markdown",
   "metadata": {},
   "source": [
    "Calculating TF:"
   ]
  },
  {
   "cell_type": "code",
   "execution_count": 8,
   "metadata": {
    "collapsed": false
   },
   "outputs": [
    {
     "name": "stdout",
     "output_type": "stream",
     "text": [
      "[(u'philosophy', 152), (u'new', 145), (u'life', 136), (u'university', 135), (u'works', 133)]\n",
      "[(u'philosophy', 162), (u'philosophical', 113), (u'theory', 111), (u'university', 110), (u'new', 108)]\n",
      "[(u'philosophy', 347), (u'life', 314), (u'university', 294), (u'one', 293), (u'new', 293)]\n",
      "[(u'logic', 367), (u'university', 282), (u'philosophy', 263), (u'theory', 253), (u'mathematics', 251)]\n",
      "[(u'philosophy', 170), (u'philosophical', 115), (u'new', 114), (u'university', 103), (u'see', 102)]\n",
      "[(u'philosophy', 391), (u'political', 369), (u'new', 332), (u'life', 317), (u'university', 310)]\n"
     ]
    }
   ],
   "source": [
    "tf_lists = []\n",
    "for branch_tokens in all_tokens:\n",
    "    fd = nltk.FreqDist(branch_tokens)\n",
    "    tf_lists.append(fd.items())\n",
    "    print sorted(fd.items(), key=lambda x: -x[1])[:5]"
   ]
  },
  {
   "cell_type": "markdown",
   "metadata": {},
   "source": [
    "Calculating IDF:"
   ]
  },
  {
   "cell_type": "code",
   "execution_count": 9,
   "metadata": {
    "collapsed": false
   },
   "outputs": [
    {
     "name": "stdout",
     "output_type": "stream",
     "text": [
      "24991\n",
      "46318\n",
      "85681\n",
      "112210\n",
      "133325\n",
      "174580\n",
      "Time to complete 0.313067913055\n"
     ]
    }
   ],
   "source": [
    "# create set of all unique words\n",
    "all_words = []\n",
    "\n",
    "for branch_tokens in all_tokens:\n",
    "    all_words.extend(set(branch_tokens))\n",
    "    print len(all_words)\n",
    "\n",
    "unique_words = set(all_words)\n",
    "\n",
    "# save results of idf to dict\n",
    "occurences = dict.fromkeys(unique_words, 0.)\n",
    "\n",
    "# number of branches\n",
    "N = len(all_tokens)\n",
    "\n",
    "# count = 0\n",
    "start = timeit.default_timer()\n",
    "\n",
    "for word in all_words:\n",
    "    occurences[word] += 1\n",
    "    \n",
    "idf = {}\n",
    "\n",
    "for word, occurence in occurences.iteritems():\n",
    "    idf[word] = math.log(N/occurence,10)\n",
    "    \n",
    "stop = timeit.default_timer()\n",
    "print 'Time to complete %s' % (stop - start)"
   ]
  },
  {
   "cell_type": "code",
   "execution_count": 15,
   "metadata": {
    "collapsed": false
   },
   "outputs": [
    {
     "data": {
      "text/plain": [
       "0.0"
      ]
     },
     "execution_count": 15,
     "metadata": {},
     "output_type": "execute_result"
    }
   ],
   "source": [
    "idf['university']"
   ]
  },
  {
   "cell_type": "markdown",
   "metadata": {},
   "source": [
    "Calculating TF-IDF:"
   ]
  },
  {
   "cell_type": "code",
   "execution_count": 14,
   "metadata": {
    "collapsed": false
   },
   "outputs": [
    {
     "name": "stdout",
     "output_type": "stream",
     "text": [
      "[(u'concerto', 1.4357653469175038, 1.8450980400142567, 0.7781512503836435), (u'violin', 1.3836706188572714, 1.7781512503836434, 0.7781512503836435), (u'aestheticians', 1.246644985441463, 1.6020599913279623, 0.7781512503836435), (u'ravenna', 1.246644985441463, 1.6020599913279623, 0.7781512503836435), (u'sibley', 1.246644985441463, 1.6020599913279623, 0.7781512503836435), (u'videogames', 1.1494237513283616, 1.4771212547196624, 0.7781512503836435), (u'semiology', 1.1494237513283616, 1.4771212547196624, 0.7781512503836435), (u'uncollected', 1.1494237513283616, 1.4771212547196624, 0.7781512503836435), (u'hogan', 1.1494237513283616, 1.4771212547196624, 0.7781512503836435), (u'droits', 1.1494237513283616, 1.4771212547196624, 0.7781512503836435)]\n",
      "\n",
      "\n",
      "[(u'complexit\\xe9', 1.246644985441463, 1.6020599913279623, 0.7781512503836435), (u'turri', 1.1494237513283616, 1.4771212547196624, 0.7781512503836435), (u'primatology', 1.1494237513283616, 1.4771212547196624, 0.7781512503836435), (u'glasersfeld', 1.1494237513283616, 1.4771212547196624, 0.7781512503836435), (u'infinitism', 1.0123981179125534, 1.3010299956639813, 0.7781512503836435), (u'antifragile', 1.0123981179125534, 1.3010299956639813, 0.7781512503836435), (u'tail', 1.0123981179125534, 1.3010299956639813, 0.7781512503836435), (u'bateson', 1.0123981179125534, 1.3010299956639813, 0.7781512503836435), (u'cassette', 1.0123981179125534, 1.3010299956639813, 0.7781512503836435), (u'descriptional', 1.0123981179125534, 1.3010299956639813, 0.7781512503836435)]\n",
      "\n",
      "\n",
      "[(u'bioethicist', 1.4357653469175038, 1.8450980400142567, 0.7781512503836435), (u'biomedical', 1.4357653469175038, 1.8450980400142567, 0.7781512503836435), (u'embryonic', 1.3220556332383773, 1.6989700043360187, 0.7781512503836435), (u'talmudic', 1.3220556332383773, 1.6989700043360187, 0.7781512503836435), (u'counseling', 1.3220556332383773, 1.6989700043360187, 0.7781512503836435), (u'hauerwas', 1.3220556332383773, 1.6989700043360187, 0.7781512503836435), (u'hons', 1.246644985441463, 1.6020599913279623, 0.7781512503836435), (u'queensland', 1.246644985441463, 1.6020599913279623, 0.7781512503836435), (u'neuroethics', 1.246644985441463, 1.6020599913279623, 0.7781512503836435), (u'interfaith', 1.246644985441463, 1.6020599913279623, 0.7781512503836435)]\n",
      "\n",
      "\n",
      "[(u'metamathematics', 1.6700122144464133, 2.1461280356782377, 0.7781512503836435), (u'axiomatization', 1.6179174863861812, 2.0791812460476247, 0.7781512503836435), (u'kleene', 1.5885122704798962, 2.041392685158225, 0.7781512503836435), (u'topology', 1.5885122704798962, 2.041392685158225, 0.7781512503836435), (u'smullyan', 1.5206962522730798, 1.9542425094393248, 0.7781512503836435), (u'feferman', 1.5206962522730798, 1.9542425094393248, 0.7781512503836435), (u'kazimierz', 1.4808918529703725, 1.9030899869919433, 0.7781512503836435), (u'countable', 1.4808918529703725, 1.9030899869919433, 0.7781512503836435), (u'lw\\xf3w', 1.4357653469175038, 1.8450980400142567, 0.7781512503836435), (u'kreisel', 1.4357653469175038, 1.8450980400142567, 0.7781512503836435)]\n",
      "\n",
      "\n",
      "[(u'graecia', 1.1494237513283616, 1.4771212547196624, 0.7781512503836435), (u'univocity', 1.1494237513283616, 1.4771212547196624, 0.7781512503836435), (u'geocentrism', 1.1494237513283616, 1.4771212547196624, 0.7781512503836435), (u'leucippus', 1.1494237513283616, 1.4771212547196624, 0.7781512503836435), (u'melchert', 1.1494237513283616, 1.4771212547196624, 0.7781512503836435), (u'vlastos', 1.1494237513283616, 1.4771212547196624, 0.7781512503836435), (u'heliocentrism', 1.1494237513283616, 1.4771212547196624, 0.7781512503836435), (u'militare', 1.0123981179125534, 1.3010299956639813, 0.7781512503836435), (u'maior', 1.0123981179125534, 1.3010299956639813, 0.7781512503836435), (u'distinctio', 1.0123981179125534, 1.3010299956639813, 0.7781512503836435)]\n",
      "\n",
      "\n",
      "[(u'samurai', 1.5206962522730798, 1.9542425094393248, 0.7781512503836435), (u'tokugawa', 1.5206962522730798, 1.9542425094393248, 0.7781512503836435), (u'edo', 1.4808918529703725, 1.9030899869919433, 0.7781512503836435), (u'shogunate', 1.4357653469175038, 1.8450980400142567, 0.7781512503836435), (u'reloaded', 1.4357653469175038, 1.8450980400142567, 0.7781512503836435), (u'bureaucrats', 1.3836706188572714, 1.7781512503836434, 0.7781512503836435), (u'debord', 1.3220556332383773, 1.6989700043360187, 0.7781512503836435), (u'neoconservatism', 1.3220556332383773, 1.6989700043360187, 0.7781512503836435), (u'mutualism', 1.3220556332383773, 1.6989700043360187, 0.7781512503836435), (u'razan', 1.3220556332383773, 1.6989700043360187, 0.7781512503836435)]\n",
      "\n",
      "\n"
     ]
    }
   ],
   "source": [
    "results = []\n",
    "for tf_branch in tf_lists:\n",
    "    tfidf_branch = []\n",
    "    for items in tf_branch:\n",
    "        word = items[0]\n",
    "        tf = items[1]\n",
    "        idf_value = idf[word]\n",
    "        tfidf = (1+math.log(tf,10)) * idf_value\n",
    "        tfidf_branch.append((word, tfidf, (1+math.log(tf,10)), idf_value))\n",
    "    results.append(tfidf_branch)\n",
    "    \n",
    "for branch in results:\n",
    "    print sorted(branch, key=lambda x: -x[1])[:10]\n",
    "    print '\\n'"
   ]
  },
  {
   "cell_type": "markdown",
   "metadata": {
    "collapsed": true
   },
   "source": [
    "## Sentinment Analysis"
   ]
  },
  {
   "cell_type": "code",
   "execution_count": 46,
   "metadata": {
    "collapsed": true
   },
   "outputs": [],
   "source": [
    "import io\n",
    "from __future__ import division\n",
    "import nltk\n",
    "import matplotlib.pyplot as plt\n",
    "import numpy as np\n",
    "%matplotlib inline"
   ]
  },
  {
   "cell_type": "code",
   "execution_count": 3,
   "metadata": {
    "collapsed": false
   },
   "outputs": [
    {
     "name": "stdout",
     "output_type": "stream",
     "text": [
      "*** Introductory Examples for the NLTK Book ***\n",
      "Loading text1, ..., text9 and sent1, ..., sent9\n",
      "Type the name of the text or sentence to view it.\n",
      "Type: 'texts()' or 'sents()' to list the materials.\n",
      "text1: Moby Dick by Herman Melville 1851\n",
      "text2: Sense and Sensibility by Jane Austen 1811\n",
      "text3: The Book of Genesis\n",
      "text4: Inaugural Address Corpus\n",
      "text5: Chat Corpus\n",
      "text6: Monty Python and the Holy Grail\n",
      "text7: Wall Street Journal\n",
      "text8: Personals Corpus\n",
      "text9: The Man Who Was Thursday by G . K . Chesterton 1908\n"
     ]
    }
   ],
   "source": [
    "from nltk.book import *"
   ]
  },
  {
   "cell_type": "markdown",
   "metadata": {},
   "source": [
    "Describe briefly how the list was generated.\n",
    "\n",
    "> A list of highly frequent words were taken from Twitter, Google Books, music lyrics and New York Times. User from an online website were tasked with rating a randomized set of words from 1-9 with 1 being the saddest and 9 the happiest. Each word had 50 recorded values and the happiness average and standard deviation were calculated. "
   ]
  },
  {
   "cell_type": "code",
   "execution_count": 22,
   "metadata": {
    "collapsed": false
   },
   "outputs": [],
   "source": [
    "# word, happiness_rank, happiness_average, happiness_standard_deviation, twitter_rank, google_rank, nyt_rank, lyrics_rank\n",
    "f = io.open('./week7/labMIT-1.0.txt','r')\n",
    "\n",
    "# Create a dictionary for easy access of happiness_average\n",
    "word_happiness_index = {}\n",
    "\n",
    "for line in f:\n",
    "    cols = line.split()\n",
    "    word, happiness_average = cols[0], float(cols[2])\n",
    "    word_happiness_index[word] = happiness_average\n",
    "    \n",
    "f.close()"
   ]
  },
  {
   "cell_type": "code",
   "execution_count": 39,
   "metadata": {
    "collapsed": false
   },
   "outputs": [],
   "source": [
    "def sentinment(tokens, word_happiness_index, junk_words):\n",
    "    # calculate the frequency of each word\n",
    "    fd = nltk.FreqDist(tokens)\n",
    "    \n",
    "    # the total number of words\n",
    "    total_words = len(tokens)\n",
    "    # result\n",
    "    happiness_average_text = 0.\n",
    "    \n",
    "    # for each token \n",
    "    for word in tokens:\n",
    "        # if the word has a average happiness then compute the partial sum\n",
    "        if word in word_happiness_index:\n",
    "            happiness_average_word = word_happiness_index[word]\n",
    "            normalized_freq = fd[word] / total_words\n",
    "            happiness_average_text += happiness_average_word * normalized_freq\n",
    "        # add the words that don't have a happiness value to a list\n",
    "        else:\n",
    "            junk_words.add(word)\n",
    "    \n",
    "    return happiness_average_text, junk_words\n",
    "\n",
    "def chunks(l, n):\n",
    "    \"\"\"Yield successive n-sized chunks from l.\"\"\"\n",
    "    for i in xrange(0, len(l), n):\n",
    "        yield l[i:i + n]"
   ]
  },
  {
   "cell_type": "code",
   "execution_count": 48,
   "metadata": {
    "collapsed": false
   },
   "outputs": [
    {
     "data": {
      "image/png": "[encoded data removed]",
      "text/plain": [
       "<matplotlib.figure.Figure at 0x117187510>"
      ]
     },
     "metadata": {},
     "output_type": "display_data"
    },
    {
     "data": {
      "image/png": "[encoded data removed]",
      "text/plain": [
       "<matplotlib.figure.Figure at 0x1174dfa10>"
      ]
     },
     "metadata": {},
     "output_type": "display_data"
    },
    {
     "data": {
      "image/png": "[encoded data removed]",
      "text/plain": [
       "<matplotlib.figure.Figure at 0x1171a0f50>"
      ]
     },
     "metadata": {},
     "output_type": "display_data"
    },
    {
     "ename": "KeyboardInterrupt",
     "evalue": "",
     "output_type": "error",
     "traceback": [
      "\u001b[0;31m---------------------------------------------------------------------------\u001b[0m",
      "\u001b[0;31mKeyboardInterrupt\u001b[0m                         Traceback (most recent call last)",
      "\u001b[0;32m<ipython-input-48-cded2957da88>\u001b[0m in \u001b[0;36m<module>\u001b[0;34m()\u001b[0m\n\u001b[1;32m     20\u001b[0m     \u001b[0;32mfor\u001b[0m \u001b[0mwindow\u001b[0m \u001b[0;32min\u001b[0m \u001b[0mwindows\u001b[0m\u001b[0;34m:\u001b[0m\u001b[0;34m\u001b[0m\u001b[0m\n\u001b[1;32m     21\u001b[0m         \u001b[0;32mfor\u001b[0m \u001b[0mwords\u001b[0m \u001b[0;32min\u001b[0m \u001b[0mwindow\u001b[0m\u001b[0;34m:\u001b[0m\u001b[0;34m\u001b[0m\u001b[0m\n\u001b[0;32m---> 22\u001b[0;31m             \u001b[0mhappiness_average_text\u001b[0m\u001b[0;34m,\u001b[0m \u001b[0mjunk_words\u001b[0m \u001b[0;34m=\u001b[0m \u001b[0msentinment\u001b[0m\u001b[0;34m(\u001b[0m\u001b[0mwords\u001b[0m\u001b[0;34m,\u001b[0m \u001b[0mword_happiness_index\u001b[0m\u001b[0;34m,\u001b[0m \u001b[0mjunk_words\u001b[0m\u001b[0;34m)\u001b[0m\u001b[0;34m\u001b[0m\u001b[0m\n\u001b[0m\u001b[1;32m     23\u001b[0m             \u001b[0mhappiness_averages\u001b[0m\u001b[0;34m.\u001b[0m\u001b[0mappend\u001b[0m\u001b[0;34m(\u001b[0m\u001b[0mhappiness_average_text\u001b[0m\u001b[0;34m)\u001b[0m\u001b[0;34m\u001b[0m\u001b[0m\n\u001b[1;32m     24\u001b[0m             \u001b[0;32mif\u001b[0m \u001b[0mmoving_average\u001b[0m\u001b[0;34m:\u001b[0m\u001b[0;34m\u001b[0m\u001b[0m\n",
      "\u001b[0;32m<ipython-input-39-1a0f4bb8cc20>\u001b[0m in \u001b[0;36msentinment\u001b[0;34m(tokens, word_happiness_index, junk_words)\u001b[0m\n\u001b[1;32m     14\u001b[0m             \u001b[0mhappiness_average_word\u001b[0m \u001b[0;34m=\u001b[0m \u001b[0mword_happiness_index\u001b[0m\u001b[0;34m[\u001b[0m\u001b[0mword\u001b[0m\u001b[0;34m]\u001b[0m\u001b[0;34m\u001b[0m\u001b[0m\n\u001b[1;32m     15\u001b[0m             \u001b[0mnormalized_freq\u001b[0m \u001b[0;34m=\u001b[0m \u001b[0mfd\u001b[0m\u001b[0;34m[\u001b[0m\u001b[0mword\u001b[0m\u001b[0;34m]\u001b[0m \u001b[0;34m/\u001b[0m \u001b[0mtotal_words\u001b[0m\u001b[0;34m\u001b[0m\u001b[0m\n\u001b[0;32m---> 16\u001b[0;31m             \u001b[0mhappiness_average_text\u001b[0m \u001b[0;34m+=\u001b[0m \u001b[0mhappiness_average_word\u001b[0m \u001b[0;34m*\u001b[0m \u001b[0mnormalized_freq\u001b[0m\u001b[0;34m\u001b[0m\u001b[0m\n\u001b[0m\u001b[1;32m     17\u001b[0m         \u001b[0;31m# add the words that don't have a happiness value to a list\u001b[0m\u001b[0;34m\u001b[0m\u001b[0;34m\u001b[0m\u001b[0m\n\u001b[1;32m     18\u001b[0m         \u001b[0;32melse\u001b[0m\u001b[0;34m:\u001b[0m\u001b[0;34m\u001b[0m\u001b[0m\n",
      "\u001b[0;31mKeyboardInterrupt\u001b[0m: "
     ]
    }
   ],
   "source": [
    "texts = [text1, text2, text3, text4, text5, text6, text7, text8, text9]\n",
    "# window_lengths = [15,50,100,500]\n",
    "window_length = 15 \n",
    "\n",
    "# set to hold all the words that don't have a hapiness value\n",
    "junk_words = set([])\n",
    "\n",
    "# for each window length\n",
    "# for window_length in window_lengths:\n",
    "for text in texts:\n",
    "    tokens = [word.lower() for word in text if word.isalpha()]\n",
    "    \n",
    "    windows = chunks(tokens, window_length)\n",
    "    \n",
    "    moving_average = []\n",
    "    happiness_averages = []\n",
    "    \n",
    "    # n for calculating the moving average\n",
    "    n = 1.\n",
    "    for window in windows:\n",
    "        for words in window:\n",
    "            happiness_average_text, junk_words = sentinment(words, word_happiness_index, junk_words)\n",
    "            happiness_averages.append(happiness_average_text)\n",
    "            if moving_average:\n",
    "                avg = happiness_average_text / n + moving_average[-1] \n",
    "                moving_average.append(avg)\n",
    "            else:\n",
    "                moving_average.append(happiness_average_text)\n",
    "            n += 1\n",
    "    x = [ii*window_length for ii in range(0, len(happiness_averages))]\n",
    "    plt.figure(figsize=(18,6))\n",
    "    plt.plot(x, happiness_averages, 'r-')\n",
    "    plt.plot(x, moving_average, 'b-')\n",
    "    plt.show()\n",
    "#     print \"The following %s words do not have a value for average happiness\" % len(junk_words)\n",
    "#     print junk_words"
   ]
  },
  {
   "cell_type": "code",
   "execution_count": 13,
   "metadata": {
    "collapsed": false
   },
   "outputs": [
    {
     "name": "stdout",
     "output_type": "stream",
     "text": [
      "<Text: Moby Dick by Herman Melville 1851>\n"
     ]
    }
   ],
   "source": [
    "print text1"
   ]
  },
  {
   "cell_type": "code",
   "execution_count": 49,
   "metadata": {
    "collapsed": false
   },
   "outputs": [
    {
     "name": "stdout",
     "output_type": "stream",
     "text": [
      "[6.716666666666667, 10.021666666666667, 11.621666666666666, 12.818333333333333, 14.112333333333334, 14.933444444444445, 15.61915873015873, 16.217492063492063, 16.773936507936508, 17.25393650793651]\n"
     ]
    }
   ],
   "source": [
    "print moving_average[:10]"
   ]
  },
  {
   "cell_type": "code",
   "execution_count": null,
   "metadata": {
    "collapsed": true
   },
   "outputs": [],
   "source": []
  }
 ],
 "metadata": {
  "anaconda-cloud": {},
  "kernelspec": {
   "display_name": "Python [Root]",
   "language": "python",
   "name": "Python [Root]"
  },
  "language_info": {
   "codemirror_mode": {
    "name": "ipython",
    "version": 2
   },
   "file_extension": ".py",
   "mimetype": "text/x-python",
   "name": "python",
   "nbconvert_exporter": "python",
   "pygments_lexer": "ipython2",
   "version": "2.7.12"
  }
 },
 "nbformat": 4,
 "nbformat_minor": 0
}
