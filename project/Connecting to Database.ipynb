{
 "cells": [
  {
   "cell_type": "code",
   "execution_count": 1,
   "metadata": {
    "collapsed": true
   },
   "outputs": [],
   "source": [
    "import pymongo, pprint\n",
    "from pymongo import MongoClient"
   ]
  },
  {
   "cell_type": "code",
   "execution_count": 2,
   "metadata": {
    "collapsed": true
   },
   "outputs": [],
   "source": [
    "properties = dict(line.strip().split('=') \n",
    "          for line in open('db.properties')\n",
    "          if not line.startswith('#') and not line.startswith('\\n'))"
   ]
  },
  {
   "cell_type": "code",
   "execution_count": 3,
   "metadata": {
    "collapsed": false
   },
   "outputs": [],
   "source": [
    "uri = 'mongodb://%s:%s@ds161487.mlab.com:61487/election_tweets' % (properties['username'], properties['password'])\n",
    "client = MongoClient(uri)"
   ]
  },
  {
   "cell_type": "code",
   "execution_count": 4,
   "metadata": {
    "collapsed": true
   },
   "outputs": [],
   "source": [
    "db = client.election_tweets\n",
    "tweet_collection = db.tweets\n",
    "user_collection = db.users"
   ]
  },
  {
   "cell_type": "code",
   "execution_count": 5,
   "metadata": {
    "collapsed": false
   },
   "outputs": [
    {
     "name": "stdout",
     "output_type": "stream",
     "text": [
      "112948\n",
      "87584\n"
     ]
    }
   ],
   "source": [
    "print tweet_collection.count()\n",
    "print user_collection.count()"
   ]
  },
  {
   "cell_type": "code",
   "execution_count": 8,
   "metadata": {
    "collapsed": false
   },
   "outputs": [
    {
     "name": "stdout",
     "output_type": "stream",
     "text": [
      "{u'_id': 793603509035765760L,\n",
      " u'created_at': u'Tue Nov 01 23:59:55 +0000 2016',\n",
      " u'favorite_count': 0,\n",
      " u'favorited': False,\n",
      " u'from_query': u'#DonaldTrump OR #HillaryClinton OR Trump OR Clinton OR #Trump OR #Clinton since:2016-11-1 until:2016-11-2',\n",
      " u'hashtags': None,\n",
      " u'in_reply_to_screen_name': None,\n",
      " u'in_reply_to_status_id': None,\n",
      " u'in_reply_to_user_id': None,\n",
      " u'is_quote_status': False,\n",
      " u'place': None,\n",
      " u'query': u'2016-11-1-2016-11-2',\n",
      " u'retweet_count': 3907,\n",
      " u'retweeted': False,\n",
      " u'retweeted_status': 793448708570505217L,\n",
      " u'symbols': None,\n",
      " u'text': u'RT @ezraklein: Not fun to talk about, but researchers find resentment towards women is a strong predictor of Trump support: https://t.co/u1\\u2026',\n",
      " u'user': 33380978,\n",
      " u'user_mentions': [{u'_id': 18622869,\n",
      "                     u'indices': [3, 13],\n",
      "                     u'screen_name': u'ezraklein'}]}\n"
     ]
    }
   ],
   "source": [
    "cur = tweet_collection.find_one()\n",
    "pprint.pprint(cur)"
   ]
  },
  {
   "cell_type": "code",
   "execution_count": null,
   "metadata": {
    "collapsed": true
   },
   "outputs": [],
   "source": []
  }
 ],
 "metadata": {
  "kernelspec": {
   "display_name": "Python [Root]",
   "language": "python",
   "name": "Python [Root]"
  },
  "language_info": {
   "codemirror_mode": {
    "name": "ipython",
    "version": 2
   },
   "file_extension": ".py",
   "mimetype": "text/x-python",
   "name": "python",
   "nbconvert_exporter": "python",
   "pygments_lexer": "ipython2",
   "version": "2.7.12"
  }
 },
 "nbformat": 4,
 "nbformat_minor": 0
}
