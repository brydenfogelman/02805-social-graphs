{
 "cells": [
  {
   "cell_type": "code",
   "execution_count": 1,
   "metadata": {
    "collapsed": true
   },
   "outputs": [],
   "source": [
    "import pymongo\n",
    "from pymongo import MongoClient\n",
    "import os, io, json, glob, time\n",
    "import pprint"
   ]
  },
  {
   "cell_type": "code",
   "execution_count": 2,
   "metadata": {
    "collapsed": false
   },
   "outputs": [],
   "source": [
    "# Define database globally\n",
    "client = MongoClient('mongodb://localhost:27017/')\n",
    "db = client.election_tweets\n",
    "tweet_collection = db.tweets\n",
    "user_collection = db.users"
   ]
  },
  {
   "cell_type": "code",
   "execution_count": 3,
   "metadata": {
    "collapsed": false
   },
   "outputs": [
    {
     "name": "stdout",
     "output_type": "stream",
     "text": [
      "Collection(Database(MongoClient(host=['localhost:27017'], document_class=dict, tz_aware=False, connect=True), u'election_tweets'), u'tweets')\n",
      "Database(MongoClient(host=['localhost:27017'], document_class=dict, tz_aware=False, connect=True), u'election_tweets')\n"
     ]
    }
   ],
   "source": [
    "def test():\n",
    "    print tweet_collection\n",
    "    print db\n",
    "test()"
   ]
  },
  {
   "cell_type": "markdown",
   "metadata": {},
   "source": [
    "## Minimize Tweets\n",
    "\n",
    "There is a lot of unnessecary information. The following function remove these keys from the dictionary and also seperate the retweet and user object from the original tweet"
   ]
  },
  {
   "cell_type": "code",
   "execution_count": 4,
   "metadata": {
    "collapsed": false
   },
   "outputs": [],
   "source": [
    "#class TweetDB:\n",
    "#     def __init__(self):\n",
    "#         client = MongoClient('mongodb://localhost:27017/')\n",
    "#         db = client.election_tweets\n",
    "#         self.db = db\n",
    "#         self. = db.tweets\n",
    "#         self. = db.users\n",
    "    \n",
    "def convert_datetime(twitter_time):\n",
    "    return time.strftime('%Y-%m-%d %H:%M:%S', time.strptime(twitter_time,'%a %b %d %H:%M:%S +0000 %Y'))\n",
    "\n",
    "def minimize_tweet(tweet):\n",
    "    # if a tweet doesn't have an idea return none\n",
    "    if tweet.get('id', None) is None or tweet is None:\n",
    "        return None\n",
    "    \n",
    "    # helper func to remove unnessecary keys\n",
    "    \n",
    "    tweet_keys = ['contributors', 'geo', 'lang', 'id_str', 'metadata', 'in_reply_to_status_id_str',\n",
    "                'in_reply_to_user_id_str', 'quoted_status_id_str', 'notifications', 'truncated',\n",
    "                  'translator_type', 'contributors_enabled', 'default_profile', 'geo_enabled', \n",
    "                'has_extended_profile', 'source', 'coordinates', 'filter_level', 'possibly_sensitive', \n",
    "                'quoted_status_id_str','scopes', 'withheld_copyright']\n",
    "    \n",
    "    user_keys = [ 'contributors_enabled', 'default_profile', 'default_profile_image', 'follow_request_sent',\n",
    "                'geo_enabled', 'id_str', 'is_translator', 'lang', 'listed_count', 'notifications',\n",
    "                'profile_background_color', 'profile_banner_url', 'profile_background_tile',\n",
    "                'profile_background_image_url_https', 'profile_background_image_url', 'profile_image_url',\n",
    "                'profile_image_url_https', 'profile_image_url_https', 'profile_link_color', \n",
    "                'profile_sidebar_border_color', 'profile_sidebar_fill_color', 'profile_text_color',\n",
    "                'profile_use_background_image', 'show_all_inline_media', 'protected', 'url', 'utc_offset', \n",
    "                'time_zone', 'withheld_in_countries', 'withheld_scope']\n",
    "    \n",
    "    place_keys = ['attributes', 'bounding_box', 'contained_within', 'place_type', 'url']\n",
    "    \n",
    "    def remove_keys(obj, keys):\n",
    "        if obj is None:\n",
    "            return None\n",
    "        \n",
    "        for key in keys:\n",
    "            obj.pop(key, None)\n",
    "        \n",
    "        # also sets id to _id for mongo\n",
    "        obj['_id'] = obj.pop('id')\n",
    "        \n",
    "        \n",
    "        \n",
    "        return obj\n",
    "    \n",
    "    # remove keys\n",
    "    tweet = remove_keys(tweet, tweet_keys)\n",
    "    \n",
    "    # handle entities\n",
    "    entities = tweet.get('entities', None)\n",
    "    if entities:\n",
    "        # remove entities from tweet\n",
    "        tweet.pop('entities', None)\n",
    "        # remove urls from entities\n",
    "        entities.pop('urls', None)\n",
    "        \n",
    "        # set entity objects directly to tweet\n",
    "        for entity, items in entities.iteritems():\n",
    "            # reduce keys from user mentions\n",
    "            if entity == 'user_mentions':\n",
    "                for i, obj in enumerate(items):\n",
    "                    items[i].pop('id_str')\n",
    "                    items[i].pop('name')\n",
    "                    items[i]['_id'] = items[i].pop('id')\n",
    "                    \n",
    "            if len(items) == 0:\n",
    "                tweet[entity] = None\n",
    "            else:\n",
    "                tweet[entity] = items\n",
    "                \n",
    "    # minimize the place field\n",
    "    tweet['place'] = remove_keys(tweet.get('place', None), place_keys)\n",
    "    \n",
    "    # minimize user field\n",
    "    user = remove_keys(tweet.get('user', None), user_keys)\n",
    "    if user:\n",
    "        # set user field in tweet to user id\n",
    "        tweet['user'] = user.get('_id', None)\n",
    "    \n",
    "    ### RETWEET has yet to be\n",
    "    # check if the tweet was retweeted\n",
    "    retweet = tweet.get('retweeted_status', None)\n",
    "    \n",
    "    # Set to None by default\n",
    "    retweet_container = None\n",
    "    \n",
    "    if retweet:\n",
    "        # grab the retweet id\n",
    "        retweet_id = retweet.get('id', None)\n",
    "        \n",
    "        # Create retweet container to return\n",
    "        retweet_container = {\n",
    "            'retweet': retweet,\n",
    "            'id': retweet_id,\n",
    "            # save the time the retweet was made, can use to compare vs a tweet saved in the data base\n",
    "            'created_at': convert_datetime(tweet.get('created_at'))\n",
    "        }\n",
    "        \n",
    "        # set retweeted_status to the id of the orginal retweet\n",
    "        tweet['retweeted_status'] = retweet_id\n",
    "    \n",
    "    return (tweet, user, retweet_container)"
   ]
  },
  {
   "cell_type": "markdown",
   "metadata": {},
   "source": [
    "Test JSON file, used for testing minimizing the tweets"
   ]
  },
  {
   "cell_type": "code",
   "execution_count": 5,
   "metadata": {
    "collapsed": false,
    "scrolled": true
   },
   "outputs": [
    {
     "name": "stdout",
     "output_type": "stream",
     "text": [
      "[({'_id': 795670816545456129,\n",
      "   u'created_at': u'Mon Nov 07 16:54:40 +0000 2016',\n",
      "   u'favorite_count': 0,\n",
      "   u'favorited': False,\n",
      "   u'hashtags': None,\n",
      "   u'in_reply_to_screen_name': None,\n",
      "   u'in_reply_to_status_id': None,\n",
      "   u'in_reply_to_user_id': None,\n",
      "   u'is_quote_status': False,\n",
      "   u'place': {'_id': u'0064529d5fb32582',\n",
      "              u'country': u'Canada',\n",
      "              u'country_code': u'CA',\n",
      "              u'full_name': u'Georgian Bluffs, Ontario',\n",
      "              u'name': u'Georgian Bluffs'},\n",
      "   u'retweet_count': 1,\n",
      "   u'retweeted': False,\n",
      "   u'symbols': None,\n",
      "   u'text': u'Trump interrupts summation by re-looping back into the full, rambling glory of the body of his speech.',\n",
      "   u'user': 167535120,\n",
      "   u'user_mentions': None},\n",
      "  {'_id': 167535120,\n",
      "   u'created_at': u'Fri Jul 16 21:00:58 +0000 2010',\n",
      "   u'description': u'I write columns for the National Post and Postmedia/Sun Media newspapers.',\n",
      "   u'entities': {u'description': {u'urls': []}},\n",
      "   u'favourites_count': 10029,\n",
      "   u'followers_count': 9868,\n",
      "   u'following': False,\n",
      "   u'friends_count': 1252,\n",
      "   u'has_extended_profile': False,\n",
      "   u'is_translation_enabled': False,\n",
      "   u'location': u'',\n",
      "   u'name': u'Michael Den Tandt',\n",
      "   u'screen_name': u'mdentandt',\n",
      "   u'statuses_count': 39569,\n",
      "   u'translator_type': u'none',\n",
      "   u'verified': True},\n",
      "  None),\n",
      " ({'_id': 795677108978774016,\n",
      "   u'created_at': u'Mon Nov 07 17:19:40 +0000 2016',\n",
      "   u'favorite_count': 3,\n",
      "   u'favorited': False,\n",
      "   u'hashtags': None,\n",
      "   u'in_reply_to_screen_name': None,\n",
      "   u'in_reply_to_status_id': None,\n",
      "   u'in_reply_to_user_id': None,\n",
      "   u'is_quote_status': False,\n",
      "   u'place': {'_id': u'3797791ff9c0e4c6',\n",
      "              u'country': u'Canada',\n",
      "              u'country_code': u'CA',\n",
      "              u'full_name': u'Toronto, Ontario',\n",
      "              u'name': u'Toronto'},\n",
      "   u'retweet_count': 1,\n",
      "   u'retweeted': False,\n",
      "   u'symbols': None,\n",
      "   u'text': u'Gingrich &amp; Giuliani could get top jobs in Trump White House: sources https://t.co/4D2r1x1z5C via @nbcnews.  Seriously?  @nbcsnl is ecstatic',\n",
      "   u'user': 366539014,\n",
      "   u'user_mentions': [{'_id': 14173315,\n",
      "                       u'indices': [101, 109],\n",
      "                       u'screen_name': u'NBCNews'},\n",
      "                      {'_id': 28221296,\n",
      "                       u'indices': [124, 131],\n",
      "                       u'screen_name': u'nbcsnl'}]},\n",
      "  {'_id': 366539014,\n",
      "   u'created_at': u'Fri Sep 02 10:53:47 +0000 2011',\n",
      "   u'description': u'',\n",
      "   u'entities': {u'description': {u'urls': []}},\n",
      "   u'favourites_count': 42,\n",
      "   u'followers_count': 21,\n",
      "   u'following': False,\n",
      "   u'friends_count': 106,\n",
      "   u'has_extended_profile': False,\n",
      "   u'is_translation_enabled': False,\n",
      "   u'location': u'Toronto',\n",
      "   u'name': u'Ron Morris',\n",
      "   u'screen_name': u'gersh647',\n",
      "   u'statuses_count': 1690,\n",
      "   u'translator_type': u'none',\n",
      "   u'verified': False},\n",
      "  None)]\n"
     ]
    }
   ],
   "source": [
    "test_file_path = './queries/#DonaldTrump OR #HillaryClinton OR Trump OR Clinton OR #Trump OR #Clinton/Canada/2016-11-07T19:43:48.144881.json'\n",
    "test = io.open(test_file_path)\n",
    "tweets = json.loads(test.read())\n",
    "# pprint.pprint([tweet for key, tweet in tweets.iteritems()][:2])\n",
    "min_tweets = [minimize_tweet(tweet) for key, tweet in tweets.iteritems()]\n",
    "pprint.pprint(min_tweets[:2])"
   ]
  },
  {
   "cell_type": "code",
   "execution_count": 6,
   "metadata": {
    "collapsed": false
   },
   "outputs": [
    {
     "name": "stdout",
     "output_type": "stream",
     "text": [
      "{u'dd9c0d7d7e07eb49': u'South Africa', u'25530ba03b7d90c6': u'Mexico', u'3376992a082d67c7': u'Canada', u'12ff487cb5a05ff7': u'Central African Republic', u'98c7a0e48eb6b42b': u'South Georgia and the South Sandwich Islands', u'fc6282dff859b848': u'\\u0627\\u0644\\u0645\\u0645\\u0644\\u0643\\u0629 \\u0627\\u0644\\u0623\\u0631\\u062f\\u0646\\u064a\\u0629 \\u0627\\u0644\\u0647\\u0627\\u0634\\u0645\\u064a\\u0629', u'3f14ce28dc7c4566': u'Australia', u'333a5811d6b0c1cb': u'Hviderusland', u'c027ef7e8f9b3ee2': u'French Southern and Antarctic Lands', u'f3bfc7dcc928977f': u'Frankrig', u'c29833e68a86e703': u'Danmark', u'991b4344edc2d520': u'Fransk Guyana', u'08b2d74428e2ca88': u'Saudi Arabien', u'88f6c97979c5c22d': u'British Indian Ocean Territory', u'ea5eca163987d547': u'French Polynesia', u'5714382051c06d1e': u'\\u0420\\u043e\\u0441\\u0441\\u0438\\u044f', u'08fbcf4cbc4bc5b9': u'United States Minor Outlying Islands', u'82b141af443cb1b8': u'Sverige', u'ac26bceca6c10474': u'Cuba', u'b850c1bfd38f30e0': u'Indien', u'3f63906fc8aa5a7d': u'Forenede Arabiske Emirater', u'4797714c95971ac1': u'\\u4e2d\\u534e\\u4eba\\u6c11\\u5171\\u548c\\u56fd', u'1b107df3ccc0aaa1': u'Brasilien', u'fdcd221ac44fa326': u'Tyskland', u'96683cc9126741d1': u'USA', u'6416b8512febefc9': u'Storbritannien'}\n"
     ]
    }
   ],
   "source": [
    "# Load place id look up table\n",
    "\n",
    "# open file\n",
    "f = io.open('places_id.json')\n",
    "# load the json saved in the file\n",
    "places = json.loads(f.read())\n",
    "\n",
    "# Create the places look up table\n",
    "places_lookup = {}\n",
    "for place in places:\n",
    "    place_id = place['place_id']\n",
    "    country = place['twitter_name']\n",
    "    places_lookup[place_id] = country\n",
    "    \n",
    "print places_lookup"
   ]
  },
  {
   "cell_type": "markdown",
   "metadata": {},
   "source": [
    "Iterate through queries before election"
   ]
  },
  {
   "cell_type": "code",
   "execution_count": 7,
   "metadata": {
    "collapsed": false
   },
   "outputs": [],
   "source": [
    "def insert_many(filename, query):\n",
    "    \n",
    "    def insert(document, query, collection):\n",
    "        \n",
    "        _id = document['_id']\n",
    "        # find a cursor with the same id\n",
    "        cur = collection.find({'_id': _id}).limit(1)\n",
    "        \n",
    "        #\n",
    "        # if finding the most updated tweets is not required\n",
    "        # can pass upsert=True to collection.update\n",
    "        #\n",
    "        \n",
    "        # make a new entry\n",
    "        if document and cur.count() == 0:\n",
    "            # save query to database in list\n",
    "            document['query'] = [query]\n",
    "            collection.insert_one(document)\n",
    "        # check if entry should be updated\n",
    "        else:\n",
    "            new_document = cur.next()\n",
    "            # convert time objects to date time to compare\n",
    "            old_time = convert_datetime(document['created_at'])\n",
    "            new_time = convert_datetime(new_document['created_at'])\n",
    "            \n",
    "            # if the new tweet is more recent, then update\n",
    "            if new_time > old_time:\n",
    "                # in case the new queries are different\n",
    "                old_query = document['query']\n",
    "                new_query = new_document['query']\n",
    "                if new_query not in old_query:\n",
    "                    new_document['query'].append(new_query)\n",
    "                collection.update({{'_id': _id}}, new_document)\n",
    "\n",
    "        return None\n",
    "\n",
    "    f = io.open(filename)\n",
    "    tweets = json.loads(f.read())\n",
    "    for tweet_id, raw_tweet in tweets.iteritems():\n",
    "        tweet, user, retweet_container = minimize_tweet(raw_tweet)\n",
    "        # insert tweet and user\n",
    "        insert(tweet, query, tweet_collection)\n",
    "        insert(user, query, user_collection)\n",
    "        \n",
    "        # if there is a retweet\n",
    "        if retweet_container:\n",
    "            tweet, user, _ = minimize_tweet(retweet_container['retweet'])\n",
    "            # insert retweet and user\n",
    "            insert(tweet, query, tweet_collection)\n",
    "            insert(user, query, user_collection)\n",
    "            \n",
    "    f.close()\n",
    "    return None"
   ]
  },
  {
   "cell_type": "code",
   "execution_count": 8,
   "metadata": {
    "collapsed": true
   },
   "outputs": [],
   "source": [
    "def create_tweet_db(root, path):\n",
    "    '''\n",
    "    Retrieve all the tweets from the comments, minimize and create database.\n",
    "    '''\n",
    "    os.chdir(path)\n",
    "    root_query = os.getcwd()\n",
    "\n",
    "    for query in os.listdir(os.getcwd()):\n",
    "        # skip hidden files\n",
    "        if query.startswith('.') or query.endswith('.json'):\n",
    "            continue\n",
    "\n",
    "        # move into query directory\n",
    "        os.chdir(query)\n",
    "        # save the path of the current query\n",
    "        query_path = os.getcwd()\n",
    "\n",
    "        # retrieve all the json files not in location directories\n",
    "        for filename in glob.glob('*.json'):\n",
    "            insert_many(filename, query)\n",
    "            # print query, json_file\n",
    "\n",
    "        # iterate through all subdirectories inside of the parent query\n",
    "        for subdir in os.listdir(os.getcwd()):\n",
    "            # skip hidden files and json files (since we already retrieved these above)\n",
    "            if subdir.startswith('.') or subdir.endswith('.json'):\n",
    "                continue\n",
    "            # move into sub directory inside of query (country, timestamp)\n",
    "            os.chdir(subdir)\n",
    "\n",
    "            # retrieve all the json files not in location and timestamp folders\n",
    "            for filename in glob.glob('*.json'):\n",
    "                insert_many(filename, query)\n",
    "                # print query, subdir, json_file\n",
    "\n",
    "            # move out back to query directory\n",
    "            os.chdir(query_path)\n",
    "\n",
    "        # move out of query directory\n",
    "        os.chdir(root_query)\n",
    "\n",
    "    os.chdir(root)"
   ]
  },
  {
   "cell_type": "code",
   "execution_count": 9,
   "metadata": {
    "collapsed": false
   },
   "outputs": [],
   "source": [
    "# set the current directory\n",
    "path = 'queries'\n",
    "root = os.getcwd()\n",
    "\n",
    "create_tweet_db(root, path)"
   ]
  },
  {
   "cell_type": "code",
   "execution_count": 10,
   "metadata": {
    "collapsed": false
   },
   "outputs": [],
   "source": [
    "os.chdir(root)"
   ]
  },
  {
   "cell_type": "code",
   "execution_count": 11,
   "metadata": {
    "collapsed": false
   },
   "outputs": [
    {
     "data": {
      "text/plain": [
       "'/Users/brydenfogelman/DTU/social-graphs/02805-social-graphs/project'"
      ]
     },
     "execution_count": 11,
     "metadata": {},
     "output_type": "execute_result"
    }
   ],
   "source": [
    "os.getcwd()"
   ]
  },
  {
   "cell_type": "code",
   "execution_count": 17,
   "metadata": {
    "collapsed": false
   },
   "outputs": [
    {
     "data": {
      "text/plain": [
       "112948"
      ]
     },
     "execution_count": 17,
     "metadata": {},
     "output_type": "execute_result"
    }
   ],
   "source": [
    "tweet_collection.count()"
   ]
  },
  {
   "cell_type": "code",
   "execution_count": 18,
   "metadata": {
    "collapsed": false
   },
   "outputs": [
    {
     "data": {
      "text/plain": [
       "87584"
      ]
     },
     "execution_count": 18,
     "metadata": {},
     "output_type": "execute_result"
    }
   ],
   "source": [
    "user_collection.count()"
   ]
  },
  {
   "cell_type": "code",
   "execution_count": 14,
   "metadata": {
    "collapsed": true
   },
   "outputs": [],
   "source": [
    "path = 'election_day'\n",
    "create_tweet_db(root, path)"
   ]
  },
  {
   "cell_type": "code",
   "execution_count": 16,
   "metadata": {
    "collapsed": false
   },
   "outputs": [
    {
     "ename": "TypeError",
     "evalue": "'Collection' object is not callable. If you meant to call the 'stats' method on a 'Collection' object it is failing because no such method exists.",
     "output_type": "error",
     "traceback": [
      "\u001b[0;31m---------------------------------------------------------------------------\u001b[0m",
      "\u001b[0;31mTypeError\u001b[0m                                 Traceback (most recent call last)",
      "\u001b[0;32m<ipython-input-16-8326cbcb2201>\u001b[0m in \u001b[0;36m<module>\u001b[0;34m()\u001b[0m\n\u001b[0;32m----> 1\u001b[0;31m \u001b[0mtweet_collection\u001b[0m\u001b[0;34m.\u001b[0m\u001b[0mstats\u001b[0m\u001b[0;34m(\u001b[0m\u001b[0;34m)\u001b[0m\u001b[0;34m\u001b[0m\u001b[0m\n\u001b[0m",
      "\u001b[0;32m//anaconda/lib/python2.7/site-packages/pymongo/collection.pyc\u001b[0m in \u001b[0;36m__call__\u001b[0;34m(self, *args, **kwargs)\u001b[0m\n\u001b[1;32m   2358\u001b[0m                         \u001b[0;34m\"call the '%s' method on a 'Collection' object it is \"\u001b[0m\u001b[0;34m\u001b[0m\u001b[0m\n\u001b[1;32m   2359\u001b[0m                         \u001b[0;34m\"failing because no such method exists.\"\u001b[0m \u001b[0;34m%\u001b[0m\u001b[0;34m\u001b[0m\u001b[0m\n\u001b[0;32m-> 2360\u001b[0;31m                         self.__name.split(\".\")[-1])\n\u001b[0m",
      "\u001b[0;31mTypeError\u001b[0m: 'Collection' object is not callable. If you meant to call the 'stats' method on a 'Collection' object it is failing because no such method exists."
     ]
    }
   ],
   "source": [
    "tweet_collection.stats()"
   ]
  },
  {
   "cell_type": "code",
   "execution_count": null,
   "metadata": {
    "collapsed": true
   },
   "outputs": [],
   "source": []
  }
 ],
 "metadata": {
  "kernelspec": {
   "display_name": "Python [Root]",
   "language": "python",
   "name": "Python [Root]"
  },
  "language_info": {
   "codemirror_mode": {
    "name": "ipython",
    "version": 2
   },
   "file_extension": ".py",
   "mimetype": "text/x-python",
   "name": "python",
   "nbconvert_exporter": "python",
   "pygments_lexer": "ipython2",
   "version": "2.7.12"
  }
 },
 "nbformat": 4,
 "nbformat_minor": 0
}
