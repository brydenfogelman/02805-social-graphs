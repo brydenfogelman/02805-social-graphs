{
 "cells": [
  {
   "cell_type": "code",
   "execution_count": 1,
   "metadata": {
    "collapsed": false
   },
   "outputs": [],
   "source": [
    "import tweepy\n",
    "import json\n",
    "import time\n",
    "import datetime\n",
    "import os"
   ]
  },
  {
   "cell_type": "code",
   "execution_count": 3,
   "metadata": {
    "collapsed": false
   },
   "outputs": [],
   "source": [
    "# 180 request / 15 mins window\n",
    "\n",
    "properties = dict(line.strip().split('=') \n",
    "          for line in open('elections.properties') \n",
    "          if not line.startswith('#') and not line.startswith('\\n'))\n",
    "\n",
    "auth = tweepy.OAuthHandler(properties[\"CONSUMER_KEY\"], properties[\"CONSUMER_SECRET\"])\n",
    "auth.set_access_token(properties[\"OAUTH_TOKEN\"], properties[\"OAUTH_TOKEN_SECRET\"])\n",
    "api = tweepy.API(auth)"
   ]
  },
  {
   "cell_type": "code",
   "execution_count": 25,
   "metadata": {
    "collapsed": false,
    "scrolled": false
   },
   "outputs": [],
   "source": [
    "QUERIES_DIR = 'queries/'\n",
    "\n",
    "def save_tweets(query, tweets_container, directory=None):\n",
    "    current_time = datetime.datetime.now()\n",
    "    query_dir = QUERIES_DIR + query + '/'\n",
    "    if directory:\n",
    "        query_dir += directory + '/'\n",
    "    \n",
    "    if not os.path.exists(query_dir):\n",
    "        os.makedirs(query_dir)\n",
    "\n",
    "    with open(query_dir + current_time.isoformat() + '.json', 'w') as f:\n",
    "        json.dump(tweets_container, f)\n",
    "\n",
    "\n",
    "def get_tweets(query, limit):\n",
    "    tweets_container = {}\n",
    "    \n",
    "    # Code retrieved from\n",
    "    # https://github.com/tweepy/tweepy/issues/197\n",
    "    # I believe the count=100 is unessecary in our case\n",
    "    #\n",
    "    #\n",
    "    # Cursor params are passed to the method (ex.api.search)\n",
    "    # Cursor will alow as to continue to retrieve tweets without worrying about hitting a page limit\n",
    "    #\n",
    "    # api.search arguments are:\n",
    "    #\n",
    "    #     :reference: https://dev.twitter.com/rest/reference/get/search/tweets\n",
    "    #     :allowed_param:'q', 'lang', 'locale', 'since_id', 'geocode',\n",
    "    #      'max_id', 'since', 'until', 'result_type', 'count',\n",
    "    #       'include_entities', 'from', 'to', 'source']\n",
    "    #\n",
    "    # To handle the rate limit:\n",
    "    # # http://docs.tweepy.org/en/v3.5.0/code_snippet.html#handling-the-rate-limit-using-cursors\n",
    "\n",
    "    def limit_handled(cursor, query):\n",
    "        while True:\n",
    "            try:\n",
    "                yield cursor.next()\n",
    "\n",
    "            #except tweepy.RateLimitError as e:\n",
    "            # I think RateLimitError was depreceated, need to find the new one\n",
    "            except Exception as e:\n",
    "                print \"Rate Limit Error for %s: %s\" % (query, e)\n",
    "                # can handle in any way we want\n",
    "                #time.sleep(15 * 60)\n",
    "                yield None\n",
    "\n",
    "\n",
    "    tweepy_cursor = tweepy.Cursor(api.search,\n",
    "                                q=query,\n",
    "                                count=100,\n",
    "                                result_type=\"recent\",\n",
    "                                include_entities=True,\n",
    "                                lang=\"en\")            \n",
    "\n",
    "    for tweet in limit_handled(tweepy_cursor.items(), query):\n",
    "        if not tweet:\n",
    "            break\n",
    "        # converting tweet to json\n",
    "        tweet_json = json.dumps(tweet._json)\n",
    "        tweet_json = json.loads(tweet_json)\n",
    "        tweets_container[tweet_json['id']] = tweet_json\n",
    "\n",
    "        # Test how many tweets we can store\n",
    "        size = len(tweets_container.keys())\n",
    "        if size % limit == 0:\n",
    "            print size\n",
    "            break\n",
    "    \n",
    "    return tweets_container\n",
    "\n",
    "def get_and_save_tweets(since=None, until=None):\n",
    "    # Example Query\n",
    "    queries = [\"#DonaldTrump OR #HillaryClinton OR Trump OR Clinton\", \"#Elections2016\", \"#ElectionDay\"]\n",
    "    places = {\"USA\": \"96683cc9126741d1\", \"Canada\": \"3376992a082d67c7\", \"France\": \"f3bfc7dcc928977f\", \"Denmark\": \"c29833e68a86e703\",\n",
    "             \"Mexico\": \"25530ba03b7d90c6\", \"Brazil\": \"1b107df3ccc0aaa1\", \"Germany\": \"fdcd221ac44fa326\", \"China\": \"4797714c95971ac1\",\n",
    "             \"UK\": \"6416b8512febefc9\", \"Russia\": \"5714382051c06d1e\", \"Cuba\": \"ac26bceca6c10474\", \"Australia\": \"3f14ce28dc7c4566\",\n",
    "             \"Sweden\": \"82b141af443cb1b8\", \"India\": \"b850c1bfd38f30e0\", \"UAE\": \"3f63906fc8aa5a7d\", \"South Africa\": \"dd9c0d7d7e07eb49\",\n",
    "             }\n",
    "\n",
    "    nb_queries_per_search_term = len(places) + 1\n",
    "    nb_queries_total = len(queries) * nb_queries_per_search_term\n",
    "\n",
    "    print nb_queries_total\n",
    "\n",
    "    nb_results_per_query = 100\n",
    "\n",
    "    print nb_queries_total * nb_results_per_query\n",
    "\n",
    "    limit = (180 / nb_queries_total) * nb_results_per_query\n",
    "\n",
    "    for query in queries:\n",
    "        if since and until:\n",
    "            query += \" since:\" + since + \" until:\" + until\n",
    "        print query\n",
    "        tweets_container = get_tweets(query, limit=limit)\n",
    "        save_tweets(query, tweets_container)\n",
    "        \n",
    "        for country, place_id in places.iteritems():\n",
    "            print query, country\n",
    "            tweets_container = get_tweets(query + \" place:\" + place_id, limit=limit)\n",
    "            save_tweets(query, tweets_container, directory=country)"
   ]
  },
  {
   "cell_type": "code",
   "execution_count": 26,
   "metadata": {
    "collapsed": false
   },
   "outputs": [
    {
     "name": "stdout",
     "output_type": "stream",
     "text": [
      "51\n",
      "5100\n",
      "#DonaldTrump OR #HillaryClinton OR Trump OR Clinton\n",
      "300\n",
      "#DonaldTrump OR #HillaryClinton OR Trump OR Clinton Canada\n",
      "Rate Limit Error for #DonaldTrump OR #HillaryClinton OR Trump OR Clinton place:3376992a082d67c7: Twitter error response: status code = 429\n",
      "#DonaldTrump OR #HillaryClinton OR Trump OR Clinton Brazil\n",
      "Rate Limit Error for #DonaldTrump OR #HillaryClinton OR Trump OR Clinton place:1b107df3ccc0aaa1: Twitter error response: status code = 429\n",
      "#DonaldTrump OR #HillaryClinton OR Trump OR Clinton Australia\n",
      "Rate Limit Error for #DonaldTrump OR #HillaryClinton OR Trump OR Clinton place:3f14ce28dc7c4566: Twitter error response: status code = 429\n",
      "#DonaldTrump OR #HillaryClinton OR Trump OR Clinton USA\n",
      "Rate Limit Error for #DonaldTrump OR #HillaryClinton OR Trump OR Clinton place:96683cc9126741d1: Twitter error response: status code = 429\n",
      "#DonaldTrump OR #HillaryClinton OR Trump OR Clinton Mexico\n",
      "Rate Limit Error for #DonaldTrump OR #HillaryClinton OR Trump OR Clinton place:25530ba03b7d90c6: Twitter error response: status code = 429\n",
      "#DonaldTrump OR #HillaryClinton OR Trump OR Clinton Denmark\n",
      "Rate Limit Error for #DonaldTrump OR #HillaryClinton OR Trump OR Clinton place:c29833e68a86e703: Twitter error response: status code = 429\n",
      "#DonaldTrump OR #HillaryClinton OR Trump OR Clinton Cuba\n",
      "Rate Limit Error for #DonaldTrump OR #HillaryClinton OR Trump OR Clinton place:ac26bceca6c10474: Twitter error response: status code = 429\n",
      "#DonaldTrump OR #HillaryClinton OR Trump OR Clinton India\n",
      "Rate Limit Error for #DonaldTrump OR #HillaryClinton OR Trump OR Clinton place:b850c1bfd38f30e0: Twitter error response: status code = 429\n",
      "#DonaldTrump OR #HillaryClinton OR Trump OR Clinton South Africa\n",
      "Rate Limit Error for #DonaldTrump OR #HillaryClinton OR Trump OR Clinton place:dd9c0d7d7e07eb49: Twitter error response: status code = 429\n",
      "#DonaldTrump OR #HillaryClinton OR Trump OR Clinton France\n",
      "Rate Limit Error for #DonaldTrump OR #HillaryClinton OR Trump OR Clinton place:f3bfc7dcc928977f: Twitter error response: status code = 429\n",
      "#DonaldTrump OR #HillaryClinton OR Trump OR Clinton Sweden\n",
      "Rate Limit Error for #DonaldTrump OR #HillaryClinton OR Trump OR Clinton place:82b141af443cb1b8: Twitter error response: status code = 429\n",
      "#DonaldTrump OR #HillaryClinton OR Trump OR Clinton Germany\n",
      "Rate Limit Error for #DonaldTrump OR #HillaryClinton OR Trump OR Clinton place:fdcd221ac44fa326: Twitter error response: status code = 429\n",
      "#DonaldTrump OR #HillaryClinton OR Trump OR Clinton UK\n",
      "Rate Limit Error for #DonaldTrump OR #HillaryClinton OR Trump OR Clinton place:6416b8512febefc9: Twitter error response: status code = 429\n",
      "#DonaldTrump OR #HillaryClinton OR Trump OR Clinton China\n",
      "Rate Limit Error for #DonaldTrump OR #HillaryClinton OR Trump OR Clinton place:4797714c95971ac1: Twitter error response: status code = 429\n",
      "#DonaldTrump OR #HillaryClinton OR Trump OR Clinton UAE\n",
      "Rate Limit Error for #DonaldTrump OR #HillaryClinton OR Trump OR Clinton place:3f63906fc8aa5a7d: Twitter error response: status code = 429\n",
      "#DonaldTrump OR #HillaryClinton OR Trump OR Clinton Russia\n",
      "Rate Limit Error for #DonaldTrump OR #HillaryClinton OR Trump OR Clinton place:5714382051c06d1e: Twitter error response: status code = 429\n",
      "#Elections2016\n",
      "Rate Limit Error for #Elections2016: Twitter error response: status code = 429\n",
      "#Elections2016 Canada\n",
      "Rate Limit Error for #Elections2016 place:3376992a082d67c7: Twitter error response: status code = 429\n",
      "#Elections2016 Brazil\n",
      "Rate Limit Error for #Elections2016 place:1b107df3ccc0aaa1: Twitter error response: status code = 429\n",
      "#Elections2016 Australia\n",
      "Rate Limit Error for #Elections2016 place:3f14ce28dc7c4566: Twitter error response: status code = 429\n",
      "#Elections2016 USA\n",
      "Rate Limit Error for #Elections2016 place:96683cc9126741d1: Twitter error response: status code = 429\n",
      "#Elections2016 Mexico\n",
      "Rate Limit Error for #Elections2016 place:25530ba03b7d90c6: Twitter error response: status code = 429\n",
      "#Elections2016 Denmark\n",
      "Rate Limit Error for #Elections2016 place:c29833e68a86e703: Twitter error response: status code = 429\n",
      "#Elections2016 Cuba\n",
      "Rate Limit Error for #Elections2016 place:ac26bceca6c10474: Twitter error response: status code = 429\n",
      "#Elections2016 India\n",
      "Rate Limit Error for #Elections2016 place:b850c1bfd38f30e0: Twitter error response: status code = 429\n",
      "#Elections2016 South Africa\n",
      "Rate Limit Error for #Elections2016 place:dd9c0d7d7e07eb49: Twitter error response: status code = 429\n",
      "#Elections2016 France\n",
      "Rate Limit Error for #Elections2016 place:f3bfc7dcc928977f: Twitter error response: status code = 429\n",
      "#Elections2016 Sweden\n",
      "Rate Limit Error for #Elections2016 place:82b141af443cb1b8: Twitter error response: status code = 429\n",
      "#Elections2016 Germany\n",
      "Rate Limit Error for #Elections2016 place:fdcd221ac44fa326: Twitter error response: status code = 429\n",
      "#Elections2016 UK\n",
      "Rate Limit Error for #Elections2016 place:6416b8512febefc9: Twitter error response: status code = 429\n",
      "#Elections2016 China\n",
      "Rate Limit Error for #Elections2016 place:4797714c95971ac1: Twitter error response: status code = 429\n",
      "#Elections2016 UAE\n",
      "Rate Limit Error for #Elections2016 place:3f63906fc8aa5a7d: Twitter error response: status code = 429\n",
      "#Elections2016 Russia\n",
      "Rate Limit Error for #Elections2016 place:5714382051c06d1e: Twitter error response: status code = 429\n",
      "#ElectionDay\n",
      "Rate Limit Error for #ElectionDay: Twitter error response: status code = 429\n",
      "#ElectionDay Canada\n",
      "Rate Limit Error for #ElectionDay place:3376992a082d67c7: Twitter error response: status code = 429\n",
      "#ElectionDay Brazil\n",
      "Rate Limit Error for #ElectionDay place:1b107df3ccc0aaa1: Twitter error response: status code = 429\n",
      "#ElectionDay Australia\n",
      "Rate Limit Error for #ElectionDay place:3f14ce28dc7c4566: Twitter error response: status code = 429\n",
      "#ElectionDay USA\n",
      "Rate Limit Error for #ElectionDay place:96683cc9126741d1: Twitter error response: status code = 429\n",
      "#ElectionDay Mexico\n",
      "Rate Limit Error for #ElectionDay place:25530ba03b7d90c6: Twitter error response: status code = 429\n",
      "#ElectionDay Denmark\n",
      "Rate Limit Error for #ElectionDay place:c29833e68a86e703: Twitter error response: status code = 429\n",
      "#ElectionDay Cuba\n",
      "Rate Limit Error for #ElectionDay place:ac26bceca6c10474: Twitter error response: status code = 429\n",
      "#ElectionDay India\n",
      "Rate Limit Error for #ElectionDay place:b850c1bfd38f30e0: Twitter error response: status code = 429\n",
      "#ElectionDay South Africa\n",
      "Rate Limit Error for #ElectionDay place:dd9c0d7d7e07eb49: Twitter error response: status code = 429\n",
      "#ElectionDay France\n",
      "Rate Limit Error for #ElectionDay place:f3bfc7dcc928977f: Twitter error response: status code = 429\n",
      "#ElectionDay Sweden\n",
      "Rate Limit Error for #ElectionDay place:82b141af443cb1b8: Twitter error response: status code = 429\n",
      "#ElectionDay Germany\n",
      "Rate Limit Error for #ElectionDay place:fdcd221ac44fa326: Twitter error response: status code = 429\n",
      "#ElectionDay UK\n",
      "Rate Limit Error for #ElectionDay place:6416b8512febefc9: Twitter error response: status code = 429\n",
      "#ElectionDay China\n",
      "Rate Limit Error for #ElectionDay place:4797714c95971ac1: Twitter error response: status code = 429\n",
      "#ElectionDay UAE\n",
      "Rate Limit Error for #ElectionDay place:3f63906fc8aa5a7d: Twitter error response: status code = 429\n",
      "#ElectionDay Russia\n",
      "Rate Limit Error for #ElectionDay place:5714382051c06d1e: Twitter error response: status code = 429\n"
     ]
    }
   ],
   "source": [
    "# since = \"2016-11-1\"\n",
    "# until = \"2016-11-2\"\n",
    "\n",
    "get_and_save_tweets()"
   ]
  },
  {
   "cell_type": "code",
   "execution_count": 6,
   "metadata": {
    "collapsed": false
   },
   "outputs": [
    {
     "name": "stdout",
     "output_type": "stream",
     "text": [
      "[(795576391647444992, {u'contributors': None, u'truncated': False, u'text': u'RT @OnlineMagazin: \\U0001f198\\u203c\\ufe0f\\U0001f602\\U0001f525 Do not be fooled!!! Not even with free concert and celebrities like Jay-Z and Beyonce... #HillaryClinton can not f\\u2026', u'is_quote_status': False, u'in_reply_to_status_id': None, u'id': 795576391647444992, u'favorite_count': 0, u'source': u'<a href=\"http://twitter.com/download/android\" rel=\"nofollow\">Twitter for Android</a>', u'retweeted': False, u'coordinates': None, u'entities': {u'symbols': [], u'user_mentions': [{u'indices': [3, 17], u'screen_name': u'OnlineMagazin', u'id': 113987669, u'name': u'Onlinemagazin', u'id_str': u'113987669'}], u'hashtags': [{u'indices': [114, 129], u'text': u'HillaryClinton'}], u'urls': []}, u'in_reply_to_screen_name': None, u'id_str': u'795576391647444992', u'retweet_count': 31, u'in_reply_to_user_id': None, u'favorited': False, u'retweeted_status': {u'contributors': None, u'truncated': True, u'text': u'\\U0001f198\\u203c\\ufe0f\\U0001f602\\U0001f525 Do not be fooled!!! Not even with free concert and celebrities like Jay-Z and Beyonce... #HillaryClinton can\\u2026 https://t.co/9ett9AUuiK', u'is_quote_status': False, u'in_reply_to_status_id': None, u'id': 795565364390281216, u'favorite_count': 15, u'source': u'<a href=\"http://twitter.com\" rel=\"nofollow\">Twitter Web Client</a>', u'retweeted': False, u'coordinates': None, u'entities': {u'symbols': [], u'user_mentions': [], u'hashtags': [{u'indices': [95, 110], u'text': u'HillaryClinton'}], u'urls': [{u'url': u'https://t.co/9ett9AUuiK', u'indices': [116, 139], u'expanded_url': u'https://twitter.com/i/web/status/795565364390281216', u'display_url': u'twitter.com/i/web/status/7\\u2026'}]}, u'in_reply_to_screen_name': None, u'id_str': u'795565364390281216', u'retweet_count': 31, u'in_reply_to_user_id': None, u'favorited': False, u'user': {u'follow_request_sent': False, u'has_extended_profile': False, u'profile_use_background_image': False, u'time_zone': u'Bern', u'id': 113987669, u'default_profile': False, u'verified': False, u'profile_text_color': u'333333', u'profile_image_url_https': u'https://pbs.twimg.com/profile_images/656622334833504256/LY5orDjL_normal.jpg', u'profile_sidebar_fill_color': u'DDFFCC', u'is_translator': False, u'geo_enabled': False, u'entities': {u'url': {u'urls': [{u'url': u'http://t.co/dpyphGTeT6', u'indices': [0, 22], u'expanded_url': u'http://www.artikelmagazin.de', u'display_url': u'artikelmagazin.de'}]}, u'description': {u'urls': [{u'url': u'http://t.co/PR8yWK5VUJ', u'indices': [56, 78], u'expanded_url': u'http://www.artikelmagazin.de/impressum/', u'display_url': u'artikelmagazin.de/impressum/'}]}}, u'followers_count': 44439, u'protected': False, u'id_str': u'113987669', u'default_profile_image': False, u'listed_count': 687, u'lang': u'de', u'utc_offset': 3600, u'statuses_count': 62354, u'description': u'Viele interessante Themen im Onlinemagazin.\\r\\nImpressum: http://t.co/PR8yWK5VUJ', u'friends_count': 124, u'profile_link_color': u'0084B4', u'profile_image_url': u'http://pbs.twimg.com/profile_images/656622334833504256/LY5orDjL_normal.jpg', u'notifications': False, u'profile_background_image_url_https': u'https://abs.twimg.com/images/themes/theme16/bg.gif', u'profile_background_color': u'85291D', u'profile_banner_url': u'https://pbs.twimg.com/profile_banners/113987669/1453398138', u'profile_background_image_url': u'http://abs.twimg.com/images/themes/theme16/bg.gif', u'name': u'Onlinemagazin', u'is_translation_enabled': False, u'profile_background_tile': False, u'favourites_count': 94124, u'screen_name': u'OnlineMagazin', u'url': u'http://t.co/dpyphGTeT6', u'created_at': u'Sat Feb 13 18:20:12 +0000 2010', u'contributors_enabled': False, u'location': u'Lissabon, Portugal', u'profile_sidebar_border_color': u'FFFFFF', u'translator_type': u'none', u'following': False}, u'geo': None, u'in_reply_to_user_id_str': None, u'possibly_sensitive': False, u'lang': u'en', u'created_at': u'Mon Nov 07 09:55:38 +0000 2016', u'in_reply_to_status_id_str': None, u'place': None, u'metadata': {u'iso_language_code': u'en', u'result_type': u'recent'}}, u'user': {u'follow_request_sent': False, u'has_extended_profile': False, u'profile_use_background_image': True, u'time_zone': u'Pacific Time (US & Canada)', u'id': 703680092468342785, u'default_profile': True, u'verified': False, u'profile_text_color': u'333333', u'profile_image_url_https': u'https://pbs.twimg.com/profile_images/784080754301145088/W_jD0oH7_normal.jpg', u'profile_sidebar_fill_color': u'DDEEF6', u'is_translator': False, u'geo_enabled': False, u'entities': {u'description': {u'urls': []}}, u'followers_count': 84, u'protected': False, u'id_str': u'703680092468342785', u'default_profile_image': False, u'listed_count': 13, u'lang': u'de', u'utc_offset': -28800, u'statuses_count': 7506, u'description': u'\\xabDie multikulturelle Gesellschaft ist eine Illusion von Intellektuellen\\xbb', u'friends_count': 132, u'profile_link_color': u'1DA1F2', u'profile_image_url': u'http://pbs.twimg.com/profile_images/784080754301145088/W_jD0oH7_normal.jpg', u'notifications': False, u'profile_background_image_url_https': None, u'profile_background_color': u'F5F8FA', u'profile_banner_url': u'https://pbs.twimg.com/profile_banners/703680092468342785/1475774503', u'profile_background_image_url': None, u'name': u'Vic Boss', u'is_translation_enabled': False, u'profile_background_tile': False, u'favourites_count': 5749, u'screen_name': u'VicBossX', u'url': None, u'created_at': u'Sat Feb 27 20:36:22 +0000 2016', u'contributors_enabled': False, u'location': u'', u'profile_sidebar_border_color': u'C0DEED', u'translator_type': u'none', u'following': False}, u'geo': None, u'in_reply_to_user_id_str': None, u'lang': u'en', u'created_at': u'Mon Nov 07 10:39:27 +0000 2016', u'in_reply_to_status_id_str': None, u'place': None, u'metadata': {u'iso_language_code': u'en', u'result_type': u'recent'}})]\n"
     ]
    }
   ],
   "source": [
    "print [(tweet_id, content) for tweet_id, content in tweets_container.iteritems()][:2]"
   ]
  },
  {
   "cell_type": "code",
   "execution_count": 30,
   "metadata": {
    "collapsed": false
   },
   "outputs": [],
   "source": [
    "# Get place_id for a selection of countries\n",
    "api = tweepy.API(auth)\n",
    "\n",
    "countries = [\"USA\", \"Canada\", \"France\", \"Denmark\", \"Mexico\", \"Brazil\", \"Germany\", \"India\", \"China\", \"South Africa\", \n",
    "             \"United Kingdom\", \"Russia\", \"Australia\", \"Cuba\", \"Sweden\",\n",
    "             \"Argentina\", \"Japan\", \"Spain\", \"Italy\", \"Norway\", \"Finland\", \"UAE\"] # Last line not taken (only first 15)\n",
    "\n",
    "countries_place_id = []\n",
    "\n",
    "# i = 0\n",
    "# while i < len(countries):\n",
    "#     country = countries[i]\n",
    "\n",
    "for country in countries[:15]:\n",
    "    try:\n",
    "        # TODO Need to lang=en to this query to get the results in English, and not f***ing Danish \n",
    "        places = api.geo_search(query=country, granularity=\"country\", )\n",
    "    except Exception as e:\n",
    "        print \"Rate Limit Error: %s\" % e\n",
    "        time.sleep(15 * 60 + 15)\n",
    "        continue\n",
    "        \n",
    "    for place in places:\n",
    "        place_id = place.id\n",
    "        try:\n",
    "            country_name = place.name.decode('utf-8')\n",
    "        except Exception as e:\n",
    "            country_name = place.name\n",
    "        \n",
    "        country_place_id = {\"real_name\": country, \"twitter_name\": country_name, \"place_id\": place_id}\n",
    "        countries_place_id.append(country_place_id)\n",
    "        \n",
    "#     i += 1\n",
    "\n",
    "with open('places_id.json', 'w') as f:\n",
    "    json.dump(countries_place_id, f)"
   ]
  },
  {
   "cell_type": "code",
   "execution_count": 32,
   "metadata": {
    "collapsed": false
   },
   "outputs": [
    {
     "name": "stdout",
     "output_type": "stream",
     "text": [
      "USA\n",
      "United States Minor Outlying Islands\n",
      "Canada\n",
      "Fransk Guyana\n",
      "Frankrig\n",
      "French Polynesia\n",
      "French Southern and Antarctic Lands\n",
      "Danmark\n",
      "Mexico\n",
      "Brasilien\n",
      "Tyskland\n",
      "Indien\n",
      "British Indian Ocean Territory\n",
      "中华人民共和国\n",
      "South Africa\n",
      "South Georgia and the South Sandwich Islands\n",
      "Central African Republic\n",
      "Storbritannien\n",
      "USA\n",
      "Forenede Arabiske Emirater\n",
      "United States Minor Outlying Islands\n",
      "المملكة الأردنية الهاشمية\n",
      "Saudi Arabien\n",
      "Hviderusland\n",
      "Россия\n",
      "Australia\n",
      "Cuba\n",
      "Sverige\n"
     ]
    }
   ],
   "source": [
    "for country in countries_place_id:\n",
    "    print country[\"twitter_name\"]"
   ]
  },
  {
   "cell_type": "code",
   "execution_count": 35,
   "metadata": {
    "collapsed": false
   },
   "outputs": [
    {
     "name": "stdout",
     "output_type": "stream",
     "text": [
      "2016-11-04T18:15:56.788111\n"
     ]
    }
   ],
   "source": [
    "current_time = datetime.datetime.now()\n",
    "\n",
    "print current_time.isoformat()"
   ]
  },
  {
   "cell_type": "code",
   "execution_count": null,
   "metadata": {
    "collapsed": true
   },
   "outputs": [],
   "source": []
  }
 ],
 "metadata": {
  "anaconda-cloud": {},
  "kernelspec": {
   "display_name": "Python [Root]",
   "language": "python",
   "name": "Python [Root]"
  },
  "language_info": {
   "codemirror_mode": {
    "name": "ipython",
    "version": 2
   },
   "file_extension": ".py",
   "mimetype": "text/x-python",
   "name": "python",
   "nbconvert_exporter": "python",
   "pygments_lexer": "ipython2",
   "version": "2.7.12"
  }
 },
 "nbformat": 4,
 "nbformat_minor": 0
}
