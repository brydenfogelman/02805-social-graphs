{
 "cells": [
  {
   "cell_type": "code",
   "execution_count": 2,
   "metadata": {
    "collapsed": false
   },
   "outputs": [],
   "source": [
    "import tweepy\n",
    "import json"
   ]
  },
  {
   "cell_type": "code",
   "execution_count": 46,
   "metadata": {
    "collapsed": false
   },
   "outputs": [
    {
     "name": "stdout",
     "output_type": "stream",
     "text": [
      "Rate Limit Error Twitter error response: status code = 429\n"
     ]
    },
    {
     "ename": "NameError",
     "evalue": "global name 'time' is not defined",
     "output_type": "error",
     "traceback": [
      "\u001b[0;31m---------------------------------------------------------------------------\u001b[0m",
      "\u001b[0;31mNameError\u001b[0m                                 Traceback (most recent call last)",
      "\u001b[0;32m<ipython-input-46-cdf31b1ca395>\u001b[0m in \u001b[0;36m<module>\u001b[0;34m()\u001b[0m\n\u001b[1;32m     49\u001b[0m                            \u001b[0mresult_type\u001b[0m\u001b[0;34m=\u001b[0m\u001b[0;34m\"recent\"\u001b[0m\u001b[0;34m,\u001b[0m\u001b[0;34m\u001b[0m\u001b[0m\n\u001b[1;32m     50\u001b[0m                            \u001b[0minclude_entities\u001b[0m\u001b[0;34m=\u001b[0m\u001b[0mTrue\u001b[0m\u001b[0;34m,\u001b[0m\u001b[0;34m\u001b[0m\u001b[0m\n\u001b[0;32m---> 51\u001b[0;31m                            lang=\"en\").items()):\n\u001b[0m\u001b[1;32m     52\u001b[0m \u001b[0;34m\u001b[0m\u001b[0m\n\u001b[1;32m     53\u001b[0m     \u001b[0;31m# converting tweet to json\u001b[0m\u001b[0;34m\u001b[0m\u001b[0;34m\u001b[0m\u001b[0m\n",
      "\u001b[0;32m<ipython-input-46-cdf31b1ca395>\u001b[0m in \u001b[0;36mlimit_handled\u001b[0;34m(cursor)\u001b[0m\n\u001b[1;32m     41\u001b[0m             \u001b[0;32mprint\u001b[0m \u001b[0;34m\"Rate Limit Error %s\"\u001b[0m \u001b[0;34m%\u001b[0m \u001b[0me\u001b[0m\u001b[0;34m\u001b[0m\u001b[0m\n\u001b[1;32m     42\u001b[0m             \u001b[0;31m# can handle in any way we want\u001b[0m\u001b[0;34m\u001b[0m\u001b[0;34m\u001b[0m\u001b[0m\n\u001b[0;32m---> 43\u001b[0;31m             \u001b[0mtime\u001b[0m\u001b[0;34m.\u001b[0m\u001b[0msleep\u001b[0m\u001b[0;34m(\u001b[0m\u001b[0;36m15\u001b[0m \u001b[0;34m*\u001b[0m \u001b[0;36m60\u001b[0m\u001b[0;34m)\u001b[0m\u001b[0;34m\u001b[0m\u001b[0m\n\u001b[0m\u001b[1;32m     44\u001b[0m \u001b[0;34m\u001b[0m\u001b[0m\n\u001b[1;32m     45\u001b[0m \u001b[0;34m\u001b[0m\u001b[0m\n",
      "\u001b[0;31mNameError\u001b[0m: global name 'time' is not defined"
     ]
    }
   ],
   "source": [
    "# bryden's shit \n",
    "CONSUMER_KEY = 'aF03g35xEjOm5OQuFw8PSuwLF'\n",
    "CONSUMER_SECRET ='5Ifz6t0UPa6BxaaVm7eTQF4cOe3XcpVsX535nFkaLqy5bp7ehg'\n",
    "OAUTH_TOKEN = '594338908-f0JBTAwwVGoZErJ4f1YNAgkj2gws7FQaFur4r2gs'\n",
    "OAUTH_TOKEN_SECRET = 'EOR9ptKEtAc0LyhsEOAxsyEshWdgTcJKzXS6iBln2iB6h'\n",
    "\n",
    "auth = tweepy.OAuthHandler(CONSUMER_KEY, CONSUMER_SECRET)\n",
    "auth.set_access_token(OAUTH_TOKEN, OAUTH_TOKEN_SECRET )\n",
    "\n",
    "api = tweepy.API(auth)\n",
    "\n",
    "# Example Query\n",
    "q = \"#DonaldTrump OR #HillaryClinton\"\n",
    "\n",
    "tweets_container = {}\n",
    "\n",
    "\n",
    "# Code retrieved from\n",
    "# https://github.com/tweepy/tweepy/issues/197\n",
    "# I believe the count=100 is unessecary in our case\n",
    "#\n",
    "#\n",
    "# Cursor params are passed to the method (ex.api.search)\n",
    "# Cursor will alow as to continue to retrieve tweets without worrying about hitting a page limit\n",
    "#\n",
    "# api.search arguments are:\n",
    "#\n",
    "#     :reference: https://dev.twitter.com/rest/reference/get/search/tweets\n",
    "#     :allowed_param:'q', 'lang', 'locale', 'since_id', 'geocode',\n",
    "#      'max_id', 'since', 'until', 'result_type', 'count',\n",
    "#       'include_entities', 'from', 'to', 'source']\n",
    "#\n",
    "# To handle the rate limit:\n",
    "# # http://docs.tweepy.org/en/v3.5.0/code_snippet.html#handling-the-rate-limit-using-cursors\n",
    "\n",
    "def limit_handled(cursor):\n",
    "    while True:\n",
    "        try:\n",
    "            yield cursor.next()\n",
    "            \n",
    "        #except tweepy.RateLimitError as e:\n",
    "        # I think RateLimitError was depreceated, need to find the new one\n",
    "        except Exception as e:\n",
    "            print \"Rate Limit Error: %s\" % e\n",
    "            # can handle in any way we want\n",
    "            time.sleep(15 * 60)\n",
    "\n",
    "\n",
    "for tweet in limit_handled(tweepy.Cursor(api.search,\n",
    "                           q=q,\n",
    "                           count=100,\n",
    "                           result_type=\"recent\",\n",
    "                           include_entities=True,\n",
    "                           lang=\"en\").items()):\n",
    "    \n",
    "    # converting tweet to json\n",
    "    tweet_json = json.dumps(tweet._json)\n",
    "    tweet_json = json.loads(tweet_json)\n",
    "    tweets_container[tweet_json['id']] = tweet_json\n",
    "    \n",
    "    # Test how many tweets we can store\n",
    "    size = len(tweets_container.keys())\n",
    "    if size % 500 == 0:\n",
    "        print size\n",
    "        \n",
    "print count"
   ]
  },
  {
   "cell_type": "code",
   "execution_count": null,
   "metadata": {
    "collapsed": true
   },
   "outputs": [],
   "source": []
  }
 ],
 "metadata": {
  "anaconda-cloud": {},
  "kernelspec": {
   "display_name": "Python [Root]",
   "language": "python",
   "name": "Python [Root]"
  },
  "language_info": {
   "codemirror_mode": {
    "name": "ipython",
    "version": 2
   },
   "file_extension": ".py",
   "mimetype": "text/x-python",
   "name": "python",
   "nbconvert_exporter": "python",
   "pygments_lexer": "ipython2",
   "version": "2.7.12"
  }
 },
 "nbformat": 4,
 "nbformat_minor": 0
}
