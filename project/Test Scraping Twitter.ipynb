{
 "cells": [
  {
   "cell_type": "code",
   "execution_count": 2,
   "metadata": {
    "collapsed": false
   },
   "outputs": [],
   "source": [
    "import tweepy\n",
    "import json"
   ]
  },
  {
   "cell_type": "code",
   "execution_count": null,
   "metadata": {
    "collapsed": false
   },
   "outputs": [
    {
     "name": "stdout",
     "output_type": "stream",
     "text": [
      "500\n",
      "1000\n",
      "1500\n"
     ]
    }
   ],
   "source": [
    "# bryden's shit \n",
    "CONSUMER_KEY = 'aF03g35xEjOm5OQuFw8PSuwLF'\n",
    "CONSUMER_SECRET ='5Ifz6t0UPa6BxaaVm7eTQF4cOe3XcpVsX535nFkaLqy5bp7ehg'\n",
    "OAUTH_TOKEN = '594338908-f0JBTAwwVGoZErJ4f1YNAgkj2gws7FQaFur4r2gs'\n",
    "OAUTH_TOKEN_SECRET = 'EOR9ptKEtAc0LyhsEOAxsyEshWdgTcJKzXS6iBln2iB6h'\n",
    "\n",
    "auth = tweepy.OAuthHandler(CONSUMER_KEY, CONSUMER_SECRET)\n",
    "auth.set_access_token(OAUTH_TOKEN, OAUTH_TOKEN_SECRET )\n",
    "\n",
    "api = tweepy.API(auth)\n",
    "\n",
    "# Example Query\n",
    "q = \"#DonaldTrump OR #HillaryClinton\"\n",
    "\n",
    "tweets_container = {}\n",
    "\n",
    "\n",
    "# Cursor params are passed to the method (ex.api.search)\n",
    "# Cursor will alow as to continue to retrieve tweets without worrying about hitting a page limit\n",
    "#\n",
    "# api.search arguments are:\n",
    "#\n",
    "#     :reference: https://dev.twitter.com/rest/reference/get/search/tweets\n",
    "#     :allowed_param:'q', 'lang', 'locale', 'since_id', 'geocode',\n",
    "#      'max_id', 'since', 'until', 'result_type', 'count',\n",
    "#       'include_entities', 'from', 'to', 'source']\n",
    "#\n",
    "# To handle the rate limit:\n",
    "# # http://docs.tweepy.org/en/v3.5.0/code_snippet.html#handling-the-rate-limit-using-cursors\n",
    "\n",
    "def limit_handled(cursor):\n",
    "    while True:\n",
    "        try:\n",
    "            yield cursor.next()\n",
    "        except tweepy.RateLimitError as e:\n",
    "            print \"Rate Limit Error %s\" % e\n",
    "            # can handle in any way we want\n",
    "            time.sleep(15 * 60)\n",
    "\n",
    "for tweet in limit_handled(tweepy.Cursor(api.search,\n",
    "                           q=q,\n",
    "                           count=100,\n",
    "                           result_type=\"recent\",\n",
    "                           include_entities=True,\n",
    "                           lang=\"en\").items()):\n",
    "    \n",
    "    # converting tweet to json\n",
    "    tweet_json = json.dumps(tweet._json)\n",
    "    tweet_json = json.loads(tweet_json)\n",
    "    tweets_container[tweet_json['id']] = tweet_json\n",
    "    \n",
    "    # Test how many tweets we can store\n",
    "    size = len(tweets_container.keys())\n",
    "    if size % 500 == 0:\n",
    "        print size\n",
    "        \n",
    "print count"
   ]
  },
  {
   "cell_type": "code",
   "execution_count": null,
   "metadata": {
    "collapsed": true
   },
   "outputs": [],
   "source": []
  }
 ],
 "metadata": {
  "anaconda-cloud": {},
  "kernelspec": {
   "display_name": "Python [Root]",
   "language": "python",
   "name": "Python [Root]"
  },
  "language_info": {
   "codemirror_mode": {
    "name": "ipython",
    "version": 2
   },
   "file_extension": ".py",
   "mimetype": "text/x-python",
   "name": "python",
   "nbconvert_exporter": "python",
   "pygments_lexer": "ipython2",
   "version": "2.7.12"
  }
 },
 "nbformat": 4,
 "nbformat_minor": 0
}
