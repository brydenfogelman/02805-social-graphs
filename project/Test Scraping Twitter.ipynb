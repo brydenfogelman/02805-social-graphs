{
 "cells": [
  {
   "cell_type": "code",
   "execution_count": 33,
   "metadata": {
    "collapsed": false
   },
   "outputs": [],
   "source": [
    "import tweepy\n",
    "import json\n",
    "import time\n",
    "import datetime\n",
    "import os"
   ]
  },
  {
   "cell_type": "code",
   "execution_count": 20,
   "metadata": {
    "collapsed": false
   },
   "outputs": [
    {
     "name": "stdout",
     "output_type": "stream",
     "text": [
      "{'CONSUMER_SECRET': '5Ifz6t0UPa6BxaaVm7eTQF4cOe3XcpVsX535nFkaLqy5bp7ehg', 'OAUTH_TOKEN': '594338908-f0JBTAwwVGoZErJ4f1YNAgkj2gws7FQaFur4r2gs', 'CONSUMER_KEY': 'aF03g35xEjOm5OQuFw8PSuwLF', 'OAUTH_TOKEN_SECRET': 'EOR9ptKEtAc0LyhsEOAxsyEshWdgTcJKzXS6iBln2iB6h'}\n"
     ]
    }
   ],
   "source": [
    "# 180 request / 15 mins window\n",
    "\n",
    "properties = dict(line.strip().split('=') \n",
    "          for line in open('elections.properties') \n",
    "          if not line.startswith('#') and not line.startswith('\\n'))\n",
    "\n",
    "print properties\n",
    "\n",
    "auth = tweepy.OAuthHandler(properties[\"CONSUMER_KEY\"], properties[\"CONSUMER_SECRET\"])\n",
    "auth.set_access_token(properties[\"OAUTH_TOKEN\"], properties[\"OAUTH_TOKEN_SECRET\"])\n",
    "api = tweepy.API(auth)"
   ]
  },
  {
   "cell_type": "code",
   "execution_count": null,
   "metadata": {
    "collapsed": true
   },
   "outputs": [],
   "source": [
    "QUERIES_DIR = 'queries/'\n",
    "\n",
    "# Example Query\n",
    "query = \"#DonaldTrump OR #HillaryClinton\"\n",
    "\n",
    "tweets_container = {}\n",
    "\n",
    "\n",
    "# Code retrieved from\n",
    "# https://github.com/tweepy/tweepy/issues/197\n",
    "# I believe the count=100 is unessecary in our case\n",
    "#\n",
    "#\n",
    "# Cursor params are passed to the method (ex.api.search)\n",
    "# Cursor will alow as to continue to retrieve tweets without worrying about hitting a page limit\n",
    "#\n",
    "# api.search arguments are:\n",
    "#\n",
    "#     :reference: https://dev.twitter.com/rest/reference/get/search/tweets\n",
    "#     :allowed_param:'q', 'lang', 'locale', 'since_id', 'geocode',\n",
    "#      'max_id', 'since', 'until', 'result_type', 'count',\n",
    "#       'include_entities', 'from', 'to', 'source']\n",
    "#\n",
    "# To handle the rate limit:\n",
    "# # http://docs.tweepy.org/en/v3.5.0/code_snippet.html#handling-the-rate-limit-using-cursors\n",
    "\n",
    "def limit_handled(cursor):\n",
    "    while True:\n",
    "        try:\n",
    "            yield cursor.next()\n",
    "            \n",
    "        #except tweepy.RateLimitError as e:\n",
    "        # I think RateLimitError was depreceated, need to find the new one\n",
    "        except Exception as e:\n",
    "            print \"Rate Limit Error: %s\" % e\n",
    "            # can handle in any way we want\n",
    "            time.sleep(15 * 60)\n",
    "\n",
    "\n",
    "# tweepy_cursor = tweepy.Cursor(api.search,\n",
    "#                            q=query,\n",
    "#                            count=100,\n",
    "#                            result_type=\"recent\",\n",
    "#                            include_entities=True,\n",
    "#                            lang=\"en\")            \n",
    "            \n",
    "for tweet in limit_handled(tweepy_cursor.items()):\n",
    "    # converting tweet to json\n",
    "    tweet_json = json.dumps(tweet._json)\n",
    "    tweet_json = json.loads(tweet_json)\n",
    "    tweets_container[tweet_json['id']] = tweet_json\n",
    "    \n",
    "    # Test how many tweets we can store\n",
    "    size = len(tweets_container.keys())\n",
    "    if size % 500 == 0:\n",
    "        print size\n",
    "        \n",
    "print count\n",
    "\n",
    "current_time = datetime.datetime.now()\n",
    "\n",
    "query_dir = QUERIES_DIR + query + '/'\n",
    "if not os.path.exists(query_dir):\n",
    "    os.makedirs(query_dir)\n",
    "\n",
    "with open(query_dir + current_time.isoformat() + '.json', 'w') as f:\n",
    "    json.dump(countries_place_id, f)"
   ]
  },
  {
   "cell_type": "code",
   "execution_count": 8,
   "metadata": {
    "collapsed": false
   },
   "outputs": [
    {
     "name": "stdout",
     "output_type": "stream",
     "text": [
      "[(794130135637049344, {u'contributors': None, u'truncated': False, u'text': u\"RT @janicaeigo: 8 year old American girl's school report on presidential election. \\nTrump versus cancer.\\n#HillaryClinton https://t.co/uK5uW\\u2026\", u'is_quote_status': False, u'in_reply_to_status_id': None, u'id': 794130135637049344, u'favorite_count': 0, u'source': u'<a href=\"http://twitter.com/download/iphone\" rel=\"nofollow\">Twitter for iPhone</a>', u'retweeted': False, u'coordinates': None, u'entities': {u'symbols': [], u'user_mentions': [{u'indices': [3, 14], u'screen_name': u'janicaeigo', u'id': 3223393819, u'name': u'Janica Southwick', u'id_str': u'3223393819'}], u'hashtags': [{u'indices': [105, 120], u'text': u'HillaryClinton'}], u'urls': []}, u'in_reply_to_screen_name': None, u'id_str': u'794130135637049344', u'retweet_count': 4, u'in_reply_to_user_id': None, u'favorited': False, u'retweeted_status': {u'contributors': None, u'truncated': False, u'text': u\"8 year old American girl's school report on presidential election. \\nTrump versus cancer.\\n#HillaryClinton https://t.co/uK5uWFUZVv\", u'is_quote_status': False, u'in_reply_to_status_id': None, u'id': 794121539469705216, u'favorite_count': 11, u'source': u'<a href=\"http://twitter.com/download/iphone\" rel=\"nofollow\">Twitter for iPhone</a>', u'retweeted': False, u'coordinates': None, u'entities': {u'symbols': [], u'user_mentions': [], u'hashtags': [{u'indices': [89, 104], u'text': u'HillaryClinton'}], u'urls': [], u'media': [{u'expanded_url': u'https://twitter.com/janicaeigo/status/794121539469705216/photo/1', u'sizes': {u'small': {u'h': 510, u'w': 680, u'resize': u'fit'}, u'large': {u'h': 1536, u'w': 2048, u'resize': u'fit'}, u'medium': {u'h': 900, u'w': 1200, u'resize': u'fit'}, u'thumb': {u'h': 150, u'w': 150, u'resize': u'crop'}}, u'url': u'https://t.co/uK5uWFUZVv', u'media_url_https': u'https://pbs.twimg.com/media/CwVJUdHUsAA3jZ0.jpg', u'id_str': u'794121525062316032', u'indices': [105, 128], u'media_url': u'http://pbs.twimg.com/media/CwVJUdHUsAA3jZ0.jpg', u'type': u'photo', u'id': 794121525062316032, u'display_url': u'pic.twitter.com/uK5uWFUZVv'}]}, u'in_reply_to_screen_name': None, u'id_str': u'794121539469705216', u'retweet_count': 4, u'in_reply_to_user_id': None, u'favorited': False, u'user': {u'follow_request_sent': False, u'has_extended_profile': True, u'profile_use_background_image': True, u'time_zone': u'Tokyo', u'id': 3223393819, u'default_profile': True, u'verified': False, u'profile_text_color': u'333333', u'profile_image_url_https': u'https://pbs.twimg.com/profile_images/601756331616247808/a-hqKQi6_normal.jpg', u'profile_sidebar_fill_color': u'DDEEF6', u'is_translator': False, u'geo_enabled': False, u'entities': {u'url': {u'urls': [{u'url': u'https://t.co/o1EfshUoLk', u'indices': [0, 23], u'expanded_url': u'http://ameblo.jp/janicaeigo/', u'display_url': u'ameblo.jp/janicaeigo/'}]}, u'description': {u'urls': [{u'url': u'https://t.co/3EHQqO5GBK', u'indices': [57, 80], u'expanded_url': u'http://www.jolinails.jp', u'display_url': u'jolinails.jp'}]}}, u'followers_count': 28187, u'protected': False, u'id_str': u'3223393819', u'default_profile_image': False, u'listed_count': 446, u'lang': u'en', u'utc_offset': 32400, u'statuses_count': 1942, u'description': u'\\u7c73\\u56fd\\u30e6\\u30bf\\u5dde\\u51fa\\u8eab\\u3002\\u73fe\\u5728\\u3001\\u4ff3\\u512a\\u3001\\u58f0\\u512a\\u3001\\u30a4\\u30e1\\u30fc\\u30b8\\u30b3\\u30f3\\u30b5\\u30eb\\u30bf\\u30f3\\u30c8\\u3001\\u53f8\\u4f1a\\u3068\\u3057\\u3066\\u6d3b\\u8e8d\\u3059\\u308b\\u4e00\\u65b9\\u3067\\u3001\\u30bf\\u30ec\\u30f3\\u30c8\\u4e8b\\u52d9\\u6240\\u3001\\u30cd\\u30a4\\u30eb\\u30b5\\u30ed\\u30f3 https://t.co/3EHQqO5GBK \\u3082\\u7d4c\\u55b6\\u3059\\u308b\\u30d3\\u30b8\\u30cd\\u30b9\\u30a6\\u30fc\\u30de\\u30f3\\u3002\\u30dc\\u30ad\\u30e3\\u30d6\\u30e9\\u5929\\u56fd\\uff08\\u30d5\\u30b8\\uff09\\u3067\\u30c7\\u30d3\\u30e5\\u30fc\\u3057\\u300110\\u5e74\\u4ee5\\u4e0aNHK\\u300c\\u57fa\\u790e\\u82f1\\u8a9e\\u300d\\u51fa\\u6f14\\u3001NHK\\u300c\\u3048\\u3044\\u3054\\u30ea\\u30a2\\u30f3\\u300d\\u3001\\u8457\\u8005\\u2192\\u300c\\u30b8\\u30e3\\u30cb\\u30ab\\u306e5\\u79d2\\u3067\\u8fd4\\u4fe1\\u300d\\u82f1\\u4f1a\\u8a71 (\\u4e09\\u4fee\\u793e)\\u4ed6', u'friends_count': 102, u'profile_link_color': u'0084B4', u'profile_image_url': u'http://pbs.twimg.com/profile_images/601756331616247808/a-hqKQi6_normal.jpg', u'notifications': False, u'profile_background_image_url_https': u'https://abs.twimg.com/images/themes/theme1/bg.png', u'profile_background_color': u'C0DEED', u'profile_banner_url': u'https://pbs.twimg.com/profile_banners/3223393819/1470926744', u'profile_background_image_url': u'http://abs.twimg.com/images/themes/theme1/bg.png', u'name': u'Janica Southwick', u'is_translation_enabled': False, u'profile_background_tile': False, u'favourites_count': 1207, u'screen_name': u'janicaeigo', u'url': u'https://t.co/o1EfshUoLk', u'created_at': u'Fri May 22 14:20:08 +0000 2015', u'contributors_enabled': False, u'location': u'Tokyo, Japan', u'profile_sidebar_border_color': u'C0DEED', u'translator_type': u'none', u'following': False}, u'geo': None, u'in_reply_to_user_id_str': None, u'possibly_sensitive': False, u'lang': u'en', u'created_at': u'Thu Nov 03 10:18:23 +0000 2016', u'in_reply_to_status_id_str': None, u'place': None, u'extended_entities': {u'media': [{u'expanded_url': u'https://twitter.com/janicaeigo/status/794121539469705216/photo/1', u'sizes': {u'small': {u'h': 510, u'w': 680, u'resize': u'fit'}, u'large': {u'h': 1536, u'w': 2048, u'resize': u'fit'}, u'medium': {u'h': 900, u'w': 1200, u'resize': u'fit'}, u'thumb': {u'h': 150, u'w': 150, u'resize': u'crop'}}, u'url': u'https://t.co/uK5uWFUZVv', u'media_url_https': u'https://pbs.twimg.com/media/CwVJUdHUsAA3jZ0.jpg', u'id_str': u'794121525062316032', u'indices': [105, 128], u'media_url': u'http://pbs.twimg.com/media/CwVJUdHUsAA3jZ0.jpg', u'type': u'photo', u'id': 794121525062316032, u'display_url': u'pic.twitter.com/uK5uWFUZVv'}, {u'expanded_url': u'https://twitter.com/janicaeigo/status/794121539469705216/photo/1', u'sizes': {u'small': {u'h': 568, u'w': 680, u'resize': u'fit'}, u'large': {u'h': 1409, u'w': 1688, u'resize': u'fit'}, u'medium': {u'h': 1002, u'w': 1200, u'resize': u'fit'}, u'thumb': {u'h': 150, u'w': 150, u'resize': u'crop'}}, u'url': u'https://t.co/uK5uWFUZVv', u'media_url_https': u'https://pbs.twimg.com/media/CwVJUdFUkAATM1s.jpg', u'id_str': u'794121525053919232', u'indices': [105, 128], u'media_url': u'http://pbs.twimg.com/media/CwVJUdFUkAATM1s.jpg', u'type': u'photo', u'id': 794121525053919232, u'display_url': u'pic.twitter.com/uK5uWFUZVv'}]}, u'metadata': {u'iso_language_code': u'en', u'result_type': u'recent'}}, u'user': {u'follow_request_sent': False, u'has_extended_profile': False, u'profile_use_background_image': True, u'time_zone': u'Tokyo', u'id': 169837413, u'default_profile': False, u'verified': False, u'profile_text_color': u'362720', u'profile_image_url_https': u'https://pbs.twimg.com/profile_images/2387420790/i1xoupeiv8tv2igkeqpq_normal.png', u'profile_sidebar_fill_color': u'E5507E', u'is_translator': False, u'geo_enabled': False, u'entities': {u'description': {u'urls': []}}, u'followers_count': 674, u'protected': False, u'id_str': u'169837413', u'default_profile_image': False, u'listed_count': 6, u'lang': u'ja', u'utc_offset': 32400, u'statuses_count': 15573, u'description': u'THE OFFSPRING/Strung Out /Millencolin /\\u6d77\\u5916/\\u98db\\u884c\\u6a5f/\\u30d4\\u30a2\\u30ce\\u597d\\u304d\\u3002 \\u4e16\\u754c\\u306e\\u6599\\u7406\\u3068\\u5317\\u6b27\\u30fb\\u6771\\u6b27\\u306b\\u4e2d\\u9014\\u534a\\u7aef\\u306a\\u8208\\u5473\\u3092\\u6301\\u3064\\uff22\\u578b\\u3002\\u6319\\u52d5\\u4e0d\\u5be9( ;\\uff40\\u03c9\\xb4)', u'friends_count': 645, u'profile_link_color': u'B40B43', u'profile_image_url': u'http://pbs.twimg.com/profile_images/2387420790/i1xoupeiv8tv2igkeqpq_normal.png', u'notifications': False, u'profile_background_image_url_https': u'https://pbs.twimg.com/profile_background_images/664370285/5095333dae76a4438f15c9bd7d51c10a.jpeg', u'profile_background_color': u'FF6699', u'profile_banner_url': u'https://pbs.twimg.com/profile_banners/169837413/1411430752', u'profile_background_image_url': u'http://pbs.twimg.com/profile_background_images/664370285/5095333dae76a4438f15c9bd7d51c10a.jpeg', u'name': u'noomania\\uff08\\u30cc\\u30fc\\u5b50\\uff09', u'is_translation_enabled': False, u'profile_background_tile': True, u'favourites_count': 33321, u'screen_name': u'noomania', u'url': None, u'created_at': u'Fri Jul 23 08:20:30 +0000 2010', u'contributors_enabled': False, u'location': u'Japan', u'profile_sidebar_border_color': u'FFFFFF', u'translator_type': u'none', u'following': False}, u'geo': None, u'in_reply_to_user_id_str': None, u'lang': u'en', u'created_at': u'Thu Nov 03 10:52:33 +0000 2016', u'in_reply_to_status_id_str': None, u'place': None, u'metadata': {u'iso_language_code': u'en', u'result_type': u'recent'}}), (794130126254374913, {u'contributors': None, u'truncated': False, u'text': u'Common sense. morality and patriotism for America are what people lack if they are voting for #donaldtrump.', u'is_quote_status': False, u'in_reply_to_status_id': None, u'id': 794130126254374913, u'favorite_count': 0, u'source': u'<a href=\"http://twitter.com\" rel=\"nofollow\">Twitter Web Client</a>', u'retweeted': False, u'coordinates': None, u'entities': {u'symbols': [], u'user_mentions': [], u'hashtags': [{u'indices': [94, 106], u'text': u'donaldtrump'}], u'urls': []}, u'in_reply_to_screen_name': None, u'id_str': u'794130126254374913', u'retweet_count': 0, u'in_reply_to_user_id': None, u'favorited': False, u'user': {u'follow_request_sent': False, u'has_extended_profile': False, u'profile_use_background_image': True, u'time_zone': u'Tokyo', u'id': 47283433, u'default_profile': False, u'verified': False, u'profile_text_color': u'050505', u'profile_image_url_https': u'https://pbs.twimg.com/profile_images/650876864752304128/bzmo2Iu7_normal.png', u'profile_sidebar_fill_color': u'FFFFFF', u'is_translator': False, u'geo_enabled': True, u'entities': {u'url': {u'urls': [{u'url': u'https://t.co/qsH3FGhTsC', u'indices': [0, 23], u'expanded_url': u'http://twiends.com/kirijax', u'display_url': u'twiends.com/kirijax'}]}, u'description': {u'urls': []}}, u'followers_count': 916, u'protected': False, u'id_str': u'47283433', u'default_profile_image': False, u'listed_count': 9, u'lang': u'en', u'utc_offset': 32400, u'statuses_count': 21117, u'description': u'Jacksonville, Florida Native. Residence: Kirishima, Kagoshima, Japan.', u'friends_count': 795, u'profile_link_color': u'008080', u'profile_image_url': u'http://pbs.twimg.com/profile_images/650876864752304128/bzmo2Iu7_normal.png', u'notifications': False, u'profile_background_image_url_https': u'https://pbs.twimg.com/profile_background_images/534303256449523713/nchdGl6j.jpeg', u'profile_background_color': u'0000E5', u'profile_banner_url': u'https://pbs.twimg.com/profile_banners/47283433/1478157286', u'profile_background_image_url': u'http://pbs.twimg.com/profile_background_images/534303256449523713/nchdGl6j.jpeg', u'name': u'Kirijax', u'is_translation_enabled': False, u'profile_background_tile': False, u'favourites_count': 742, u'screen_name': u'KiriJax', u'url': u'https://t.co/qsH3FGhTsC', u'created_at': u'Mon Jun 15 07:19:27 +0000 2009', u'contributors_enabled': False, u'location': u'Kirishima, Japan', u'profile_sidebar_border_color': u'000000', u'translator_type': u'none', u'following': False}, u'geo': None, u'in_reply_to_user_id_str': None, u'lang': u'en', u'created_at': u'Thu Nov 03 10:52:30 +0000 2016', u'in_reply_to_status_id_str': None, u'place': None, u'metadata': {u'iso_language_code': u'en', u'result_type': u'recent'}})]\n"
     ]
    }
   ],
   "source": [
    "print [(tweet_id, content) for tweet_id, content in tweets_container.iteritems()][:2]"
   ]
  },
  {
   "cell_type": "code",
   "execution_count": 30,
   "metadata": {
    "collapsed": false
   },
   "outputs": [],
   "source": [
    "# Get place_id for a selection of countries\n",
    "api = tweepy.API(auth)\n",
    "\n",
    "countries = [\"USA\", \"Canada\", \"France\", \"Denmark\", \"Mexico\", \"Brazil\", \"Germany\", \"India\", \"China\", \"South Africa\", \n",
    "             \"United Kingdom\", \"Russia\", \"Australia\", \"Cuba\", \"Sweden\",\n",
    "             \"Argentina\", \"Japan\", \"Spain\", \"Italy\", \"Norway\", \"Finland\", \"UAE\"] # Last line not taken (only first 15)\n",
    "\n",
    "countries_place_id = []\n",
    "\n",
    "# i = 0\n",
    "# while i < len(countries):\n",
    "#     country = countries[i]\n",
    "\n",
    "for country in countries[:15]:\n",
    "    try:\n",
    "        # TODO Need to lang=en to this query to get the results in English, and not f***ing Danish \n",
    "        places = api.geo_search(query=country, granularity=\"country\", )\n",
    "    except Exception as e:\n",
    "        print \"Rate Limit Error: %s\" % e\n",
    "        time.sleep(15 * 60 + 15)\n",
    "        continue\n",
    "        \n",
    "    for place in places:\n",
    "        place_id = place.id\n",
    "        try:\n",
    "            country_name = place.name.decode('utf-8')\n",
    "        except Exception as e:\n",
    "            country_name = place.name\n",
    "        \n",
    "        country_place_id = {\"real_name\": country, \"twitter_name\": country_name, \"place_id\": place_id}\n",
    "        countries_place_id.append(country_place_id)\n",
    "        \n",
    "#     i += 1\n",
    "\n",
    "with open('places_id.json', 'w') as f:\n",
    "    json.dump(countries_place_id, f)"
   ]
  },
  {
   "cell_type": "code",
   "execution_count": 32,
   "metadata": {
    "collapsed": false
   },
   "outputs": [
    {
     "name": "stdout",
     "output_type": "stream",
     "text": [
      "USA\n",
      "United States Minor Outlying Islands\n",
      "Canada\n",
      "Fransk Guyana\n",
      "Frankrig\n",
      "French Polynesia\n",
      "French Southern and Antarctic Lands\n",
      "Danmark\n",
      "Mexico\n",
      "Brasilien\n",
      "Tyskland\n",
      "Indien\n",
      "British Indian Ocean Territory\n",
      "中华人民共和国\n",
      "South Africa\n",
      "South Georgia and the South Sandwich Islands\n",
      "Central African Republic\n",
      "Storbritannien\n",
      "USA\n",
      "Forenede Arabiske Emirater\n",
      "United States Minor Outlying Islands\n",
      "المملكة الأردنية الهاشمية\n",
      "Saudi Arabien\n",
      "Hviderusland\n",
      "Россия\n",
      "Australia\n",
      "Cuba\n",
      "Sverige\n"
     ]
    }
   ],
   "source": [
    "for country in countries_place_id:\n",
    "    print country[\"twitter_name\"]"
   ]
  },
  {
   "cell_type": "code",
   "execution_count": 35,
   "metadata": {
    "collapsed": false
   },
   "outputs": [
    {
     "name": "stdout",
     "output_type": "stream",
     "text": [
      "2016-11-04T18:15:56.788111\n"
     ]
    }
   ],
   "source": [
    "current_time = datetime.datetime.now()\n",
    "\n",
    "print current_time.isoformat()"
   ]
  },
  {
   "cell_type": "code",
   "execution_count": null,
   "metadata": {
    "collapsed": true
   },
   "outputs": [],
   "source": []
  }
 ],
 "metadata": {
  "anaconda-cloud": {},
  "kernelspec": {
   "display_name": "Python [Root]",
   "language": "python",
   "name": "Python [Root]"
  },
  "language_info": {
   "codemirror_mode": {
    "name": "ipython",
    "version": 2
   },
   "file_extension": ".py",
   "mimetype": "text/x-python",
   "name": "python",
   "nbconvert_exporter": "python",
   "pygments_lexer": "ipython2",
   "version": "2.7.12"
  }
 },
 "nbformat": 4,
 "nbformat_minor": 0
}
