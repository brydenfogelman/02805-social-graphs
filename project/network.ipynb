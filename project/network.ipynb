{
 "cells": [
  {
   "cell_type": "markdown",
   "metadata": {
    "collapsed": true
   },
   "source": [
    "# NEW NETWORK\n",
    "\n",
    "## Goal : \n",
    "The goal of this network is to group every user we got from the scrapped tweets and their friends (e.g people they are following) and go through different step to show :\n",
    "* What kind of connection they share (bipartite or small world)\n",
    "* If they follow the same people or not ? What does that mean ?\n",
    "* Do they belong to the same community ? \n",
    "\n",
    "## Things to use : \n",
    "### Directed Graph\n",
    "* Basic stats : What is the total number of nodes in the network? What is the total number of links? What's the average degree? What's the median degree?\n",
    "* List the top 10 account by in-degree and out-degree. What is the interpretation of in-degree and out-degree in this case?\n",
    "* Plot the distribution of in-degrees and out-degrees, binned using numpy.histogram. What is the most common degree?\n",
    "* Plot the distribution of in-degrees and out-degrees one more time, this time plotted loglog scale.\n",
    "* Describe the distributions (as you would in a well written figure caption). Do they look Poissonian? Power-law? Something in between?\n",
    "* Plot a scatter plot of the the in- versus out- degree for all accounts using a loglog scale. Comment on the relation between the two.\n",
    "\n",
    "### Undirected Graph\n",
    "\n",
    "* Find the 5 most central accounts according to betweenness centrality. What role these accounts with high graph betweenness centrality play ?\n",
    "* Find the 5 most central accounts according to eigenvector centrality. Calculate centrality corresponding to both in- and out-edges (see NetworkX documentation for details). \n",
    "* Is the undirected version of the graph assortative with respect do degree? (e.g. do high-degree accounts tend to link to other high-degree accounts, and low-degree accounts to other low-degree accounts?). Interpreation ?\n",
    "\n",
    "### Community\n",
    "\n",
    "* Maybe do two branches : democrats/republicans\n",
    "* Use the Python Louvain-algorithm implementation to find communities in the full network. Report the value of modularity found by the algorithm. \n",
    "\n",
    "### Bubble world / Small world\n",
    "* Inspect how people connect to each other, is the small world hypothesis confirmed ? Is the bubble world hyposthesis confirmed ?"
   ]
  },
  {
   "cell_type": "code",
   "execution_count": 9,
   "metadata": {
    "collapsed": true
   },
   "outputs": [],
   "source": [
    "from twitter import *"
   ]
  },
  {
   "cell_type": "code",
   "execution_count": 18,
   "metadata": {
    "collapsed": false
   },
   "outputs": [],
   "source": [
    "CONSUMER_KEY = 'CONSUMER_KEY'\n",
    "CONSUMER_SECRET = 'CONSUMER_SECRET'\n",
    "OAUTH_TOKEN = 'OAUTH_TOKEN'\n",
    "OAUTH_TOKEN_SECRET = 'OAUTH_TOKEN_SECRET'"
   ]
  },
  {
   "cell_type": "code",
   "execution_count": null,
   "metadata": {
    "collapsed": true
   },
   "outputs": [],
   "source": [
    "# load our API credentials \n",
    "twitter = Twitter(\n",
    "    auth = OAuth(OAUTH_TOKEN, OAUTH_TOKEN_SECRET, CONSUMER_KEY, CONSUMER_SECRET))"
   ]
  },
  {
   "cell_type": "code",
   "execution_count": 10,
   "metadata": {
    "collapsed": true
   },
   "outputs": [],
   "source": [
    "import tweepy\n",
    "\n",
    "auth = tweepy.OAuthHandler(CONSUMER_KEY, CONSUMER_SECRET)\n",
    "auth.set_access_token(OAUTH_TOKEN, OAUTH_TOKEN_SECRET)\n",
    "\n",
    "api = tweepy.API(auth)"
   ]
  },
  {
   "cell_type": "markdown",
   "metadata": {},
   "source": [
    "## Get the users from Mongo DB"
   ]
  },
  {
   "cell_type": "code",
   "execution_count": 1,
   "metadata": {
    "collapsed": false
   },
   "outputs": [],
   "source": [
    "import pymongo, pprint\n",
    "from pymongo import MongoClient"
   ]
  },
  {
   "cell_type": "code",
   "execution_count": 2,
   "metadata": {
    "collapsed": true
   },
   "outputs": [],
   "source": [
    "properties = dict(line.strip().split('=') \n",
    "          for line in open('db.properties')\n",
    "          if not line.startswith('#') and not line.startswith('\\n'))"
   ]
  },
  {
   "cell_type": "code",
   "execution_count": 3,
   "metadata": {
    "collapsed": true
   },
   "outputs": [],
   "source": [
    "uri = 'mongodb://%s:%s@ds161487.mlab.com:61487/election_tweets' % (properties['username'], properties['password'])\n",
    "client = MongoClient(uri)"
   ]
  },
  {
   "cell_type": "code",
   "execution_count": 4,
   "metadata": {
    "collapsed": true
   },
   "outputs": [],
   "source": [
    "db = client.election_tweets\n",
    "tweet_collection = db.tweets\n",
    "user_collection = db.users"
   ]
  },
  {
   "cell_type": "code",
   "execution_count": null,
   "metadata": {
    "collapsed": false
   },
   "outputs": [],
   "source": [
    "print user_collection.count()"
   ]
  },
  {
   "cell_type": "markdown",
   "metadata": {},
   "source": [
    "## Create the network"
   ]
  },
  {
   "cell_type": "code",
   "execution_count": 15,
   "metadata": {
    "collapsed": true
   },
   "outputs": [],
   "source": [
    "import networkx as nx\n",
    "import matplotlib.pyplot as plt"
   ]
  },
  {
   "cell_type": "code",
   "execution_count": 19,
   "metadata": {
    "collapsed": true
   },
   "outputs": [],
   "source": [
    "import json\n",
    "import time\n",
    "import datetime\n",
    "import os"
   ]
  },
  {
   "cell_type": "code",
   "execution_count": 20,
   "metadata": {
    "collapsed": true
   },
   "outputs": [],
   "source": [
    "directed = nx.DiGraph()"
   ]
  },
  {
   "cell_type": "code",
   "execution_count": 21,
   "metadata": {
    "collapsed": true
   },
   "outputs": [],
   "source": [
    "users = user_collection.find()"
   ]
  },
  {
   "cell_type": "code",
   "execution_count": 22,
   "metadata": {
    "collapsed": false
   },
   "outputs": [
    {
     "name": "stdout",
     "output_type": "stream",
     "text": [
      "Rate Limit Error: Twitter sent status 429 for URL: 1.1/friends/ids.json using parameters: (oauth_consumer_key=UAclDqCOIjWcR18OM33tFpUko&oauth_nonce=10275620091893754421&oauth_signature_method=HMAC-SHA1&oauth_timestamp=1480501680&oauth_token=771302832909746176-lkfIU5F9uWRwwfnR7XiDlY5b1cOoAoe&oauth_version=1.0&screen_name=Sttephy&oauth_signature=JNOS9HZ6YPVnjBKtexa5jfdE7V0%3D)\n",
      "details: {u'errors': [{u'message': u'Rate limit exceeded', u'code': 88}]}\n",
      "found 255 friends\n",
      "found 165 friends\n",
      "found 431 friends\n",
      "found 911 friends\n",
      "found 165 friends\n",
      "found 5000 friends\n",
      "found 253 friends\n",
      "found 1265 friends\n",
      "found 195 friends\n",
      "found 650 friends\n",
      "found 398 friends\n",
      "found 167 friends\n",
      "found 5000 friends\n",
      "found 347 friends\n",
      "found 26 friends\n",
      "Rate Limit Error: Twitter sent status 429 for URL: 1.1/friends/ids.json using parameters: (oauth_consumer_key=UAclDqCOIjWcR18OM33tFpUko&oauth_nonce=12607340402452339246&oauth_signature_method=HMAC-SHA1&oauth_timestamp=1480502742&oauth_token=771302832909746176-lkfIU5F9uWRwwfnR7XiDlY5b1cOoAoe&oauth_version=1.0&screen_name=SultryRobin&oauth_signature=orV1%2BAzkpZJj7z%2BO6JezBRWHfsU%3D)\n",
      "details: {u'errors': [{u'message': u'Rate limit exceeded', u'code': 88}]}\n",
      "found 87 friends\n",
      "found 5000 friends\n",
      "found 1172 friends\n",
      "found 390 friends\n",
      "found 194 friends\n",
      "found 3581 friends\n",
      "found 336 friends\n",
      "found 843 friends\n",
      "found 5000 friends\n",
      "found 80 friends\n",
      "found 105 friends\n",
      "found 1311 friends\n",
      "found 88 friends\n",
      "found 487 friends\n",
      "found 781 friends\n",
      "Rate Limit Error: Twitter sent status 429 for URL: 1.1/friends/ids.json using parameters: (oauth_consumer_key=UAclDqCOIjWcR18OM33tFpUko&oauth_nonce=6568398707593932046&oauth_signature_method=HMAC-SHA1&oauth_timestamp=1480503846&oauth_token=771302832909746176-lkfIU5F9uWRwwfnR7XiDlY5b1cOoAoe&oauth_version=1.0&screen_name=DeplorableGary&oauth_signature=Y0GA%2BKPdrVvJrzdc228rdm8t1EE%3D)\n",
      "details: {u'errors': [{u'message': u'Rate limit exceeded', u'code': 88}]}\n",
      "found 365 friends\n",
      "found 63 friends\n",
      "found 1145 friends\n",
      "found 20 friends\n",
      "found 2 friends\n",
      "Rate Limit Error: Twitter sent status 404 for URL: 1.1/users/lookup.json using parameters: (oauth_consumer_key=UAclDqCOIjWcR18OM33tFpUko&oauth_nonce=2109191205465282436&oauth_signature_method=HMAC-SHA1&oauth_timestamp=1480504779&oauth_token=771302832909746176-lkfIU5F9uWRwwfnR7XiDlY5b1cOoAoe&oauth_version=1.0&user_id=%5B247723476%2C%2084457849%5D&oauth_signature=6WQHrOzpAXoACwrWIw%2FJmyTMGTg%3D)\n",
      "details: {u'errors': [{u'message': u'No user matches for specified terms.', u'code': 17}]}\n",
      "found 165 friends\n",
      "found 16 friends\n",
      "Rate Limit Error: Twitter sent status 401 for URL: 1.1/friends/ids.json using parameters: (oauth_consumer_key=UAclDqCOIjWcR18OM33tFpUko&oauth_nonce=2201350615644727205&oauth_signature_method=HMAC-SHA1&oauth_timestamp=1480505697&oauth_token=771302832909746176-lkfIU5F9uWRwwfnR7XiDlY5b1cOoAoe&oauth_version=1.0&screen_name=Amanda_Roseeee&oauth_signature=yvhWvnU9%2FLPGap63SIPscZjWvDg%3D)\n",
      "details: {u'request': u'/1.1/friends/ids.json', u'error': u'Not authorized.'}\n",
      "found 4196 friends\n",
      "found 647 friends\n",
      "found 167 friends\n",
      "found 1871 friends\n",
      "found 477 friends\n",
      "found 97 friends\n",
      "found 9 friends\n",
      "found 727 friends\n",
      "found 293 friends\n",
      "found 208 friends\n",
      "found 4938 friends\n",
      "found 424 friends\n",
      "found 2936 friends\n",
      "found 2355 friends\n",
      "found 288 friends\n",
      "Rate Limit Error: Twitter sent status 429 for URL: 1.1/friends/ids.json using parameters: (oauth_consumer_key=UAclDqCOIjWcR18OM33tFpUko&oauth_nonce=3583335849633029211&oauth_signature_method=HMAC-SHA1&oauth_timestamp=1480506807&oauth_token=771302832909746176-lkfIU5F9uWRwwfnR7XiDlY5b1cOoAoe&oauth_version=1.0&screen_name=llowens88&oauth_signature=tXQ2CSqJkVvWUYgntfExh1w1H%2FE%3D)\n",
      "details: {u'errors': [{u'message': u'Rate limit exceeded', u'code': 88}]}\n",
      "found 2980 friends\n",
      "found 495 friends\n",
      "found 487 friends\n",
      "found 1 friends\n",
      "Rate Limit Error: Twitter sent status 404 for URL: 1.1/users/lookup.json using parameters: (oauth_consumer_key=UAclDqCOIjWcR18OM33tFpUko&oauth_nonce=17805283473380253630&oauth_signature_method=HMAC-SHA1&oauth_timestamp=1480507764&oauth_token=771302832909746176-lkfIU5F9uWRwwfnR7XiDlY5b1cOoAoe&oauth_version=1.0&user_id=%5B247723476%5D&oauth_signature=W0xRc%2BN0rnmCBNmy%2BJ3P%2B8sk3cI%3D)\n",
      "details: {u'errors': [{u'message': u'No user matches for specified terms.', u'code': 17}]}\n",
      "found 561 friends\n",
      "found 82 friends\n",
      "found 680 friends\n",
      "found 557 friends\n",
      "found 401 friends\n",
      "Rate Limit Error: Twitter sent status 404 for URL: 1.1/users/lookup.json using parameters: (oauth_consumer_key=UAclDqCOIjWcR18OM33tFpUko&oauth_nonce=16450838497335489020&oauth_signature_method=HMAC-SHA1&oauth_timestamp=1480508704&oauth_token=771302832909746176-lkfIU5F9uWRwwfnR7XiDlY5b1cOoAoe&oauth_version=1.0&user_id=%5B1536791610%5D&oauth_signature=l7CtNLs32zWj%2FLlDBK%2FyWlfyixo%3D)\n",
      "details: {u'errors': [{u'message': u'No user matches for specified terms.', u'code': 17}]}\n",
      "found 5000 friends\n",
      "found 4964 friends\n",
      "found 5000 friends\n",
      "found 281 friends\n",
      "found 5000 friends\n",
      "Rate Limit Error: [{u'message': u'User has been suspended.', u'code': 63}]\n",
      "found 67 friends\n",
      "found 211 friends\n",
      "found 834 friends\n",
      "found 39 friends\n",
      "found 5000 friends\n",
      "found 1107 friends\n",
      "found 94 friends\n",
      "found 771 friends\n",
      "found 489 friends\n",
      "found 610 friends\n",
      "found 336 friends\n",
      "found 377 friends\n",
      "Rate Limit Error: Twitter sent status 401 for URL: 1.1/friends/ids.json using parameters: (oauth_consumer_key=UAclDqCOIjWcR18OM33tFpUko&oauth_nonce=4311064001542660948&oauth_signature_method=HMAC-SHA1&oauth_timestamp=1480510852&oauth_token=771302832909746176-lkfIU5F9uWRwwfnR7XiDlY5b1cOoAoe&oauth_version=1.0&screen_name=pljusa&oauth_signature=30Rdoa%2ByUGKWxZMj2PCZskbELRw%3D)\n",
      "details: {u'request': u'/1.1/friends/ids.json', u'error': u'Not authorized.'}\n",
      "found 608 friends\n",
      "found 126 friends\n",
      "found 306 friends\n",
      "found 117 friends\n",
      "found 5000 friends\n",
      "found 394 friends\n",
      "found 303 friends\n",
      "found 119 friends\n",
      "found 419 friends\n",
      "found 425 friends\n",
      "found 168 friends\n",
      "found 5000 friends\n",
      "found 2062 friends\n",
      "Rate Limit Error: Twitter sent status 401 for URL: 1.1/friends/ids.json using parameters: (oauth_consumer_key=UAclDqCOIjWcR18OM33tFpUko&oauth_nonce=5456048687748794107&oauth_signature_method=HMAC-SHA1&oauth_timestamp=1480511908&oauth_token=771302832909746176-lkfIU5F9uWRwwfnR7XiDlY5b1cOoAoe&oauth_version=1.0&screen_name=bethanyangh&oauth_signature=XxMYXCcGglzK5%2FmihdmR5twg5ig%3D)\n",
      "details: {u'request': u'/1.1/friends/ids.json', u'error': u'Not authorized.'}\n",
      "found 2038 friends\n",
      "found 729 friends\n"
     ]
    },
    {
     "ename": "CursorNotFound",
     "evalue": "Cursor not found, cursor id: 5308878337434",
     "output_type": "error",
     "traceback": [
      "\u001b[1;31m---------------------------------------------------------------------------\u001b[0m",
      "\u001b[1;31mCursorNotFound\u001b[0m                            Traceback (most recent call last)",
      "\u001b[1;32m<ipython-input-22-0964ae09f9ee>\u001b[0m in \u001b[0;36m<module>\u001b[1;34m()\u001b[0m\n\u001b[1;32m----> 1\u001b[1;33m \u001b[1;32mfor\u001b[0m \u001b[0mi\u001b[0m \u001b[1;32min\u001b[0m \u001b[0musers\u001b[0m\u001b[1;33m:\u001b[0m\u001b[1;33m\u001b[0m\u001b[0m\n\u001b[0m\u001b[0;32m      2\u001b[0m     \u001b[1;32mtry\u001b[0m\u001b[1;33m:\u001b[0m\u001b[1;33m\u001b[0m\u001b[0m\n\u001b[0;32m      3\u001b[0m         \u001b[1;31m#select the user name\u001b[0m\u001b[1;33m\u001b[0m\u001b[1;33m\u001b[0m\u001b[0m\n\u001b[0;32m      4\u001b[0m         \u001b[0muser\u001b[0m \u001b[1;33m=\u001b[0m \u001b[0mapi\u001b[0m\u001b[1;33m.\u001b[0m\u001b[0mget_user\u001b[0m\u001b[1;33m(\u001b[0m\u001b[0mi\u001b[0m\u001b[1;33m[\u001b[0m\u001b[1;34m\"_id\"\u001b[0m\u001b[1;33m]\u001b[0m\u001b[1;33m)\u001b[0m\u001b[1;33m\u001b[0m\u001b[0m\n\u001b[0;32m      5\u001b[0m         \u001b[0musername\u001b[0m \u001b[1;33m=\u001b[0m \u001b[0muser\u001b[0m\u001b[1;33m.\u001b[0m\u001b[0mscreen_name\u001b[0m\u001b[1;33m\u001b[0m\u001b[0m\n",
      "\u001b[1;32mC:\\Users\\Alexis\\Anaconda2\\lib\\site-packages\\pymongo\\cursor.pyc\u001b[0m in \u001b[0;36mnext\u001b[1;34m(self)\u001b[0m\n\u001b[0;32m   1088\u001b[0m             \u001b[1;32mraise\u001b[0m \u001b[0mStopIteration\u001b[0m\u001b[1;33m\u001b[0m\u001b[0m\n\u001b[0;32m   1089\u001b[0m         \u001b[0m_db\u001b[0m \u001b[1;33m=\u001b[0m \u001b[0mself\u001b[0m\u001b[1;33m.\u001b[0m\u001b[0m__collection\u001b[0m\u001b[1;33m.\u001b[0m\u001b[0mdatabase\u001b[0m\u001b[1;33m\u001b[0m\u001b[0m\n\u001b[1;32m-> 1090\u001b[1;33m         \u001b[1;32mif\u001b[0m \u001b[0mlen\u001b[0m\u001b[1;33m(\u001b[0m\u001b[0mself\u001b[0m\u001b[1;33m.\u001b[0m\u001b[0m__data\u001b[0m\u001b[1;33m)\u001b[0m \u001b[1;32mor\u001b[0m \u001b[0mself\u001b[0m\u001b[1;33m.\u001b[0m\u001b[0m_refresh\u001b[0m\u001b[1;33m(\u001b[0m\u001b[1;33m)\u001b[0m\u001b[1;33m:\u001b[0m\u001b[1;33m\u001b[0m\u001b[0m\n\u001b[0m\u001b[0;32m   1091\u001b[0m             \u001b[1;32mif\u001b[0m \u001b[0mself\u001b[0m\u001b[1;33m.\u001b[0m\u001b[0m__manipulate\u001b[0m\u001b[1;33m:\u001b[0m\u001b[1;33m\u001b[0m\u001b[0m\n\u001b[0;32m   1092\u001b[0m                 return _db._fix_outgoing(self.__data.popleft(),\n",
      "\u001b[1;32mC:\\Users\\Alexis\\Anaconda2\\lib\\site-packages\\pymongo\\cursor.pyc\u001b[0m in \u001b[0;36m_refresh\u001b[1;34m(self)\u001b[0m\n\u001b[0;32m   1030\u001b[0m                                              \u001b[0mself\u001b[0m\u001b[1;33m.\u001b[0m\u001b[0m__id\u001b[0m\u001b[1;33m,\u001b[0m\u001b[1;33m\u001b[0m\u001b[0m\n\u001b[0;32m   1031\u001b[0m                                              \u001b[0mself\u001b[0m\u001b[1;33m.\u001b[0m\u001b[0m__codec_options\u001b[0m\u001b[1;33m,\u001b[0m\u001b[1;33m\u001b[0m\u001b[0m\n\u001b[1;32m-> 1032\u001b[1;33m                                              self.__max_await_time_ms))\n\u001b[0m\u001b[0;32m   1033\u001b[0m \u001b[1;33m\u001b[0m\u001b[0m\n\u001b[0;32m   1034\u001b[0m         \u001b[1;32melse\u001b[0m\u001b[1;33m:\u001b[0m  \u001b[1;31m# Cursor id is zero nothing else to return\u001b[0m\u001b[1;33m\u001b[0m\u001b[0m\n",
      "\u001b[1;32mC:\\Users\\Alexis\\Anaconda2\\lib\\site-packages\\pymongo\\cursor.pyc\u001b[0m in \u001b[0;36m__send_message\u001b[1;34m(self, operation)\u001b[0m\n\u001b[0;32m    903\u001b[0m                                            codec_options=self.__codec_options)\n\u001b[0;32m    904\u001b[0m             \u001b[1;32mif\u001b[0m \u001b[0mfrom_command\u001b[0m\u001b[1;33m:\u001b[0m\u001b[1;33m\u001b[0m\u001b[0m\n\u001b[1;32m--> 905\u001b[1;33m                 \u001b[0mhelpers\u001b[0m\u001b[1;33m.\u001b[0m\u001b[0m_check_command_response\u001b[0m\u001b[1;33m(\u001b[0m\u001b[0mdoc\u001b[0m\u001b[1;33m[\u001b[0m\u001b[1;34m'data'\u001b[0m\u001b[1;33m]\u001b[0m\u001b[1;33m[\u001b[0m\u001b[1;36m0\u001b[0m\u001b[1;33m]\u001b[0m\u001b[1;33m)\u001b[0m\u001b[1;33m\u001b[0m\u001b[0m\n\u001b[0m\u001b[0;32m    906\u001b[0m         \u001b[1;32mexcept\u001b[0m \u001b[0mOperationFailure\u001b[0m \u001b[1;32mas\u001b[0m \u001b[0mexc\u001b[0m\u001b[1;33m:\u001b[0m\u001b[1;33m\u001b[0m\u001b[0m\n\u001b[0;32m    907\u001b[0m             \u001b[0mself\u001b[0m\u001b[1;33m.\u001b[0m\u001b[0m__killed\u001b[0m \u001b[1;33m=\u001b[0m \u001b[0mTrue\u001b[0m\u001b[1;33m\u001b[0m\u001b[0m\n",
      "\u001b[1;32mC:\\Users\\Alexis\\Anaconda2\\lib\\site-packages\\pymongo\\helpers.pyc\u001b[0m in \u001b[0;36m_check_command_response\u001b[1;34m(response, msg, allowable_errors)\u001b[0m\n\u001b[0;32m    200\u001b[0m                 \u001b[1;32mraise\u001b[0m \u001b[0mExecutionTimeout\u001b[0m\u001b[1;33m(\u001b[0m\u001b[0merrmsg\u001b[0m\u001b[1;33m,\u001b[0m \u001b[0mcode\u001b[0m\u001b[1;33m,\u001b[0m \u001b[0mresponse\u001b[0m\u001b[1;33m)\u001b[0m\u001b[1;33m\u001b[0m\u001b[0m\n\u001b[0;32m    201\u001b[0m             \u001b[1;32melif\u001b[0m \u001b[0mcode\u001b[0m \u001b[1;33m==\u001b[0m \u001b[1;36m43\u001b[0m\u001b[1;33m:\u001b[0m\u001b[1;33m\u001b[0m\u001b[0m\n\u001b[1;32m--> 202\u001b[1;33m                 \u001b[1;32mraise\u001b[0m \u001b[0mCursorNotFound\u001b[0m\u001b[1;33m(\u001b[0m\u001b[0merrmsg\u001b[0m\u001b[1;33m,\u001b[0m \u001b[0mcode\u001b[0m\u001b[1;33m,\u001b[0m \u001b[0mresponse\u001b[0m\u001b[1;33m)\u001b[0m\u001b[1;33m\u001b[0m\u001b[0m\n\u001b[0m\u001b[0;32m    203\u001b[0m \u001b[1;33m\u001b[0m\u001b[0m\n\u001b[0;32m    204\u001b[0m             \u001b[0mmsg\u001b[0m \u001b[1;33m=\u001b[0m \u001b[0mmsg\u001b[0m \u001b[1;32mor\u001b[0m \u001b[1;34m\"%s\"\u001b[0m\u001b[1;33m\u001b[0m\u001b[0m\n",
      "\u001b[1;31mCursorNotFound\u001b[0m: Cursor not found, cursor id: 5308878337434"
     ]
    }
   ],
   "source": [
    "for i in users:\n",
    "    try:\n",
    "        #select the user name\n",
    "        user = api.get_user(i[\"_id\"])\n",
    "        username = user.screen_name\n",
    "\n",
    "        # perform a basic search \n",
    "        query = twitter.friends.ids(screen_name = username)\n",
    "        print \"found %d friends\" % (len(query[\"ids\"]))\n",
    "\n",
    "        # now we loop through them to pull out more info, in blocks of 100.\n",
    "        for n in range(0, len(query[\"ids\"]), 100):\n",
    "            ids = query[\"ids\"][n:n+100]\n",
    "\n",
    "            # create a subquery, looking up information about these users\n",
    "            subquery = twitter.users.lookup(user_id = ids)\n",
    "\n",
    "            for user_q in subquery:\n",
    "                # now print out user info, starring any users that are Verified.\n",
    "                directed.add_node(user_q[\"screen_name\"])\n",
    "                directed.add_edge(username, user_q[\"screen_name\"])\n",
    "                #print \" [%s] %s\" % (\"*\" if user[\"verified\"] else \" \", user[\"screen_name\"])\n",
    "    except Exception as e:\n",
    "        print \"Rate Limit Error: %s\" % e\n",
    "        time.sleep(15 * 60 + 15)\n",
    "        continue"
   ]
  },
  {
   "cell_type": "code",
   "execution_count": 23,
   "metadata": {
    "collapsed": false
   },
   "outputs": [],
   "source": [
    "#Plot the network and scale the nodes size on degree\n",
    "\n",
    "d = nx.degree(directed)"
   ]
  },
  {
   "cell_type": "markdown",
   "metadata": {
    "collapsed": true
   },
   "source": [
    "** Draw is way too expensive, I have to find something else **"
   ]
  },
  {
   "cell_type": "code",
   "execution_count": null,
   "metadata": {
    "collapsed": false
   },
   "outputs": [],
   "source": [
    "\n",
    "\n",
    "#nx.draw(directed, nodelist=d.keys(), node_size=[v * 100 for v in d.values()])\n",
    "#plt.show()"
   ]
  },
  {
   "cell_type": "markdown",
   "metadata": {},
   "source": [
    "## Basic Stats"
   ]
  },
  {
   "cell_type": "code",
   "execution_count": 24,
   "metadata": {
    "collapsed": true
   },
   "outputs": [],
   "source": [
    "import numpy as np\n",
    "%matplotlib inline "
   ]
  },
  {
   "cell_type": "code",
   "execution_count": 32,
   "metadata": {
    "collapsed": false
   },
   "outputs": [
    {
     "name": "stdout",
     "output_type": "stream",
     "text": [
      "The graph has 64728 nodes and and 78788 edges \n",
      "[(u'wikileaks', 30), (u'realDonaldTrump', 27), (u'BarackObama', 27), (u'POTUS', 24), (u'HillaryClinton', 24), (u'BernieSanders', 23), (u'KellyannePolls', 22), (u'mike_pence', 22), (u'DRUDGE_REPORT', 21), (u'RealBenCarson', 21)]\n",
      "[(u'sallykohn', 4736), (u'ladygaga', 4557), (u'wikileaks', 4527), (u'StevenTDennis', 4507), (u'stuartpstevens', 4399), (u'Shottyisms', 3415), (u'bad_bad_bernie', 2986), (u'CaptainsLog2016', 2906), (u'SanFranMoman', 2692), (u'Trevor90666770', 2541)]\n"
     ]
    }
   ],
   "source": [
    "#Number of node\n",
    "print \"The graph has %d nodes\" % directed.number_of_nodes() , \"and and %d edges \"% directed.number_of_edges()\n",
    "\n",
    "\n",
    "#Top 10 account by in and out degree\n",
    "node_in_degree_tuples = sorted([(node, directed.in_degree(node)) for node in directed.nodes()], key=lambda (n, d): -d)\n",
    "node_out_degree_tuples = sorted([(node, directed.out_degree(node)) for node in directed.nodes()], key=lambda (n, d): -d)\n",
    "\n",
    "print node_in_degree_tuples[:10]\n",
    "print node_out_degree_tuples[:10]\n",
    "\n",
    "\n"
   ]
  },
  {
   "cell_type": "code",
   "execution_count": 53,
   "metadata": {
    "collapsed": true
   },
   "outputs": [],
   "source": [
    "import pickle"
   ]
  },
  {
   "cell_type": "code",
   "execution_count": 56,
   "metadata": {
    "collapsed": false
   },
   "outputs": [],
   "source": [
    "pickle.dump(directed, open('graph.txt', 'w'))"
   ]
  },
  {
   "cell_type": "code",
   "execution_count": 26,
   "metadata": {
    "collapsed": false
   },
   "outputs": [
    {
     "data": {
      "image/png": "[encoded data removed]",
      "text/plain": [
       "<matplotlib.figure.Figure at 0xa344780>"
      ]
     },
     "metadata": {},
     "output_type": "display_data"
    }
   ],
   "source": [
    "#Distributions\n",
    "# Compute min and max values for the degrees\n",
    "node_in_degree = map(lambda x: x[1], node_in_degree_tuples)\n",
    "node_out_degree = map(lambda x: x[1], node_out_degree_tuples)\n",
    "max_in_degree = max(node_in_degree)\n",
    "min_in_degree = min(node_in_degree)\n",
    "max_out_degree = max(node_out_degree)\n",
    "min_out_degree = min(node_out_degree)\n",
    "\n",
    "# Compute the bins for our degree distribution\n",
    "bins_in = [i for i in range(min_in_degree, max_in_degree+1)]\n",
    "bins_out = [i for i in range(min_out_degree, max_out_degree+1)]\n",
    "\n",
    "degrees_in_hist, degrees_in_bin = np.histogram(node_in_degree, bins=bins_in)\n",
    "degrees_out_hist, degrees_out_bin = np.histogram(node_out_degree, bins=bins_out)\n",
    "\n",
    "plt.plot(degrees_in_bin[:-1], degrees_in_hist, 'r')\n",
    "plt.xlabel('Degree')\n",
    "plt.ylabel('Number of occurences')\n",
    "plt.title('Linear plot of the in degree distribution for the node network')\n",
    "plt.show()"
   ]
  },
  {
   "cell_type": "code",
   "execution_count": 34,
   "metadata": {
    "collapsed": false
   },
   "outputs": [
    {
     "name": "stdout",
     "output_type": "stream",
     "text": [
      "[0, 1, 2, 3, 4, 5, 6, 7, 8, 9]\n"
     ]
    }
   ],
   "source": [
    "print bins_out[:10]"
   ]
  },
  {
   "cell_type": "code",
   "execution_count": 38,
   "metadata": {
    "collapsed": false
   },
   "outputs": [
    {
     "data": {
      "image/png": "[encoded data removed]",
      "text/plain": [
       "<matplotlib.figure.Figure at 0x11ea8278>"
      ]
     },
     "metadata": {},
     "output_type": "display_data"
    }
   ],
   "source": [
    "plt.plot(degrees_out_bin[:-1], degrees_out_hist, 'b')\n",
    "plt.axis([0, 5000, 0, 2])\n",
    "plt.xlabel('Degree')\n",
    "plt.ylabel('Number of occurences')\n",
    "plt.title('Linear plot of the out degree distribution for the network')\n",
    "plt.show()"
   ]
  },
  {
   "cell_type": "code",
   "execution_count": 39,
   "metadata": {
    "collapsed": false
   },
   "outputs": [
    {
     "data": {
      "image/png": "[encoded data removed]",
      "text/plain": [
       "<matplotlib.figure.Figure at 0x151810b8>"
      ]
     },
     "metadata": {},
     "output_type": "display_data"
    }
   ],
   "source": [
    "plt.loglog(degrees_in_bin[:-1], degrees_in_hist, 'r')\n",
    "plt.xlabel('Degree')\n",
    "plt.ylabel('Number of occurences')\n",
    "plt.title('Log log plot of the in degree distribution for the network')\n",
    "plt.show()"
   ]
  },
  {
   "cell_type": "code",
   "execution_count": 42,
   "metadata": {
    "collapsed": false
   },
   "outputs": [
    {
     "data": {
      "image/png": "[encoded data removed]",
      "text/plain": [
       "<matplotlib.figure.Figure at 0x14edb518>"
      ]
     },
     "metadata": {},
     "output_type": "display_data"
    }
   ],
   "source": [
    "\n",
    "\n",
    "plt.loglog(degrees_out_bin[:-1], degrees_out_hist)\n",
    "plt.xlabel('Degree')\n",
    "plt.ylabel('Number of occurences')\n",
    "plt.title('Log plot of the out degree distribution for the network')\n",
    "plt.show()\n",
    "\n"
   ]
  },
  {
   "cell_type": "code",
   "execution_count": 30,
   "metadata": {
    "collapsed": false
   },
   "outputs": [
    {
     "data": {
      "image/png": "[encoded data removed]",
      "text/plain": [
       "<matplotlib.figure.Figure at 0x14cb28d0>"
      ]
     },
     "metadata": {},
     "output_type": "display_data"
    }
   ],
   "source": [
    "plt.loglog(degrees_in_bin[:-1], degrees_in_hist, 'ro')\n",
    "plt.loglog(degrees_out_bin[:-1], degrees_out_hist, 'o')\n",
    "plt.xlabel('Degree')\n",
    "plt.ylabel('Number of occurences')\n",
    "plt.title('Log log plot of the degree distribution for the network')\n",
    "plt.show()"
   ]
  },
  {
   "cell_type": "markdown",
   "metadata": {},
   "source": [
    "## Centrality and other stuffs"
   ]
  },
  {
   "cell_type": "markdown",
   "metadata": {},
   "source": [
    "Use NetworKIT (** no, only works on python 3...**)"
   ]
  },
  {
   "cell_type": "code",
   "execution_count": 29,
   "metadata": {
    "collapsed": true
   },
   "outputs": [],
   "source": [
    "undir = directed.to_undirected()"
   ]
  },
  {
   "cell_type": "markdown",
   "metadata": {},
   "source": [
    "** Calculating the centrality takes ages, I'll do an approx later **"
   ]
  },
  {
   "cell_type": "code",
   "execution_count": null,
   "metadata": {
    "collapsed": false
   },
   "outputs": [],
   "source": [
    "between_centrality = nx.betweenness_centrality(undir)\n",
    "between_centrality_sorted = sorted(between_centrality.iteritems(), key=lambda (name, value): -value)\n",
    "\n",
    "print \"Betweenes : The 5 most central accounts are :\\n\" \n",
    "print between_centrality_sorted[:5]"
   ]
  },
  {
   "cell_type": "code",
   "execution_count": 60,
   "metadata": {
    "collapsed": false
   },
   "outputs": [],
   "source": []
  },
  {
   "cell_type": "code",
   "execution_count": null,
   "metadata": {
    "collapsed": false
   },
   "outputs": [],
   "source": []
  },
  {
   "cell_type": "code",
   "execution_count": null,
   "metadata": {
    "collapsed": false
   },
   "outputs": [],
   "source": []
  }
 ],
 "metadata": {
  "anaconda-cloud": {},
  "kernelspec": {
   "display_name": "Python [Root]",
   "language": "python",
   "name": "Python [Root]"
  },
  "language_info": {
   "codemirror_mode": {
    "name": "ipython",
    "version": 2
   },
   "file_extension": ".py",
   "mimetype": "text/x-python",
   "name": "python",
   "nbconvert_exporter": "python",
   "pygments_lexer": "ipython2",
   "version": "2.7.12"
  }
 },
 "nbformat": 4,
 "nbformat_minor": 0
}
