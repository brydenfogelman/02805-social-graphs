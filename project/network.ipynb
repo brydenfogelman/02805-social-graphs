{
 "cells": [
  {
   "cell_type": "markdown",
   "metadata": {},
   "source": [
    "The idea is to get Trump's and Hillary's top 100 followers and find out which are their the top 100 accounts they follow. The goal is to find some similarities between them (or not, and to check the \"social media bubble\" theory)."
   ]
  },
  {
   "cell_type": "markdown",
   "metadata": {},
   "source": [
    "# Script"
   ]
  },
  {
   "cell_type": "code",
   "execution_count": 1,
   "metadata": {
    "collapsed": false
   },
   "outputs": [
    {
     "ename": "IndentationError",
     "evalue": "expected an indented block (<ipython-input-1-b8e8ab5d9536>, line 22)",
     "output_type": "error",
     "traceback": [
      "\u001b[1;36m  File \u001b[1;32m\"<ipython-input-1-b8e8ab5d9536>\"\u001b[1;36m, line \u001b[1;32m22\u001b[0m\n\u001b[1;33m    user_data = s.get_user_data(user_id)\u001b[0m\n\u001b[1;37m            ^\u001b[0m\n\u001b[1;31mIndentationError\u001b[0m\u001b[1;31m:\u001b[0m expected an indented block\n"
     ]
    }
   ],
   "source": [
    "import twitter as t\n",
    "from twitter import TweepError\n",
    "\n",
    "import redis\n",
    "r = redis.StrictRedis(db=0)\n",
    "\n",
    "import storage\n",
    "s = storage.RedisStorage(r)\n",
    "\n",
    "from datetime import datetime\n",
    "\n",
    "select_user_data = lambda u: dict([(k, getattr(u, k)) for k in \\\n",
    "    ['screen_name', 'name', 'description', 'friends_count', 'followers_count']])\n",
    "\n",
    "\n",
    "def load_user_data(user_id=None, screen_name=None):\n",
    "    \"\"\"\n",
    "    Retrieve and set user's data.\n",
    "    Or get it from the store if already there.\n",
    "    \"\"\"\n",
    "    assert bool(user_id) != bool(screen_name)\n",
    "    if user_id:\n",
    "    user_data = s.get_user_data(user_id)\n",
    "    if user_data:\n",
    "            return user_id, user_data\n",
    "    user = t.get_user(user_id=user_id)\n",
    "    else: # screen_name\n",
    "    user = t.get_user(screen_name=screen_name)\n",
    "    user_id = user.id\n",
    "    user_data = select_user_data(user)\n",
    "    s.set_user_data(user_id, user_data)\n",
    "    return user_id, user_data\n",
    "\n",
    "def load_followers(user_id):\n",
    "    \"\"\"\n",
    "    Retrieve and set user's followers.\n",
    "    \"\"\"\n",
    "    followers = sorted(list(t.followers_ids(user_id)))\n",
    "    s.set_followers(user_id, followers)\n",
    "    # followers = s.get_followers(user_id)\n",
    "    return followers\n",
    "\n",
    "def load_friends(user_id):\n",
    "    \"\"\"\n",
    "    Retrieve and set user's friends.\n",
    "    \"\"\"\n",
    "    if s.is_protected(user_id) or \\\n",
    "       s.has_friends(user_id): # loaded before\n",
    "        return\n",
    "    try:\n",
    "        friends = sorted(list(t.friends_ids(user_id)))\n",
    "        s.set_friends(user_id, friends)\n",
    "    except TweepError, e:\n",
    "        if 'Not authorized' in str(e):\n",
    "            s.mark_protected(user_id)\n",
    "\n",
    "def aggregate_friends():\n",
    "    \"Aggregate friends into top most followed.\"\n",
    "    s.set_most_followed()\n",
    "\n",
    "    \n",
    "#Not necessary but still...\n",
    "def top_most_followed(n):\n",
    "    \"\"\"\n",
    "    Display top n most followed.\n",
    "    \"\"\"\n",
    "    i = 1\n",
    "    top = s.get_most_followed(n) # withscores\n",
    "    format = \"%d | %d | %s | %s | %s ([@%s](https://twitter.com/%s))\"\n",
    "    print \"Rank | Popularity | Followers | Friends | Name (@twitter)\"\n",
    "    print \"--- | --- | --- | --- | ---\"\n",
    "    for user_id, score in top:\n",
    "        user_id, user_data = load_user_data(user_id=user_id)\n",
    "        print format % (i, score,\n",
    "            user_data['followers_count'], user_data['friends_count'],\n",
    "            user_data['name'],\n",
    "            user_data['screen_name'], user_data['screen_name'])\n",
    "        i += 1"
   ]
  },
  {
   "cell_type": "code",
   "execution_count": null,
   "metadata": {
    "collapsed": true
   },
   "outputs": [],
   "source": [
    "####### FOR TRUMP\n",
    "# Step 1: Identify the source, here we'll have 2 sources, Trump and Hillary\n",
    "source_name = 'realDonaldTrump' # target group source Trump\n",
    "source_id, source_data = load_user_data(screen_name=source_name)\n",
    "\n",
    "# Step 2: Load target group members IDs\n",
    "# Here we have to think about the time it will take\n",
    "followers_ids = load_followers_ids(source_id) # target group\n",
    "\n",
    "# Step 3: Load friends of target group members\n",
    "for followers in followers_ids:\n",
    "    load_friends(user_id=followers)\n",
    "\n",
    "# Step 4: Aggregate friends into top most followed\n",
    "aggregate_friends() # count friend occurrences\n",
    "top_most_followed(100) # display results"
   ]
  },
  {
   "cell_type": "code",
   "execution_count": null,
   "metadata": {
    "collapsed": true
   },
   "outputs": [],
   "source": [
    "####### FOR TRUMP\n",
    "# Step 1: Identify the source, here we'll have 2 sources, Trump and Hillary\n",
    "source_name = 'HillaryClinton' # target group source Clinton\n",
    "source_id, source_data = load_user_data(screen_name=source_name)\n",
    "\n",
    "# Step 2: Load target group members IDs\n",
    "followers_ids = load_followers_ids(source_id) # target group\n",
    "\n",
    "# Step 3: Load friends of target group members\n",
    "for followers in followers_ids:\n",
    "    load_friends(user_id=followers)\n",
    "\n",
    "# Step 4: Aggregate friends into top most followed\n",
    "aggregate_friends() # count friend occurrences\n",
    "top_most_followed(100) # display results"
   ]
  }
 ],
 "metadata": {
  "anaconda-cloud": {},
  "kernelspec": {
   "display_name": "Python [Root]",
   "language": "python",
   "name": "Python [Root]"
  },
  "language_info": {
   "codemirror_mode": {
    "name": "ipython",
    "version": 2
   },
   "file_extension": ".py",
   "mimetype": "text/x-python",
   "name": "python",
   "nbconvert_exporter": "python",
   "pygments_lexer": "ipython2",
   "version": "2.7.12"
  }
 },
 "nbformat": 4,
 "nbformat_minor": 0
}
