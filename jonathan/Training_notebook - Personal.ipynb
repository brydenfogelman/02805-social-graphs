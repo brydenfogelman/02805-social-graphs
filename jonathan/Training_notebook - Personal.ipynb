{
 "cells": [
  {
   "cell_type": "markdown",
   "metadata": {},
   "source": [
    "# The python exercises\n",
    "\n",
    "**Ex 0**: The Jupyter Notebooks are organized as a list of cells. There are two central kinds of cells, they are called **Code** and **Markdown**. The cell type can be set [using a keyboard shortcut](http://sowingseasons.com/blog/jupyter-keyboard-shortcuts.html), or using the menu above.\n",
    "\n",
    "The **Code** cells simply contain the Python code, no big deal.\n",
    "\n",
    "The **Markdown** cells contain text (explanations, sections, etc). The text is written in Markdown. Markdown allows you to write using an easy-to-read, easy-to-write plain text format, then convert it to structurally valid XHTML (or HTML). You can read about it here:\n",
    "\n",
    "http://daringfireball.net/projects/markdown/\n",
    "\n",
    "In the cell below, write a short text that demonstrates that you can\n",
    "* Create a section\n",
    "* Write words in bold and italics\n",
    "* Create lists\n",
    "* Establish a [hyperlink](https://en.wikipedia.org/wiki/Hyperlink)"
   ]
  },
  {
   "cell_type": "markdown",
   "metadata": {},
   "source": [
    "# This is a big section\n",
    "## Lets continue with a smaller section\n",
    "**Hello** *world*\n",
    "\n",
    "Shopping list :\n",
    "* Carrots\n",
    "* Potatoes\n",
    "* Apple juice\n",
    "\n",
    "Check out that [https://github.com/suneman/socialgraphs2016](amazing course)\n"
   ]
  },
  {
   "cell_type": "markdown",
   "metadata": {},
   "source": [
    "**Ex 1**: Create a list `a` that contains the numbers from $1$ to $1110$, incremented by one, using the `range` function."
   ]
  },
  {
   "cell_type": "code",
   "execution_count": 1,
   "metadata": {
    "collapsed": false
   },
   "outputs": [
    {
     "name": "stdout",
     "output_type": "stream",
     "text": [
      "[1, 2, 3, 4, 5, 6, 7, 8, 9, 10, 11, 12, 13, 14, 15, 16, 17, 18, 19, 20, 21, 22, 23, 24, 25, 26, 27, 28, 29, 30, 31, 32, 33, 34, 35, 36, 37, 38, 39, 40, 41, 42, 43, 44, 45, 46, 47, 48, 49, 50, 51, 52, 53, 54, 55, 56, 57, 58, 59, 60, 61, 62, 63, 64, 65, 66, 67, 68, 69, 70, 71, 72, 73, 74, 75, 76, 77, 78, 79, 80, 81, 82, 83, 84, 85, 86, 87, 88, 89, 90, 91, 92, 93, 94, 95, 96, 97, 98, 99, 100, 101, 102, 103, 104, 105, 106, 107, 108, 109, 110, 111, 112, 113, 114, 115, 116, 117, 118, 119, 120, 121, 122, 123, 124, 125, 126, 127, 128, 129, 130, 131, 132, 133, 134, 135, 136, 137, 138, 139, 140, 141, 142, 143, 144, 145, 146, 147, 148, 149, 150, 151, 152, 153, 154, 155, 156, 157, 158, 159, 160, 161, 162, 163, 164, 165, 166, 167, 168, 169, 170, 171, 172, 173, 174, 175, 176, 177, 178, 179, 180, 181, 182, 183, 184, 185, 186, 187, 188, 189, 190, 191, 192, 193, 194, 195, 196, 197, 198, 199, 200, 201, 202, 203, 204, 205, 206, 207, 208, 209, 210, 211, 212, 213, 214, 215, 216, 217, 218, 219, 220, 221, 222, 223, 224, 225, 226, 227, 228, 229, 230, 231, 232, 233, 234, 235, 236, 237, 238, 239, 240, 241, 242, 243, 244, 245, 246, 247, 248, 249, 250, 251, 252, 253, 254, 255, 256, 257, 258, 259, 260, 261, 262, 263, 264, 265, 266, 267, 268, 269, 270, 271, 272, 273, 274, 275, 276, 277, 278, 279, 280, 281, 282, 283, 284, 285, 286, 287, 288, 289, 290, 291, 292, 293, 294, 295, 296, 297, 298, 299, 300, 301, 302, 303, 304, 305, 306, 307, 308, 309, 310, 311, 312, 313, 314, 315, 316, 317, 318, 319, 320, 321, 322, 323, 324, 325, 326, 327, 328, 329, 330, 331, 332, 333, 334, 335, 336, 337, 338, 339, 340, 341, 342, 343, 344, 345, 346, 347, 348, 349, 350, 351, 352, 353, 354, 355, 356, 357, 358, 359, 360, 361, 362, 363, 364, 365, 366, 367, 368, 369, 370, 371, 372, 373, 374, 375, 376, 377, 378, 379, 380, 381, 382, 383, 384, 385, 386, 387, 388, 389, 390, 391, 392, 393, 394, 395, 396, 397, 398, 399, 400, 401, 402, 403, 404, 405, 406, 407, 408, 409, 410, 411, 412, 413, 414, 415, 416, 417, 418, 419, 420, 421, 422, 423, 424, 425, 426, 427, 428, 429, 430, 431, 432, 433, 434, 435, 436, 437, 438, 439, 440, 441, 442, 443, 444, 445, 446, 447, 448, 449, 450, 451, 452, 453, 454, 455, 456, 457, 458, 459, 460, 461, 462, 463, 464, 465, 466, 467, 468, 469, 470, 471, 472, 473, 474, 475, 476, 477, 478, 479, 480, 481, 482, 483, 484, 485, 486, 487, 488, 489, 490, 491, 492, 493, 494, 495, 496, 497, 498, 499, 500, 501, 502, 503, 504, 505, 506, 507, 508, 509, 510, 511, 512, 513, 514, 515, 516, 517, 518, 519, 520, 521, 522, 523, 524, 525, 526, 527, 528, 529, 530, 531, 532, 533, 534, 535, 536, 537, 538, 539, 540, 541, 542, 543, 544, 545, 546, 547, 548, 549, 550, 551, 552, 553, 554, 555, 556, 557, 558, 559, 560, 561, 562, 563, 564, 565, 566, 567, 568, 569, 570, 571, 572, 573, 574, 575, 576, 577, 578, 579, 580, 581, 582, 583, 584, 585, 586, 587, 588, 589, 590, 591, 592, 593, 594, 595, 596, 597, 598, 599, 600, 601, 602, 603, 604, 605, 606, 607, 608, 609, 610, 611, 612, 613, 614, 615, 616, 617, 618, 619, 620, 621, 622, 623, 624, 625, 626, 627, 628, 629, 630, 631, 632, 633, 634, 635, 636, 637, 638, 639, 640, 641, 642, 643, 644, 645, 646, 647, 648, 649, 650, 651, 652, 653, 654, 655, 656, 657, 658, 659, 660, 661, 662, 663, 664, 665, 666, 667, 668, 669, 670, 671, 672, 673, 674, 675, 676, 677, 678, 679, 680, 681, 682, 683, 684, 685, 686, 687, 688, 689, 690, 691, 692, 693, 694, 695, 696, 697, 698, 699, 700, 701, 702, 703, 704, 705, 706, 707, 708, 709, 710, 711, 712, 713, 714, 715, 716, 717, 718, 719, 720, 721, 722, 723, 724, 725, 726, 727, 728, 729, 730, 731, 732, 733, 734, 735, 736, 737, 738, 739, 740, 741, 742, 743, 744, 745, 746, 747, 748, 749, 750, 751, 752, 753, 754, 755, 756, 757, 758, 759, 760, 761, 762, 763, 764, 765, 766, 767, 768, 769, 770, 771, 772, 773, 774, 775, 776, 777, 778, 779, 780, 781, 782, 783, 784, 785, 786, 787, 788, 789, 790, 791, 792, 793, 794, 795, 796, 797, 798, 799, 800, 801, 802, 803, 804, 805, 806, 807, 808, 809, 810, 811, 812, 813, 814, 815, 816, 817, 818, 819, 820, 821, 822, 823, 824, 825, 826, 827, 828, 829, 830, 831, 832, 833, 834, 835, 836, 837, 838, 839, 840, 841, 842, 843, 844, 845, 846, 847, 848, 849, 850, 851, 852, 853, 854, 855, 856, 857, 858, 859, 860, 861, 862, 863, 864, 865, 866, 867, 868, 869, 870, 871, 872, 873, 874, 875, 876, 877, 878, 879, 880, 881, 882, 883, 884, 885, 886, 887, 888, 889, 890, 891, 892, 893, 894, 895, 896, 897, 898, 899, 900, 901, 902, 903, 904, 905, 906, 907, 908, 909, 910, 911, 912, 913, 914, 915, 916, 917, 918, 919, 920, 921, 922, 923, 924, 925, 926, 927, 928, 929, 930, 931, 932, 933, 934, 935, 936, 937, 938, 939, 940, 941, 942, 943, 944, 945, 946, 947, 948, 949, 950, 951, 952, 953, 954, 955, 956, 957, 958, 959, 960, 961, 962, 963, 964, 965, 966, 967, 968, 969, 970, 971, 972, 973, 974, 975, 976, 977, 978, 979, 980, 981, 982, 983, 984, 985, 986, 987, 988, 989, 990, 991, 992, 993, 994, 995, 996, 997, 998, 999, 1000, 1001, 1002, 1003, 1004, 1005, 1006, 1007, 1008, 1009, 1010, 1011, 1012, 1013, 1014, 1015, 1016, 1017, 1018, 1019, 1020, 1021, 1022, 1023, 1024, 1025, 1026, 1027, 1028, 1029, 1030, 1031, 1032, 1033, 1034, 1035, 1036, 1037, 1038, 1039, 1040, 1041, 1042, 1043, 1044, 1045, 1046, 1047, 1048, 1049, 1050, 1051, 1052, 1053, 1054, 1055, 1056, 1057, 1058, 1059, 1060, 1061, 1062, 1063, 1064, 1065, 1066, 1067, 1068, 1069, 1070, 1071, 1072, 1073, 1074, 1075, 1076, 1077, 1078, 1079, 1080, 1081, 1082, 1083, 1084, 1085, 1086, 1087, 1088, 1089, 1090, 1091, 1092, 1093, 1094, 1095, 1096, 1097, 1098, 1099, 1100, 1101, 1102, 1103, 1104, 1105, 1106, 1107, 1108, 1109, 1110]\n"
     ]
    }
   ],
   "source": [
    "start_a = 1\n",
    "end_a = 1110\n",
    "\n",
    "# Use list comprehension to generate a list with all numbers in the range start and end (+1 at the end as it is not included)\n",
    "a = [i for i in range(start_a, end_a+1)]\n",
    "print a"
   ]
  },
  {
   "cell_type": "markdown",
   "metadata": {},
   "source": [
    "**Ex 2**: Show that you understand [slicing](http://stackoverflow.com/questions/509211/explain-pythons-slice-notation) in Python by extracting a list `b` with the numbers from $543$ to $779$ from the list created above."
   ]
  },
  {
   "cell_type": "code",
   "execution_count": 2,
   "metadata": {
    "collapsed": false
   },
   "outputs": [
    {
     "name": "stdout",
     "output_type": "stream",
     "text": [
      "[543, 544, 545, 546, 547, 548, 549, 550, 551, 552, 553, 554, 555, 556, 557, 558, 559, 560, 561, 562, 563, 564, 565, 566, 567, 568, 569, 570, 571, 572, 573, 574, 575, 576, 577, 578, 579, 580, 581, 582, 583, 584, 585, 586, 587, 588, 589, 590, 591, 592, 593, 594, 595, 596, 597, 598, 599, 600, 601, 602, 603, 604, 605, 606, 607, 608, 609, 610, 611, 612, 613, 614, 615, 616, 617, 618, 619, 620, 621, 622, 623, 624, 625, 626, 627, 628, 629, 630, 631, 632, 633, 634, 635, 636, 637, 638, 639, 640, 641, 642, 643, 644, 645, 646, 647, 648, 649, 650, 651, 652, 653, 654, 655, 656, 657, 658, 659, 660, 661, 662, 663, 664, 665, 666, 667, 668, 669, 670, 671, 672, 673, 674, 675, 676, 677, 678, 679, 680, 681, 682, 683, 684, 685, 686, 687, 688, 689, 690, 691, 692, 693, 694, 695, 696, 697, 698, 699, 700, 701, 702, 703, 704, 705, 706, 707, 708, 709, 710, 711, 712, 713, 714, 715, 716, 717, 718, 719, 720, 721, 722, 723, 724, 725, 726, 727, 728, 729, 730, 731, 732, 733, 734, 735, 736, 737, 738, 739, 740, 741, 742, 743, 744, 745, 746, 747, 748, 749, 750, 751, 752, 753, 754, 755, 756, 757, 758, 759, 760, 761, 762, 763, 764, 765, 766, 767, 768, 769, 770, 771, 772, 773, 774, 775, 776, 777, 778, 779]\n"
     ]
    }
   ],
   "source": [
    "start_b = 543\n",
    "end_b = 779\n",
    "\n",
    "# We need to start at start_b-1 to get the number 543 (arrays start at 0)\n",
    "b = a[start_b-1:end_b]\n",
    "print b"
   ]
  },
  {
   "cell_type": "markdown",
   "metadata": {},
   "source": [
    "**Ex 3**: Using `def`, define a function that takes as input a number $x$ and outputs the number multiplied by itself plus three $f(x) = x(x+3)$. "
   ]
  },
  {
   "cell_type": "code",
   "execution_count": 3,
   "metadata": {
    "collapsed": true
   },
   "outputs": [],
   "source": [
    "def some_computation(x):\n",
    "    return x * (x + 3)"
   ]
  },
  {
   "cell_type": "markdown",
   "metadata": {},
   "source": [
    "**Ex 4**: Apply this function to every element of the list `b` using a `for` loop. "
   ]
  },
  {
   "cell_type": "code",
   "execution_count": 4,
   "metadata": {
    "collapsed": false
   },
   "outputs": [
    {
     "name": "stdout",
     "output_type": "stream",
     "text": [
      "[296478, 297568, 298660, 299754, 300850, 301948, 303048, 304150, 305254, 306360, 307468, 308578, 309690, 310804, 311920, 313038, 314158, 315280, 316404, 317530, 318658, 319788, 320920, 322054, 323190, 324328, 325468, 326610, 327754, 328900, 330048, 331198, 332350, 333504, 334660, 335818, 336978, 338140, 339304, 340470, 341638, 342808, 343980, 345154, 346330, 347508, 348688, 349870, 351054, 352240, 353428, 354618, 355810, 357004, 358200, 359398, 360598, 361800, 363004, 364210, 365418, 366628, 367840, 369054, 370270, 371488, 372708, 373930, 375154, 376380, 377608, 378838, 380070, 381304, 382540, 383778, 385018, 386260, 387504, 388750, 389998, 391248, 392500, 393754, 395010, 396268, 397528, 398790, 400054, 401320, 402588, 403858, 405130, 406404, 407680, 408958, 410238, 411520, 412804, 414090, 415378, 416668, 417960, 419254, 420550, 421848, 423148, 424450, 425754, 427060, 428368, 429678, 430990, 432304, 433620, 434938, 436258, 437580, 438904, 440230, 441558, 442888, 444220, 445554, 446890, 448228, 449568, 450910, 452254, 453600, 454948, 456298, 457650, 459004, 460360, 461718, 463078, 464440, 465804, 467170, 468538, 469908, 471280, 472654, 474030, 475408, 476788, 478170, 479554, 480940, 482328, 483718, 485110, 486504, 487900, 489298, 490698, 492100, 493504, 494910, 496318, 497728, 499140, 500554, 501970, 503388, 504808, 506230, 507654, 509080, 510508, 511938, 513370, 514804, 516240, 517678, 519118, 520560, 522004, 523450, 524898, 526348, 527800, 529254, 530710, 532168, 533628, 535090, 536554, 538020, 539488, 540958, 542430, 543904, 545380, 546858, 548338, 549820, 551304, 552790, 554278, 555768, 557260, 558754, 560250, 561748, 563248, 564750, 566254, 567760, 569268, 570778, 572290, 573804, 575320, 576838, 578358, 579880, 581404, 582930, 584458, 585988, 587520, 589054, 590590, 592128, 593668, 595210, 596754, 598300, 599848, 601398, 602950, 604504, 606060, 607618, 609178]\n"
     ]
    }
   ],
   "source": [
    "c_classic = []\n",
    "\n",
    "# Append each result of the computation to a newly created list\n",
    "for i in b:\n",
    "    c_classic.append(some_computation(i))\n",
    "\n",
    "print c_classic"
   ]
  },
  {
   "cell_type": "markdown",
   "metadata": {},
   "source": [
    "**Ex 5**: Do the same thing using a list comprehension."
   ]
  },
  {
   "cell_type": "code",
   "execution_count": 5,
   "metadata": {
    "collapsed": false
   },
   "outputs": [
    {
     "name": "stdout",
     "output_type": "stream",
     "text": [
      "[296478, 297568, 298660, 299754, 300850, 301948, 303048, 304150, 305254, 306360, 307468, 308578, 309690, 310804, 311920, 313038, 314158, 315280, 316404, 317530, 318658, 319788, 320920, 322054, 323190, 324328, 325468, 326610, 327754, 328900, 330048, 331198, 332350, 333504, 334660, 335818, 336978, 338140, 339304, 340470, 341638, 342808, 343980, 345154, 346330, 347508, 348688, 349870, 351054, 352240, 353428, 354618, 355810, 357004, 358200, 359398, 360598, 361800, 363004, 364210, 365418, 366628, 367840, 369054, 370270, 371488, 372708, 373930, 375154, 376380, 377608, 378838, 380070, 381304, 382540, 383778, 385018, 386260, 387504, 388750, 389998, 391248, 392500, 393754, 395010, 396268, 397528, 398790, 400054, 401320, 402588, 403858, 405130, 406404, 407680, 408958, 410238, 411520, 412804, 414090, 415378, 416668, 417960, 419254, 420550, 421848, 423148, 424450, 425754, 427060, 428368, 429678, 430990, 432304, 433620, 434938, 436258, 437580, 438904, 440230, 441558, 442888, 444220, 445554, 446890, 448228, 449568, 450910, 452254, 453600, 454948, 456298, 457650, 459004, 460360, 461718, 463078, 464440, 465804, 467170, 468538, 469908, 471280, 472654, 474030, 475408, 476788, 478170, 479554, 480940, 482328, 483718, 485110, 486504, 487900, 489298, 490698, 492100, 493504, 494910, 496318, 497728, 499140, 500554, 501970, 503388, 504808, 506230, 507654, 509080, 510508, 511938, 513370, 514804, 516240, 517678, 519118, 520560, 522004, 523450, 524898, 526348, 527800, 529254, 530710, 532168, 533628, 535090, 536554, 538020, 539488, 540958, 542430, 543904, 545380, 546858, 548338, 549820, 551304, 552790, 554278, 555768, 557260, 558754, 560250, 561748, 563248, 564750, 566254, 567760, 569268, 570778, 572290, 573804, 575320, 576838, 578358, 579880, 581404, 582930, 584458, 585988, 587520, 589054, 590590, 592128, 593668, 595210, 596754, 598300, 599848, 601398, 602950, 604504, 606060, 607618, 609178]\n"
     ]
    }
   ],
   "source": [
    "c_comprehension = [some_computation(x) for x in b]\n",
    "print c_comprehension"
   ]
  },
  {
   "cell_type": "markdown",
   "metadata": {},
   "source": [
    "Lets check that the two above ways to apply a function to a list are identical"
   ]
  },
  {
   "cell_type": "code",
   "execution_count": 6,
   "metadata": {
    "collapsed": false
   },
   "outputs": [
    {
     "name": "stdout",
     "output_type": "stream",
     "text": [
      "Are the two lists identical ? True\n"
     ]
    }
   ],
   "source": [
    "print \"Are the two lists identical ? %s\" % (c_comprehension == c_classic)"
   ]
  },
  {
   "cell_type": "markdown",
   "metadata": {},
   "source": [
    "**Ex 6**: Write the output of your function to a text file with one number per line."
   ]
  },
  {
   "cell_type": "code",
   "execution_count": 7,
   "metadata": {
    "collapsed": false
   },
   "outputs": [],
   "source": [
    "# Open a new file in write mode (will erase previous file if already exists)\n",
    "f = open('numbers.txt', 'w')\n",
    "\n",
    "# Write each number on a line \n",
    "[f.write(\"%d\\n\" % number) for number in c_comprehension]\n",
    "\n",
    "# Close the file \n",
    "f.close()"
   ]
  },
  {
   "cell_type": "markdown",
   "metadata": {},
   "source": [
    "**Ex 7**: Show that you know about strings using this example from http://learnpythonthehardway.org/book/ex6.html (code reproduced below).\n",
    "\n",
    "1. Go through the code below and write a code comment above each line explaining it.\n",
    "1. Find all the places where a string is put inside a string. There are four places.\n",
    "1. Are you sure there are only four places? How do you know? Maybe I like lying.\n",
    "1. Explain why adding the two strings w and e with + makes a longer string.\n",
    "\n",
    "\n",
    "[**Hint**: If you feel this is too complex, try completing the prior learningthehardway exercises first. Start [here](http://learnpythonthehardway.org/book/ex1.html). "
   ]
  },
  {
   "cell_type": "code",
   "execution_count": 8,
   "metadata": {
    "collapsed": false
   },
   "outputs": [
    {
     "name": "stdout",
     "output_type": "stream",
     "text": [
      "There are 10 types of people.\n",
      "Those who know binary and those who don't.\n",
      "I said: 'There are 10 types of people.'.\n",
      "I also said: 'Those who know binary and those who don't.'.\n",
      "Isn't that joke so funny?! False\n",
      "This is the left side of...a string with a right side.\n"
     ]
    }
   ],
   "source": [
    "# Note from Sune: In Python, code comments follow the \"#\" character\n",
    "\n",
    "# This will create a variable x containing a string where the placeholder \"%d\", signaling an integer value, \n",
    "# will be substituted by the integer 10 \n",
    "x = \"There are %d types of people.\" % 10\n",
    "\n",
    "# A regular string variable \n",
    "binary = \"binary\"\n",
    "# Same\n",
    "do_not = \"don't\"\n",
    "# Create a string variable y with the respective content of the string binary and do_not substituted in the respective \n",
    "# string placeholders \"%s\" (respecting the order)\n",
    "y = \"Those who know %s and those who %s.\" % (binary, do_not)\n",
    "\n",
    "# Prints the string x\n",
    "print x\n",
    "# Prints the string y \n",
    "print y\n",
    "\n",
    "# Prints a string with the string representation of x at the end -> the r flag prints the string representation of the object\n",
    "print \"I said: %r.\" % x\n",
    "# Prints a string with the value of y at the end, printed as a string (not the string representation - thus we don't get the enclosing '')\n",
    "print \"I also said: '%s'.\" % y\n",
    "\n",
    "\n",
    "hilarious = False\n",
    "joke_evaluation = \"Isn't that joke so funny?! %r\"\n",
    "\n",
    "# Prints the content of the string joke_evaluation with the string representation of the boolean hilarious\n",
    "print joke_evaluation % hilarious\n",
    "\n",
    "w = \"This is the left side of...\"\n",
    "e = \"a string with a right side.\"\n",
    "\n",
    "# Concatenates two strings together and prints them \n",
    "print w + e"
   ]
  },
  {
   "cell_type": "markdown",
   "metadata": {},
   "source": [
    "*[Write the answer to **Ex 7**, 2-4 here]*\n",
    "\n",
    "* A string is put inside in another string in the following places :\n",
    "    * In the **y** variable\n",
    "    * In the print statement \"I said\"\n",
    "    * In the print statement \"I also said\" \n",
    "    * In the print statement \"Isn't that joke so funny?! \"\n",
    "    * In the final print statement that does the concatenation of w and e \n",
    "\n",
    "* The *+* operator is the concatenation operator which appends the string on the right-side of the + to the end of the one on the left-side "
   ]
  },
  {
   "cell_type": "markdown",
   "metadata": {},
   "source": [
    "**Ex 8**: First, learn about JSON by reading the **[wikipedia page](https://en.wikipedia.org/wiki/JSON)**. Then answer the following two questions in the cell below. \n",
    "\n",
    "* What is `json`? What do the letters stand for?\n",
    "* Why is `json` superior to `xml`? (... or why not?)"
   ]
  },
  {
   "cell_type": "markdown",
   "metadata": {},
   "source": [
    "*[Write your answer to **Ex 8** here]*\n",
    "* JSON is short for JavaScript Object Notation, and is a data exchange representation format widely used to send data between heterogenous systems. It works as a dictionary of values viewed as an object which can contains mostly strings but also arrays, and primitive types. \n",
    "\n",
    "* JSON can be seen as superior to XML as it a more compact representation of the data (less verbose), it also is natively supported by many programming languages such as Python and JavaScript. However, XML has a richer syntax where you can specify attributes for tags. "
   ]
  },
  {
   "cell_type": "markdown",
   "metadata": {},
   "source": [
    "**Ex 9a**: Use the `json` module (instructions on usage here: http://docs.python.org/library/json.html). \n",
    "\n",
    "First use `urllib2` (http://docs.python.org/howto/urllib2.html), or another Python library, to download **[this file](https://dl.dropboxusercontent.com/u/153071/test.json)**. \n",
    "\n",
    "The downloaded file is a string when you first download it, but you can use the `json` library to \"load\" the string and decode it to a Python object, using `json.loads()`. (The decoded string is a python object, a list with a single element, a dictionary (with nested dictionaries inside it))."
   ]
  },
  {
   "cell_type": "code",
   "execution_count": 9,
   "metadata": {
    "collapsed": false
   },
   "outputs": [],
   "source": [
    "# Import libraries for HTTP communications and JSON parsing\n",
    "import urllib2, json\n",
    "\n",
    "# Open the HTML file at the provided location \n",
    "response = urllib2.urlopen('https://dl.dropboxusercontent.com/u/153071/test.json')\n",
    "\n",
    "# Get raw HTML representation of the webpage \n",
    "html = response.read()\n",
    "\n",
    "# Parse it into JSON format\n",
    "json = json.loads(html)"
   ]
  },
  {
   "cell_type": "markdown",
   "metadata": {},
   "source": [
    "**Ex 9b**: Now, let's take a look at the file you downloaded. First, just write the name of the variable that contains the decoded file content and hit enter to take a look at it. It's  the list of Twitter Trending topics, a few days ago."
   ]
  },
  {
   "cell_type": "code",
   "execution_count": 10,
   "metadata": {
    "collapsed": false
   },
   "outputs": [
    {
     "data": {
      "text/plain": [
       "[{u'as_of': u'2015-08-24T08:36:54Z',\n",
       "  u'created_at': u'2015-08-24T08:32:44Z',\n",
       "  u'locations': [{u'name': u'Denmark', u'woeid': 23424796}],\n",
       "  u'trends': [{u'name': u'#rfcvff',\n",
       "    u'promoted_content': None,\n",
       "    u'query': u'%23rfcvff',\n",
       "    u'url': u'http://twitter.com/search?q=%23rfcvff'},\n",
       "   {u'name': u'#EFBFCM',\n",
       "    u'promoted_content': None,\n",
       "    u'query': u'%23EFBFCM',\n",
       "    u'url': u'http://twitter.com/search?q=%23EFBFCM'},\n",
       "   {u'name': u'#bifsje',\n",
       "    u'promoted_content': None,\n",
       "    u'query': u'%23bifsje',\n",
       "    u'url': u'http://twitter.com/search?q=%23bifsje'},\n",
       "   {u'name': u'nordstrand',\n",
       "    u'promoted_content': None,\n",
       "    u'query': u'nordstrand',\n",
       "    u'url': u'http://twitter.com/search?q=nordstrand'},\n",
       "   {u'name': u'#WhyILoveLiam',\n",
       "    u'promoted_content': None,\n",
       "    u'query': u'%23WhyILoveLiam',\n",
       "    u'url': u'http://twitter.com/search?q=%23WhyILoveLiam'},\n",
       "   {u'name': u'#lv2015',\n",
       "    u'promoted_content': None,\n",
       "    u'query': u'%23lv2015',\n",
       "    u'url': u'http://twitter.com/search?q=%23lv2015'},\n",
       "   {u'name': u'Harald Nielsen',\n",
       "    u'promoted_content': None,\n",
       "    u'query': u'%22Harald+Nielsen%22',\n",
       "    u'url': u'http://twitter.com/search?q=%22Harald+Nielsen%22'},\n",
       "   {u'name': u'Fnatic',\n",
       "    u'promoted_content': None,\n",
       "    u'query': u'Fnatic',\n",
       "    u'url': u'http://twitter.com/search?q=Fnatic'},\n",
       "   {u'name': u'Nash',\n",
       "    u'promoted_content': None,\n",
       "    u'query': u'Nash',\n",
       "    u'url': u'http://twitter.com/search?q=Nash'},\n",
       "   {u'name': u'kjeldsen',\n",
       "    u'promoted_content': None,\n",
       "    u'query': u'kjeldsen',\n",
       "    u'url': u'http://twitter.com/search?q=kjeldsen'}]}]"
      ]
     },
     "execution_count": 10,
     "metadata": {},
     "output_type": "execute_result"
    }
   ],
   "source": [
    "json"
   ]
  },
  {
   "cell_type": "markdown",
   "metadata": {},
   "source": [
    "**Ex 9c**: What are the names of the keys organizing the dictionary at position 0 in the list? (Just write the code to produce the answer.)"
   ]
  },
  {
   "cell_type": "code",
   "execution_count": 11,
   "metadata": {
    "collapsed": false
   },
   "outputs": [
    {
     "data": {
      "text/plain": [
       "[u'locations', u'created_at', u'trends', u'as_of']"
      ]
     },
     "execution_count": 11,
     "metadata": {},
     "output_type": "execute_result"
    }
   ],
   "source": [
    "json_pos0 = json[0]\n",
    "\n",
    "json_pos0.keys()"
   ]
  },
  {
   "cell_type": "markdown",
   "metadata": {},
   "source": [
    "**Ex 9d**: Two small questions \n",
    "* What time did I create the list of Trending Topics?\n",
    "* Print the names of the trending topics (bonus for using a list comprehension)\n",
    "\n",
    "(Just write the code to produce the answer.)"
   ]
  },
  {
   "cell_type": "code",
   "execution_count": 12,
   "metadata": {
    "collapsed": false
   },
   "outputs": [
    {
     "name": "stdout",
     "output_type": "stream",
     "text": [
      "The Trending Topics list was created at 2015-08-24T08:32:44Z\n",
      "Trending topics name :\n",
      "[u'#rfcvff', u'#EFBFCM', u'#bifsje', u'nordstrand', u'#WhyILoveLiam', u'#lv2015', u'Harald Nielsen', u'Fnatic', u'Nash', u'kjeldsen']\n"
     ]
    }
   ],
   "source": [
    "# We can access JSON values just like in a regular dictionary \n",
    "tt_time_created = json_pos0['created_at']\n",
    "print \"The Trending Topics list was created at %s\" % tt_time_created\n",
    "\n",
    "# Access the trends object \n",
    "trending_topics = json_pos0['trends']\n",
    "print \"Trending topics name :\"\n",
    "# For each trending topic, print its name \n",
    "print [trending_topic['name'] for trending_topic in trending_topics]"
   ]
  },
  {
   "cell_type": "markdown",
   "metadata": {},
   "source": [
    "**Ex 9e**: Two more small questions\n",
    "* Go on-line and figure out why there's a `u` in front of every string. Write the answer in your own words. (Hint it has to do with strings in Python).\n",
    "* What's going on with all of the `%22` and `%23`? Go on-line and figure it out. Write the answer in your own words. (Hint: It has to do with HTML URL encoding)"
   ]
  },
  {
   "cell_type": "markdown",
   "metadata": {},
   "source": [
    "*[Write your answer to **Ex 9e** here]*\n",
    "* The 'u' character that we find in front of every string means that the string is in Unicode representation. It enables to support a wide variety of characters, much more than ASCII. \n",
    "* URLs on the web are represented in ASCII format. Not all characters can be expressed in ASCII, thus URL encoding adds a \"%\" by two hexadecimal digits to represent those special characters. In our case, the %22 and %23 characters represent respectively a double quote and a hashtag (quite useful on Twitter :) ) "
   ]
  },
  {
   "cell_type": "code",
   "execution_count": null,
   "metadata": {
    "collapsed": true
   },
   "outputs": [],
   "source": []
  }
 ],
 "metadata": {
  "kernelspec": {
   "display_name": "Python [Root]",
   "language": "python",
   "name": "Python [Root]"
  },
  "language_info": {
   "codemirror_mode": {
    "name": "ipython",
    "version": 2
   },
   "file_extension": ".py",
   "mimetype": "text/x-python",
   "name": "python",
   "nbconvert_exporter": "python",
   "pygments_lexer": "ipython2",
   "version": "2.7.12"
  }
 },
 "nbformat": 4,
 "nbformat_minor": 0
}
